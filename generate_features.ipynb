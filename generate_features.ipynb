{
 "cells": [
  {
   "cell_type": "markdown",
   "metadata": {},
   "source": [
    "#### Adam Klie<br>04/08/2020\n",
    "## Process downloaded data into necessary qiime2 artifacts\n",
    "Use a bash Kernel<br>\n",
    "Turn the downloaded BIOM table into the necessary Qiime2 artifacts for analysis<br>\n",
    "Requires BIOM table download from download_data.ipynb notebook<br>\n",
    "Requires filtered-metadata table from filter_data.ipynb notebook"
   ]
  },
  {
   "cell_type": "code",
   "execution_count": 1,
   "metadata": {},
   "outputs": [],
   "source": [
    "# Navigate to desired directory\n",
    "cd /Users/adamklie/Desktop/rotations/knight_lab/projects/2020_04_06_PA_microbiome/data/test_subset"
   ]
  },
  {
   "cell_type": "markdown",
   "metadata": {},
   "source": [
    "### Generate FeatureTable[Frequency] artifacts from BIOM table"
   ]
  },
  {
   "cell_type": "code",
   "execution_count": 3,
   "metadata": {},
   "outputs": [
    {
     "name": "stdout",
     "output_type": "stream",
     "text": [
      "\u001b[32mImported exercise_samples.biom as BIOMV210Format to ./table.qza\u001b[0m\n",
      "\u001b[32mSaved FeatureTable[Frequency] to: filtered-table.qza\u001b[0m\n"
     ]
    }
   ],
   "source": [
    "# Generate FeatureTable[Frequency] artifact\n",
    "qiime tools import \\\n",
    "    --input-path exercise_samples.biom \\\n",
    "    --type 'FeatureTable[Frequency]' \\\n",
    "    --input-format BIOMV210Format \\\n",
    "    --output-path ./table.qza\n",
    "\n",
    "# Filter out based on \n",
    "qiime feature-table filter-samples \\\n",
    "  --i-table table.qza \\\n",
    "  --m-metadata-file filtered-metadata.tsv \\\n",
    "  --o-filtered-table filtered-table.qza"
   ]
  },
  {
   "cell_type": "markdown",
   "metadata": {},
   "source": [
    "### Generate FeatureData[Sequence] artifacts from BIOM table"
   ]
  },
  {
   "cell_type": "code",
   "execution_count": 4,
   "metadata": {},
   "outputs": [
    {
     "name": "stdout",
     "output_type": "stream",
     "text": [
      "\u001b[32mImported rep_seqs.fna as DNASequencesDirectoryFormat to rep-seqs.qza\u001b[0m\n",
      "\u001b[32mSaved FeatureData[Sequence] to: filtered-rep-seqs.qza\u001b[0m\n"
     ]
    }
   ],
   "source": [
    "# Generate FeatureData[Sequence] artifact\n",
    "biom summarize-table \\\n",
    "    --observations -i exercise_samples.biom \\\n",
    "    | tail -n +16 | awk -F ':' '{print \">\"$1\"\\n\"$1}' \\\n",
    "    > rep_seqs.fna\n",
    "    \n",
    "qiime tools import \\\n",
    "    --input-path rep_seqs.fna \\\n",
    "    --output-path rep-seqs.qza \\\n",
    "    --type FeatureData[Sequence]\n",
    "    \n",
    "# Filter out based on filter.ipynb output\n",
    "qiime feature-table filter-seqs \\\n",
    "  --i-data rep-seqs.qza \\\n",
    "  --i-table filtered-table.qza \\\n",
    "  --o-filtered-data filtered-rep-seqs.qza"
   ]
  },
  {
   "cell_type": "markdown",
   "metadata": {},
   "source": [
    "### Generate a tree with fragment insertion"
   ]
  },
  {
   "cell_type": "code",
   "execution_count": 5,
   "metadata": {},
   "outputs": [
    {
     "name": "stdout",
     "output_type": "stream",
     "text": [
      "--2020-04-23 10:12:55--  https://data.qiime2.org/2020.2/common/sepp-refs-gg-13-8.qza\n",
      "Resolving data.qiime2.org (data.qiime2.org)... 52.35.38.247\n",
      "Connecting to data.qiime2.org (data.qiime2.org)|52.35.38.247|:443... connected.\n",
      "HTTP request sent, awaiting response... 302 FOUND\n",
      "Location: https://s3-us-west-2.amazonaws.com/qiime2-data/2020.2/common/sepp-refs-gg-13-8.qza [following]\n",
      "--2020-04-23 10:12:55--  https://s3-us-west-2.amazonaws.com/qiime2-data/2020.2/common/sepp-refs-gg-13-8.qza\n",
      "Resolving s3-us-west-2.amazonaws.com (s3-us-west-2.amazonaws.com)... 52.218.253.8\n",
      "Connecting to s3-us-west-2.amazonaws.com (s3-us-west-2.amazonaws.com)|52.218.253.8|:443... connected.\n",
      "HTTP request sent, awaiting response... 200 OK\n",
      "Length: 50161069 (48M) [binary/octet-stream]\n",
      "Saving to: ‘sepp-refs-gg-13-8.qza’\n",
      "\n",
      "sepp-refs-gg-13-8.q 100%[===================>]  47.84M  14.8MB/s    in 3.6s    \n",
      "\n",
      "2020-04-23 10:12:59 (13.2 MB/s) - ‘sepp-refs-gg-13-8.qza’ saved [50161069/50161069]\n",
      "\n"
     ]
    }
   ],
   "source": [
    "wget https://data.qiime2.org/2020.2/common/sepp-refs-gg-13-8.qza"
   ]
  },
  {
   "cell_type": "code",
   "execution_count": 6,
   "metadata": {},
   "outputs": [
    {
     "name": "stdout",
     "output_type": "stream",
     "text": [
      "\u001b[32mSaved Phylogeny[Rooted] to: insertion-tree.qza\u001b[0m\n",
      "\u001b[32mSaved Placements to: insertion-placements.qza\u001b[0m\n"
     ]
    }
   ],
   "source": [
    "qiime fragment-insertion sepp \\\n",
    "    --i-representative-sequences filtered-rep-seqs.qza \\\n",
    "    --i-reference-database sepp-refs-gg-13-8.qza \\\n",
    "    --p-threads 4 \\\n",
    "    --o-tree insertion-tree.qza \\\n",
    "    --o-placements insertion-placements.qza"
   ]
  },
  {
   "cell_type": "code",
   "execution_count": 7,
   "metadata": {},
   "outputs": [
    {
     "name": "stdout",
     "output_type": "stream",
     "text": [
      "\u001b[32mSaved FeatureTable[Frequency] to: insertion-filtered-table.qza\u001b[0m\n",
      "\u001b[32mSaved FeatureTable[Frequency] to: insertion-removed-table.qza\u001b[0m\n"
     ]
    }
   ],
   "source": [
    "qiime fragment-insertion filter-features \\\n",
    "    --i-table filtered-table.qza \\\n",
    "    --i-tree insertion-tree.qza \\\n",
    "    --o-filtered-table insertion-filtered-table.qza \\\n",
    "    --o-removed-table insertion-removed-table.qza"
   ]
  },
  {
   "cell_type": "markdown",
   "metadata": {},
   "source": [
    "### Generate a de novo tree with MAFFT"
   ]
  },
  {
   "cell_type": "code",
   "execution_count": 8,
   "metadata": {},
   "outputs": [
    {
     "name": "stdout",
     "output_type": "stream",
     "text": [
      "\u001b[32mSaved FeatureData[AlignedSequence] to: aligned-rep-seqs.qza\u001b[0m\n",
      "\u001b[32mSaved FeatureData[AlignedSequence] to: masked-aligned-rep-seqs.qza\u001b[0m\n",
      "\u001b[32mSaved Phylogeny[Unrooted] to: unrooted-tree.qza\u001b[0m\n",
      "\u001b[32mSaved Phylogeny[Rooted] to: rooted-tree.qza\u001b[0m\n"
     ]
    }
   ],
   "source": [
    "qiime phylogeny align-to-tree-mafft-fasttree \\\n",
    "  --i-sequences filtered-rep-seqs.qza \\\n",
    "  --o-alignment aligned-rep-seqs.qza \\\n",
    "  --o-masked-alignment masked-aligned-rep-seqs.qza \\\n",
    "  --o-tree unrooted-tree.qza \\\n",
    "  --o-rooted-tree rooted-tree.qza"
   ]
  },
  {
   "cell_type": "code",
   "execution_count": 9,
   "metadata": {},
   "outputs": [
    {
     "name": "stdout",
     "output_type": "stream",
     "text": [
      "\u001b[32mSaved FeatureTable[Frequency] to: rooted-tree-table.qza\u001b[0m\n"
     ]
    }
   ],
   "source": [
    "qiime phylogeny filter-table \\\n",
    "    --i-table filtered-table.qza \\\n",
    "    --i-tree rooted-tree.qza \\\n",
    "    --o-filtered-table rooted-tree-table.qza"
   ]
  },
  {
   "cell_type": "markdown",
   "metadata": {},
   "source": [
    "## Generate classifier and assign taxonomy\n",
    "May want to follow tutorial here: https://forum.qiime2.org/t/using-q2-clawback-to-assemble-taxonomic-weights/5859<br>\n",
    "Downloaded from: https://github.com/BenKaehler/readytowear/blob/master/inventory.tsv"
   ]
  },
  {
   "cell_type": "code",
   "execution_count": null,
   "metadata": {},
   "outputs": [],
   "source": [
    "#wget -O $data_dir'human-stool.qza' \\\n",
    "#https://github.com/BenKaehler/readytowear/raw/master/data/gg_13_8/515f-806r/human-stool.qza"
   ]
  },
  {
   "cell_type": "code",
   "execution_count": null,
   "metadata": {},
   "outputs": [],
   "source": [
    "#wget -O $data_dir'ref-seqs-v4.qza' \\\n",
    "#https://github.com/BenKaehler/readytowear/raw/master/data/gg_13_8/515f-806r/ref-seqs-v4.qza"
   ]
  },
  {
   "cell_type": "code",
   "execution_count": null,
   "metadata": {},
   "outputs": [],
   "source": [
    "#wget -O $data_dir'ref-tax.qza' \\\n",
    "#https://github.com/BenKaehler/readytowear/raw/master/data/gg_13_8/515f-806r/ref-tax.qza"
   ]
  },
  {
   "cell_type": "code",
   "execution_count": 2,
   "metadata": {},
   "outputs": [],
   "source": [
    "qiime feature-classifier fit-classifier-naive-bayes \\\n",
    "    --i-reference-reads ref-seqs-v4.qza \\\n",
    "    --i-reference-taxonomy ref-tax.qza \\\n",
    "    --i-class-weight human-stool.qza \\\n",
    "    --o-classifier gg138_v4_human-stool_classifier.qza"
   ]
  },
  {
   "cell_type": "code",
   "execution_count": 3,
   "metadata": {},
   "outputs": [
    {
     "name": "stdout",
     "output_type": "stream",
     "text": [
      "\u001b[32mSaved FeatureData[Taxonomy] to: bespoke-taxonomy.qza\u001b[0m\n"
     ]
    }
   ],
   "source": [
    "qiime feature-classifier classify-sklearn \\\n",
    "    --i-reads filtered-rep-seqs.qza \\\n",
    "    --i-classifier gg138_v4_human-stool_classifier.qza \\\n",
    "    --o-classification bespoke-taxonomy.qza"
   ]
  }
 ],
 "metadata": {
  "kernelspec": {
   "display_name": "Bash",
   "language": "bash",
   "name": "bash"
  },
  "language_info": {
   "codemirror_mode": "shell",
   "file_extension": ".sh",
   "mimetype": "text/x-sh",
   "name": "bash"
  }
 },
 "nbformat": 4,
 "nbformat_minor": 4
}
