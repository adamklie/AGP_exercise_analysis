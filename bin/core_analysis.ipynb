{
 "cells": [
  {
   "cell_type": "markdown",
   "metadata": {},
   "source": [
    "#### Adam Klie<br>05/07/2020\n",
    "# Perform core microbiome analyses in Qiime2\n",
    "1. Taxonomic classification\n",
    "2. Rarefaction plots\n",
    "3. Core diversity\n",
    "4. Diffential abundance\n",
    "5. Compositionally aware diversity\n",
    "6. Sample classification"
   ]
  },
  {
   "cell_type": "code",
   "execution_count": 1,
   "metadata": {},
   "outputs": [],
   "source": [
    "import os\n",
    "import qiime2\n",
    "import warnings\n",
    "warnings.filterwarnings('ignore')\n",
    "from qiime2.plugins import feature_table, taxa, diversity, songbird, metadata, deicode, emperor, qurro, sample_classifier"
   ]
  },
  {
   "cell_type": "markdown",
   "metadata": {},
   "source": [
    "## Directory set-up and data loading"
   ]
  },
  {
   "cell_type": "code",
   "execution_count": 3,
   "metadata": {},
   "outputs": [],
   "source": [
    "# Data and results directories\n",
    "data_dir = '../data/full/2020_05_11'\n",
    "results_dir = '../results/full/2020_05_11'"
   ]
  },
  {
   "cell_type": "code",
   "execution_count": 4,
   "metadata": {},
   "outputs": [],
   "source": [
    "# Specify already created results directories\n",
    "tax_dir = '{}/taxonomy'.format(results_dir)\n",
    "table_dir = '{}/feature_tables'.format(results_dir)\n",
    "tree_dir = '{}/fragment_insertion'.format(results_dir)"
   ]
  },
  {
   "cell_type": "code",
   "execution_count": 5,
   "metadata": {},
   "outputs": [],
   "source": [
    "# Specify new result directories\n",
    "diversity_dir = '{}/diversity'.format(results_dir)\n",
    "if not os.path.exists(diversity_dir): \n",
    "    os.makedirs(diversity_dir)\n",
    "    \n",
    "diff_dir = '{}/differential_abundance'.format(results_dir)\n",
    "if not os.path.exists(diff_dir): \n",
    "    os.makedirs(diff_dir)\n",
    "    \n",
    "class_dir = '{}/sample_classification'.format(results_dir)\n",
    "if not os.path.exists(class_dir): \n",
    "    os.makedirs(class_dir)"
   ]
  },
  {
   "cell_type": "code",
   "execution_count": 6,
   "metadata": {},
   "outputs": [],
   "source": [
    "# Load feature table and meta_data\n",
    "f_table = qiime2.Artifact.load('{}/insertion-table.qza'.format(table_dir))\n",
    "meta_data = qiime2.Metadata.load('{}/metadata.tsv'.format(data_dir)) "
   ]
  },
  {
   "cell_type": "code",
   "execution_count": 7,
   "metadata": {},
   "outputs": [],
   "source": [
    "# Filter meta_data for faster plotting\n",
    "filtered_meta_data = qiime2.Metadata(meta_data.to_dataframe()[[\"age_corrected\", \"sex\", \"body_site\", \n",
    "                                                               \"sample_type\", \"bmi_corrected\", \"exercise_frequency\", \n",
    "                                                               \"country\", \"race\",  \"diet_type\"]])"
   ]
  },
  {
   "cell_type": "markdown",
   "metadata": {},
   "source": [
    "## Taxonomy analysis\n",
    " - Inputs: \n",
    "     - insertion-table.qza (FeatureData[Frequency] artifact)\n",
    "     - bespoke-taxonomy.qza (FeatureData[Taxonomy] artifact)\n",
    "     - metadata.tsv (tab seperated table)\n",
    " - Outputs: \n",
    "     - taxa-bar-plot.qzv (Visualization)\n",
    " - Plugins: \n",
    "     - taxa"
   ]
  },
  {
   "cell_type": "code",
   "execution_count": 8,
   "metadata": {},
   "outputs": [],
   "source": [
    "# Load taxonomy artifact\n",
    "taxonomic_class = qiime2.Artifact.load('{}/bespoke-taxonomy.qza'.format(tax_dir))"
   ]
  },
  {
   "cell_type": "code",
   "execution_count": 10,
   "metadata": {},
   "outputs": [],
   "source": [
    "# Generate barplot of taxa\n",
    "taxonomic_class_vis = taxa.visualizers.barplot(table=f_table,\n",
    "                                               taxonomy=taxonomic_class,\n",
    "                                               metadata=meta_data)\n",
    "#taxonomic_class_vis.visualization"
   ]
  },
  {
   "cell_type": "code",
   "execution_count": 11,
   "metadata": {},
   "outputs": [
    {
     "data": {
      "text/plain": [
       "'../results/test/2020_05_14/taxonomy/taxa-bar-plot.qzv'"
      ]
     },
     "execution_count": 11,
     "metadata": {},
     "output_type": "execute_result"
    }
   ],
   "source": [
    "# Save the barplot as visualization\n",
    "taxonomic_class_vis.visualization.save('{}/taxa-bar-plot.qzv'.format(tax_dir))"
   ]
  },
  {
   "cell_type": "markdown",
   "metadata": {},
   "source": [
    "## Rarefaction plots\n",
    " - Inputs: \n",
    "     - insertion-table.qza (FeatureData[Frequency] artifact)\n",
    "     - sepp-tree.qza (Phylogeny[Rooted] artifact)\n",
    "     - metadata.tsv (tab seperated table) -- highly recommend using filtered metadata here\n",
    " - Outputs: \n",
    "     - alpha-rarefaction.qzv (Visualization)\n",
    " - Plugins: \n",
    "     - diversity"
   ]
  },
  {
   "cell_type": "code",
   "execution_count": 12,
   "metadata": {},
   "outputs": [],
   "source": [
    "# Load the insertion tree\n",
    "tree = qiime2.Artifact.load('{}/sepp-tree.qza'.format(tree_dir))"
   ]
  },
  {
   "cell_type": "code",
   "execution_count": 14,
   "metadata": {},
   "outputs": [],
   "source": [
    "# Create rarefaction plots, takes about 4 minutes with ~30 samples and 9 metadata columns\n",
    "alpha_rarefaction_vis = diversity.visualizers.alpha_rarefaction(table=f_table,\n",
    "                                                                max_depth=10000,\n",
    "                                                                phylogeny=tree,\n",
    "                                                                metadata=filtered_meta_data)\n",
    "#alpha_rarefaction_vis.visualization"
   ]
  },
  {
   "cell_type": "code",
   "execution_count": 41,
   "metadata": {},
   "outputs": [
    {
     "data": {
      "text/plain": [
       "'../results/test/2020_05_06/diversity/alpha-rarefaction.qzv'"
      ]
     },
     "execution_count": 41,
     "metadata": {},
     "output_type": "execute_result"
    }
   ],
   "source": [
    "# Save the visualization\n",
    "alpha_rarefaction_vis.visualization.save('{}/alpha-rarefaction.qzv'.format(diversity_dir))"
   ]
  },
  {
   "cell_type": "markdown",
   "metadata": {},
   "source": [
    "## Core diversity\n",
    " - Inputs: \n",
    "     - insertion-table.qza (FeatureData[Frequency] artifact)\n",
    "     - sepp-tree.qza (Phylogeny[Rooted] artifact)\n",
    "     - metadata.tsv (tab seperated table) -- highly recommend using filtered metadata here\n",
    " - Outputs: \n",
    "     - rarefied-table.qza (FeatureTable[Frequency]\n",
    "     - rarefied-table.qzv (Visualization)\n",
    "     - shannon-vector.qza SampleData[AlphaDiversity]\n",
    "     - faith-pd-vector.qza SampleData[AlphaDiversity]\n",
    "     - faith-pd-group-significance.qzv (Visualization)\n",
    "     - uw-unifrac-exercise-significance.qzv (Visualization)\n",
    "     - uw-unifrac-emperor.qzv (Visualization)\n",
    " - Plugins: \n",
    "     - diversity\n",
    "     - feature-table"
   ]
  },
  {
   "cell_type": "code",
   "execution_count": 15,
   "metadata": {},
   "outputs": [],
   "source": [
    "# Depth to rarefy to, will lose all samples below this depth and sample from those above\n",
    "depth = 5000"
   ]
  },
  {
   "cell_type": "code",
   "execution_count": 20,
   "metadata": {},
   "outputs": [],
   "source": [
    "# Perform core diversity analysis\n",
    "core_diversity = diversity.pipelines.core_metrics_phylogenetic(table=f_table,\n",
    "                                                               phylogeny=tree,\n",
    "                                                               sampling_depth=depth,\n",
    "                                                               metadata=filtered_meta_data,\n",
    "                                                               n_jobs=2)"
   ]
  },
  {
   "cell_type": "code",
   "execution_count": 21,
   "metadata": {},
   "outputs": [],
   "source": [
    "# Visualize the rarefied feature table used for analysis\n",
    "rarefied_table_vis = feature_table.visualizers.summarize(table=core_diversity.rarefied_table, \n",
    "                                                         sample_metadata=filtered_meta_data)"
   ]
  },
  {
   "cell_type": "code",
   "execution_count": 22,
   "metadata": {},
   "outputs": [
    {
     "data": {
      "text/plain": [
       "'../results/test/2020_05_14/diversity/uw-unifrac-distance-matrix.qza'"
      ]
     },
     "execution_count": 22,
     "metadata": {},
     "output_type": "execute_result"
    }
   ],
   "source": [
    "# Save vectors and rarefied table\n",
    "core_diversity.rarefied_table.save('{}/rarefied-table.qza'.format(table_dir))\n",
    "rarefied_table_vis.visualization.save('{}/rarefied-table.qzv'.format(table_dir))\n",
    "core_diversity.shannon_vector.save('{}/shannon-vector.qza'.format(diversity_dir))\n",
    "core_diversity.faith_pd_vector.save('{}/faith-pd-vector.qza'.format(diversity_dir))\n",
    "core_diversity.unweighted_unifrac_distance_matrix.save('{}/uw-unifrac-distance-matrix.qza'.format(diversity_dir))"
   ]
  },
  {
   "cell_type": "markdown",
   "metadata": {},
   "source": [
    "### A. Alpha diversity significance testing\n",
    "As recommended by Bod, test alpha significance for shannon diversity and faith's pd\n",
    " - Input\n",
    "     - shannon-vector.qza (SampleData[AlphaDiversity])\n",
    "     - faith-pd-vector.qza (SampleData[AlphaDiversity])\n",
    " - Output\n",
    "     - shannon-group-significance.qzv (Visualization)\n",
    "     - faith-pd-group-significance.qzv (Visualization)\n",
    " - Plugin\n",
    "     - diversity"
   ]
  },
  {
   "cell_type": "code",
   "execution_count": 23,
   "metadata": {},
   "outputs": [],
   "source": [
    "# Test and visualize shannon diversity for group significance\n",
    "shannon_div = diversity.visualizers.alpha_group_significance(alpha_diversity=core_diversity.shannon_vector, \n",
    "                                                             metadata=filtered_meta_data)\n",
    "#shannon_div.visualization"
   ]
  },
  {
   "cell_type": "code",
   "execution_count": 24,
   "metadata": {},
   "outputs": [],
   "source": [
    "# Test and visualize faith's pd diversity for group significance\n",
    "faiths_div = diversity.visualizers.alpha_group_significance(alpha_diversity=core_diversity.faith_pd_vector, metadata= filtered_meta_data)\n",
    "#faiths_div.visualization"
   ]
  },
  {
   "cell_type": "code",
   "execution_count": 25,
   "metadata": {},
   "outputs": [
    {
     "data": {
      "text/plain": [
       "'../results/test/2020_05_14/diversity/faith-pd-group-significance.qzv'"
      ]
     },
     "execution_count": 25,
     "metadata": {},
     "output_type": "execute_result"
    }
   ],
   "source": [
    "# Save significance visualizations\n",
    "shannon_div.visualization.save('{}/shannon-group-significance.qzv'.format(diversity_dir))\n",
    "faiths_div.visualization.save('{}/faith-pd-group-significance.qzv'.format(diversity_dir))"
   ]
  },
  {
   "cell_type": "markdown",
   "metadata": {},
   "source": [
    "### B. Beta diversity significance testing\n",
    "As recommended by Bod, test beta diversity significance using unweighted unifrac and visualize emperor plor\n",
    " - Input\n",
    "     - uw-unifrac-distance-matrix.qza (DistanceMatrix % Properties('phylogenetic'))\n",
    "     - metadata.tsv (tab seperated table)\n",
    " - Output\n",
    "     - uw-unifrac-exercise-significance/qzv (Visualization)\n",
    "     - uw-unifrac-emperor.qzv (Visualization)\n",
    " - Plugin\n",
    "     - diversity"
   ]
  },
  {
   "cell_type": "code",
   "execution_count": 26,
   "metadata": {},
   "outputs": [],
   "source": [
    "# Remove '/' in exercise column values (https://forum.qiime2.org/t/plugin-error-from-diversity-alpha-rarefaction/4548/4)\n",
    "tmp_df = filtered_meta_data.to_dataframe()\n",
    "tmp_df['exercise_frequency'] = tmp_df['exercise_frequency'].map(lambda x: str(x).replace('/', ' a '))\n",
    "filtered_meta_data = qiime2.Metadata(tmp_df)"
   ]
  },
  {
   "cell_type": "code",
   "execution_count": 27,
   "metadata": {},
   "outputs": [],
   "source": [
    "# Test and visualize unweighted unifrac for group significance\n",
    "uw_unifrac_div = diversity.visualizers.beta_group_significance(core_diversity.unweighted_unifrac_distance_matrix,\n",
    "                                                               metadata=filtered_meta_data.get_column('exercise_frequency'),\n",
    "                                                               pairwise=True)\n",
    "#uw_unifrac_div.visualization"
   ]
  },
  {
   "cell_type": "code",
   "execution_count": 28,
   "metadata": {},
   "outputs": [],
   "source": [
    "# Visualize emperoro plot of unweighted unifrac\n",
    "#core_diversity.unweighted_unifrac_emperor"
   ]
  },
  {
   "cell_type": "code",
   "execution_count": 29,
   "metadata": {},
   "outputs": [
    {
     "data": {
      "text/plain": [
       "'../results/test/2020_05_14/diversity/uw-unifrac-emperor.qzv'"
      ]
     },
     "execution_count": 29,
     "metadata": {},
     "output_type": "execute_result"
    }
   ],
   "source": [
    "# Save the group significance and emperor visualizations\n",
    "uw_unifrac_div.visualization.save('{}/uw-unifrac-exercise-significance.qzv'.format(diversity_dir))\n",
    "core_diversity.unweighted_unifrac_emperor.save('{}/uw-unifrac-emperor.qzv'.format(diversity_dir))"
   ]
  },
  {
   "cell_type": "markdown",
   "metadata": {},
   "source": [
    "### C. Beta diversity significance testing with confounders using ADONIS\n",
    "As recommended by Bod, test beta diversity significance using ADONIS for confounders\n",
    " - Input\n",
    "     - uw-unifrac-distance-matrix.qza\n",
    " - Output\n",
    "     - adonis-exercise-significance.qzv\n",
    " - Plugin\n",
    "     - diversity\n",
    " - TODO\n",
    "     - Decide a formula\n",
    " - Help"
   ]
  },
  {
   "cell_type": "code",
   "execution_count": 31,
   "metadata": {},
   "outputs": [
    {
     "name": "stdout",
     "output_type": "stream",
     "text": [
      "Running external command line application. This may print messages to stdout and/or stderr.\n",
      "The command being run is below. This command cannot be manually re-run as it will depend on temporary files that no longer exist.\n",
      "\n",
      "Command: run_adonis.R /var/folders/tm/f8q3_wcj5s98dwjv86bvq7hr0000gn/T/tmp5286czre/dm.tsv /var/folders/tm/f8q3_wcj5s98dwjv86bvq7hr0000gn/T/tmp5286czre/md.tsv exercise_frequency+sex 999 1 /var/folders/tm/f8q3_wcj5s98dwjv86bvq7hr0000gn/T/qiime2-temp-t_mzesix/adonis.tsv\n",
      "\n"
     ]
    }
   ],
   "source": [
    "# Perform covariate aware PERMANOVA\n",
    "adonis_vis = diversity.visualizers.adonis(distance_matrix=core_diversity.unweighted_unifrac_distance_matrix,\n",
    "                                          metadata=filtered_meta_data,\n",
    "                                          formula=\"exercise_frequency+sex\")\n",
    "#adonis_vis.visualization"
   ]
  },
  {
   "cell_type": "code",
   "execution_count": 32,
   "metadata": {},
   "outputs": [
    {
     "data": {
      "text/plain": [
       "'../results/test/2020_05_14/diversity/adonis-exercise-significance.qzv'"
      ]
     },
     "execution_count": 32,
     "metadata": {},
     "output_type": "execute_result"
    }
   ],
   "source": [
    "# Save the visualization\n",
    "adonis_vis.visualization.save('{}/adonis-exercise-significance.qzv'.format(diversity_dir))"
   ]
  },
  {
   "cell_type": "markdown",
   "metadata": {},
   "source": [
    "### D. Compositionally aware beta diversity using DEICODE \n",
    " - Input\n",
    "     - insertion-table.qza\n",
    " - Output\n",
    "     - deicode-biplot.qza\n",
    "     - deicode-distance-matrix.qza\n",
    "     - deicode-emperor.qzv\n",
    "     - deicode-exercise-significance.qzv\n",
    " - Plugins\n",
    "     - deicode\n",
    "     - diversity\n",
    " - TODO\n",
    "     - \n",
    " - Help\n",
    "     - https://library.qiime2.org/plugins/deicode/19/\n",
    "     - https://github.com/biocore/DEICODE\n",
    "     - https://forum.qiime2.org/t/robust-aitchison-pca-beta-diversity-with-deicode/8333\n",
    "     - https://nbviewer.jupyter.org/github/biocore/DEICODE/blob/master/ipynb/tutorials/moving-pictures.ipynb\n",
    "     - https://nbviewer.jupyter.org/github/biocore/DEICODE/blob/master/ipynb/tutorials/moving-pictures-standalone-cli-and-api.ipynb"
   ]
  },
  {
   "cell_type": "code",
   "execution_count": 33,
   "metadata": {},
   "outputs": [],
   "source": [
    "# Make a deicode subdirectory\n",
    "deicode_dir = '{}/deicode'.format(diversity_dir)\n",
    "if not os.path.exists(deicode_dir): \n",
    "    os.makedirs(deicode_dir)"
   ]
  },
  {
   "cell_type": "code",
   "execution_count": 34,
   "metadata": {},
   "outputs": [],
   "source": [
    "# Run robust Atchison PCA\n",
    "deicode_result = deicode.methods.auto_rpca(table=f_table)"
   ]
  },
  {
   "cell_type": "code",
   "execution_count": 35,
   "metadata": {},
   "outputs": [],
   "source": [
    "# Visualize the PCoA biplot generated\n",
    "feature_meta_data = taxonomic_class.view(qiime2.Metadata)\n",
    "deicode_vis = emperor.visualizers.biplot(biplot=deicode_result.biplot, \n",
    "                                         sample_metadata=filtered_meta_data, \n",
    "                                         feature_metadata=feature_meta_data)\n",
    "#deicode_vis.visualization"
   ]
  },
  {
   "cell_type": "code",
   "execution_count": 36,
   "metadata": {},
   "outputs": [],
   "source": [
    "# Perform PERMANOVA on exercise frequency\n",
    "deicode_sig = diversity.visualizers.beta_group_significance(distance_matrix=deicode_result.distance_matrix,\n",
    "                                                           metadata=filtered_meta_data.get_column('exercise_frequency'),\n",
    "                                                           method='permanova')\n",
    "#deicode_sig.visualization"
   ]
  },
  {
   "cell_type": "code",
   "execution_count": 38,
   "metadata": {},
   "outputs": [
    {
     "data": {
      "text/plain": [
       "'../results/test/2020_05_14/diversity/deicode/deicode-exercise-significance.qzv'"
      ]
     },
     "execution_count": 38,
     "metadata": {},
     "output_type": "execute_result"
    }
   ],
   "source": [
    "# Save results and visualization\n",
    "deicode_result.biplot.save('{}/deicode-biplot.qza'.format(deicode_dir))\n",
    "deicode_result.distance_matrix.save('{}/deicode-distance-matrix.qza'.format(deicode_dir))\n",
    "deicode_vis.visualization.save('{}/deicode-emperor.qzv'.format(deicode_dir))\n",
    "deicode_sig.visualization.save('{}/deicode-exercise-significance.qzv'.format(deicode_dir))"
   ]
  },
  {
   "cell_type": "markdown",
   "metadata": {},
   "source": [
    "## Calculating differential abundance with Songbird\n",
    " - Input\n",
    "     - insertion-table.qza (FeatureTable[Frequency])\n",
    "     - metadata.tsv\n",
    "     - formula (String)\n",
    " - Output\n",
    "     - regression-stats.qza (SampleData[SongbirdStats])\n",
    "     - regression-stats.qzv (Visualization)\n",
    "     - differentials.qza (FeatureData[Differential])\n",
    "     - differentials.qzv (Visualization)\n",
    " - TODO\n",
    "     - When running full dataset, will need fine tune error curves\n",
    "     - Will need to decide exactly what formula I want (necessary covariates for baseline, add exercise for test\n",
    "     - Question we are trying to answer is does adding exercise_frequency contribute to taxa abundance prediction\n",
    "     - Fully understand differential abundances table\n",
    " - Help\n",
    "     - https://github.com/biocore/songbird/\n",
    "     - https://github.com/biocore/songbird/issues/126\n",
    "     - https://github.com/knightlab-analyses/reference-frames"
   ]
  },
  {
   "cell_type": "code",
   "execution_count": 40,
   "metadata": {},
   "outputs": [
    {
     "name": "stdout",
     "output_type": "stream",
     "text": [
      "WARNING:tensorflow:From /Users/adamklie/anaconda3/envs/qiime2-2020.2/lib/python3.6/site-packages/songbird/q2/_method.py:61: The name tf.Session is deprecated. Please use tf.compat.v1.Session instead.\n",
      "\n",
      "WARNING:tensorflow:From /Users/adamklie/anaconda3/envs/qiime2-2020.2/lib/python3.6/site-packages/songbird/q2/_method.py:62: The name tf.set_random_seed is deprecated. Please use tf.compat.v1.set_random_seed instead.\n",
      "\n",
      "WARNING:tensorflow:From /Users/adamklie/anaconda3/envs/qiime2-2020.2/lib/python3.6/site-packages/songbird/multinomial.py:70: multinomial (from tensorflow.python.ops.random_ops) is deprecated and will be removed in a future version.\n",
      "Instructions for updating:\n",
      "Use `tf.random.categorical` instead.\n",
      "WARNING:tensorflow:From /Users/adamklie/anaconda3/envs/qiime2-2020.2/lib/python3.6/site-packages/songbird/multinomial.py:81: The name tf.random_normal is deprecated. Please use tf.random.normal instead.\n",
      "\n",
      "WARNING:tensorflow:From /Users/adamklie/anaconda3/envs/qiime2-2020.2/lib/python3.6/site-packages/songbird/multinomial.py:86: Normal.__init__ (from tensorflow.python.ops.distributions.normal) is deprecated and will be removed after 2019-01-01.\n",
      "Instructions for updating:\n",
      "The TensorFlow Distributions library has moved to TensorFlow Probability (https://github.com/tensorflow/probability). You should update all references to use `tfp.distributions` instead of `tf.distributions`.\n",
      "WARNING:tensorflow:From /Users/adamklie/anaconda3/envs/qiime2-2020.2/lib/python3.6/site-packages/tensorflow_core/python/ops/distributions/normal.py:160: Distribution.__init__ (from tensorflow.python.ops.distributions.distribution) is deprecated and will be removed after 2019-01-01.\n",
      "Instructions for updating:\n",
      "The TensorFlow Distributions library has moved to TensorFlow Probability (https://github.com/tensorflow/probability). You should update all references to use `tfp.distributions` instead of `tf.distributions`.\n",
      "WARNING:tensorflow:From /Users/adamklie/anaconda3/envs/qiime2-2020.2/lib/python3.6/site-packages/songbird/multinomial.py:95: Multinomial.__init__ (from tensorflow.python.ops.distributions.multinomial) is deprecated and will be removed after 2019-01-01.\n",
      "Instructions for updating:\n",
      "The TensorFlow Distributions library has moved to TensorFlow Probability (https://github.com/tensorflow/probability). You should update all references to use `tfp.distributions` instead of `tf.distributions`.\n",
      "WARNING:tensorflow:From /Users/adamklie/anaconda3/envs/qiime2-2020.2/lib/python3.6/site-packages/songbird/multinomial.py:110: The name tf.summary.scalar is deprecated. Please use tf.compat.v1.summary.scalar instead.\n",
      "\n",
      "WARNING:tensorflow:From /Users/adamklie/anaconda3/envs/qiime2-2020.2/lib/python3.6/site-packages/songbird/multinomial.py:116: The name tf.train.AdamOptimizer is deprecated. Please use tf.compat.v1.train.AdamOptimizer instead.\n",
      "\n",
      "WARNING:tensorflow:From /Users/adamklie/anaconda3/envs/qiime2-2020.2/lib/python3.6/site-packages/tensorflow_core/python/ops/clip_ops.py:301: where (from tensorflow.python.ops.array_ops) is deprecated and will be removed in a future version.\n",
      "Instructions for updating:\n",
      "Use tf.where in 2.0, which has the same broadcast rule as np.where\n",
      "WARNING:tensorflow:From /Users/adamklie/anaconda3/envs/qiime2-2020.2/lib/python3.6/site-packages/songbird/multinomial.py:124: The name tf.summary.histogram is deprecated. Please use tf.compat.v1.summary.histogram instead.\n",
      "\n",
      "WARNING:tensorflow:From /Users/adamklie/anaconda3/envs/qiime2-2020.2/lib/python3.6/site-packages/songbird/multinomial.py:125: The name tf.summary.merge_all is deprecated. Please use tf.compat.v1.summary.merge_all instead.\n",
      "\n",
      "WARNING:tensorflow:From /Users/adamklie/anaconda3/envs/qiime2-2020.2/lib/python3.6/site-packages/songbird/multinomial.py:131: The name tf.global_variables_initializer is deprecated. Please use tf.compat.v1.global_variables_initializer instead.\n",
      "\n",
      "WARNING:tensorflow:From /Users/adamklie/anaconda3/envs/qiime2-2020.2/lib/python3.6/site-packages/songbird/multinomial.py:163: The name tf.train.Saver is deprecated. Please use tf.compat.v1.train.Saver instead.\n",
      "\n"
     ]
    },
    {
     "name": "stderr",
     "output_type": "stream",
     "text": [
      "  0%|          | 0/6000 [00:00<?, ?it/s]"
     ]
    },
    {
     "name": "stdout",
     "output_type": "stream",
     "text": [
      "WARNING:tensorflow:From /Users/adamklie/anaconda3/envs/qiime2-2020.2/lib/python3.6/site-packages/songbird/multinomial.py:177: The name tf.RunOptions is deprecated. Please use tf.compat.v1.RunOptions instead.\n",
      "\n",
      "WARNING:tensorflow:From /Users/adamklie/anaconda3/envs/qiime2-2020.2/lib/python3.6/site-packages/songbird/multinomial.py:179: The name tf.RunMetadata is deprecated. Please use tf.compat.v1.RunMetadata instead.\n",
      "\n"
     ]
    },
    {
     "name": "stderr",
     "output_type": "stream",
     "text": [
      "100%|██████████| 6000/6000 [00:11<00:00, 524.90it/s]\n"
     ]
    }
   ],
   "source": [
    "# Model with exercise_frequency as covariate\n",
    "songbird_result = songbird.methods.multinomial(table=f_table,\n",
    "                                               metadata=filtered_meta_data,\n",
    "                                               formula=\"exercise_frequency\",\n",
    "                                               epochs=1000,\n",
    "                                               differential_prior=0.1,\n",
    "                                               summary_interval=1)"
   ]
  },
  {
   "cell_type": "code",
   "execution_count": 42,
   "metadata": {},
   "outputs": [
    {
     "name": "stderr",
     "output_type": "stream",
     "text": [
      "100%|██████████| 6000/6000 [00:12<00:00, 480.21it/s]\n"
     ]
    }
   ],
   "source": [
    "# Null model\n",
    "null_result = songbird.methods.multinomial(table=f_table,\n",
    "                                           metadata=filtered_meta_data,\n",
    "                                           formula=\"1\",\n",
    "                                           epochs=1000,\n",
    "                                           differential_prior=0.1,\n",
    "                                           summary_interval=1)"
   ]
  },
  {
   "cell_type": "code",
   "execution_count": 43,
   "metadata": {},
   "outputs": [],
   "source": [
    "# Visualize error curves for baseline vs model\n",
    "songbird_vis = songbird.visualizers.summarize_paired(regression_stats=songbird_result.regression_stats, \n",
    "                                                     baseline_stats=null_result.regression_stats)\n",
    "#songbird_vis.visualization"
   ]
  },
  {
   "cell_type": "code",
   "execution_count": 44,
   "metadata": {},
   "outputs": [],
   "source": [
    "# Visualize the differential abundances via a table\n",
    "differentials = metadata.visualizers.tabulate(songbird_result.differentials.view(qiime2.Metadata))\n",
    "#differentials.visualization"
   ]
  },
  {
   "cell_type": "code",
   "execution_count": 45,
   "metadata": {},
   "outputs": [
    {
     "data": {
      "text/plain": [
       "'../results/test/2020_05_14/differential_abundance/differentials.qzv'"
      ]
     },
     "execution_count": 45,
     "metadata": {},
     "output_type": "execute_result"
    }
   ],
   "source": [
    "# Save error plots and differentials\n",
    "songbird_result.regression_stats.save('{}/regression-stats'.format(diff_dir))\n",
    "songbird_vis.visualization.save('{}/regression-stats'.format(diff_dir))\n",
    "songbird_result.differentials.save('{}/differentials'.format(diff_dir))\n",
    "differentials.visualization.save('{}/differentials'.format(diff_dir))"
   ]
  },
  {
   "cell_type": "markdown",
   "metadata": {},
   "source": [
    "## Visualizing differential abundance with Qurro\n",
    " - Input\n",
    "     - deicode-distance-matrix.qza ()\n",
    "     - differentials.qza ()\n",
    " - Output\n",
    "     - qurro-deicode-plot.qzv\n",
    "     - qurro-songbird-plot.qzv\n",
    " - Plugin\n",
    "     - qurro\n",
    " - TODO\n",
    "     - Better understand what I can do with this, may be more use case specific\n",
    " - Help\n",
    "     - https://github.com/biocore/qurro\n",
    "     - https://nbviewer.jupyter.org/github/biocore/qurro/blob/master/example_notebooks/moving_pictures/moving_pictures.ipynb"
   ]
  },
  {
   "cell_type": "code",
   "execution_count": 46,
   "metadata": {},
   "outputs": [
    {
     "name": "stdout",
     "output_type": "stream",
     "text": [
      "912 feature(s) in the BIOM table were not present in the feature rankings.\n",
      "These feature(s) have been removed from the visualization.\n",
      "62 sample(s) in the sample metadata file were not present in the BIOM table.\n",
      "These sample(s) have been removed from the visualization.\n"
     ]
    }
   ],
   "source": [
    "# DEICODE visualization\n",
    "qurro_deicode = qurro.visualizers.loading_plot(deicode_result.biplot,\n",
    "                              table=f_table,\n",
    "                              sample_metadata=filtered_meta_data,\n",
    "                              feature_metadata=feature_meta_data)\n",
    "#qurro_deicode.visualization"
   ]
  },
  {
   "cell_type": "code",
   "execution_count": 47,
   "metadata": {},
   "outputs": [
    {
     "name": "stdout",
     "output_type": "stream",
     "text": [
      "1678 feature(s) in the BIOM table were not present in the feature rankings.\n",
      "These feature(s) have been removed from the visualization.\n",
      "62 sample(s) in the sample metadata file were not present in the BIOM table.\n",
      "These sample(s) have been removed from the visualization.\n"
     ]
    }
   ],
   "source": [
    "# Songbird visualization\n",
    "qurro_songbird = qurro.visualizers.differential_plot(ranks=songbird_result.differentials,\n",
    "                                   table=f_table,\n",
    "                                   sample_metadata=filtered_meta_data,\n",
    "                                                    feature_metadata= feature_meta_data)\n",
    "#qurro_songbird.visualization"
   ]
  },
  {
   "cell_type": "code",
   "execution_count": 48,
   "metadata": {},
   "outputs": [
    {
     "data": {
      "text/plain": [
       "'../results/test/2020_05_14/differential_abundance/qurro-songbird-plot.qzv'"
      ]
     },
     "execution_count": 48,
     "metadata": {},
     "output_type": "execute_result"
    }
   ],
   "source": [
    "# Save the two qurro visualiztions\n",
    "qurro_deicode.visualization.save('{}/qurro-deicode-plot.qzv'.format(diff_dir))\n",
    "qurro_deicode.visualization.save('{}/qurro-songbird-plot.qzv'.format(diff_dir))"
   ]
  },
  {
   "cell_type": "markdown",
   "metadata": {},
   "source": [
    "## Sample classification\n",
    " - Input\n",
    "     - insertion-table.qza\n",
    "     - metadata.tsv\n",
    " - Output\n",
    "     - \n",
    " - Plugins\n",
    "     - sample-classifier\n",
    " - TODO\n",
    "     - collapsed taxonomy feature table\n",
    " - Help"
   ]
  },
  {
   "cell_type": "code",
   "execution_count": 49,
   "metadata": {},
   "outputs": [
    {
     "ename": "ValueError",
     "evalue": "You have chosen to predict a metadata column that contains one or more values that match only one sample. For proper stratification of data into training and test sets, each class (value) must contain at least two samples. This is a requirement for classification problems, but stratification can be disabled for regression by setting stratify=False. Alternatively, remove all samples that bear a unique class label for your chosen metadata column. Note that disabling stratification can negatively impact predictive accuracy for small data sets.",
     "output_type": "error",
     "traceback": [
      "\u001b[0;31m---------------------------------------------------------------------------\u001b[0m",
      "\u001b[0;31mValueError\u001b[0m                                Traceback (most recent call last)",
      "\u001b[0;32m~/anaconda3/envs/qiime2-2020.2/lib/python3.6/site-packages/q2_sample_classifier/utilities.py\u001b[0m in \u001b[0;36m_split_training_data\u001b[0;34m(feature_data, targets, column, test_size, stratify, random_state, drop_na)\u001b[0m\n\u001b[1;32m    169\u001b[0m                 \u001b[0mtargets\u001b[0m\u001b[0;34m,\u001b[0m \u001b[0mtest_size\u001b[0m\u001b[0;34m=\u001b[0m\u001b[0mtest_size\u001b[0m\u001b[0;34m,\u001b[0m \u001b[0mstratify\u001b[0m\u001b[0;34m=\u001b[0m\u001b[0mstratify\u001b[0m\u001b[0;34m,\u001b[0m\u001b[0;34m\u001b[0m\u001b[0;34m\u001b[0m\u001b[0m\n\u001b[0;32m--> 170\u001b[0;31m                 random_state=random_state)\n\u001b[0m\u001b[1;32m    171\u001b[0m         \u001b[0;32mexcept\u001b[0m \u001b[0mValueError\u001b[0m\u001b[0;34m:\u001b[0m\u001b[0;34m\u001b[0m\u001b[0;34m\u001b[0m\u001b[0m\n",
      "\u001b[0;32m~/anaconda3/envs/qiime2-2020.2/lib/python3.6/site-packages/sklearn/model_selection/_split.py\u001b[0m in \u001b[0;36mtrain_test_split\u001b[0;34m(*arrays, **options)\u001b[0m\n\u001b[1;32m   2142\u001b[0m \u001b[0;34m\u001b[0m\u001b[0m\n\u001b[0;32m-> 2143\u001b[0;31m         \u001b[0mtrain\u001b[0m\u001b[0;34m,\u001b[0m \u001b[0mtest\u001b[0m \u001b[0;34m=\u001b[0m \u001b[0mnext\u001b[0m\u001b[0;34m(\u001b[0m\u001b[0mcv\u001b[0m\u001b[0;34m.\u001b[0m\u001b[0msplit\u001b[0m\u001b[0;34m(\u001b[0m\u001b[0mX\u001b[0m\u001b[0;34m=\u001b[0m\u001b[0marrays\u001b[0m\u001b[0;34m[\u001b[0m\u001b[0;36m0\u001b[0m\u001b[0;34m]\u001b[0m\u001b[0;34m,\u001b[0m \u001b[0my\u001b[0m\u001b[0;34m=\u001b[0m\u001b[0mstratify\u001b[0m\u001b[0;34m)\u001b[0m\u001b[0;34m)\u001b[0m\u001b[0;34m\u001b[0m\u001b[0;34m\u001b[0m\u001b[0m\n\u001b[0m\u001b[1;32m   2144\u001b[0m \u001b[0;34m\u001b[0m\u001b[0m\n",
      "\u001b[0;32m~/anaconda3/envs/qiime2-2020.2/lib/python3.6/site-packages/sklearn/model_selection/_split.py\u001b[0m in \u001b[0;36msplit\u001b[0;34m(self, X, y, groups)\u001b[0m\n\u001b[1;32m   1328\u001b[0m         \u001b[0mX\u001b[0m\u001b[0;34m,\u001b[0m \u001b[0my\u001b[0m\u001b[0;34m,\u001b[0m \u001b[0mgroups\u001b[0m \u001b[0;34m=\u001b[0m \u001b[0mindexable\u001b[0m\u001b[0;34m(\u001b[0m\u001b[0mX\u001b[0m\u001b[0;34m,\u001b[0m \u001b[0my\u001b[0m\u001b[0;34m,\u001b[0m \u001b[0mgroups\u001b[0m\u001b[0;34m)\u001b[0m\u001b[0;34m\u001b[0m\u001b[0;34m\u001b[0m\u001b[0m\n\u001b[0;32m-> 1329\u001b[0;31m         \u001b[0;32mfor\u001b[0m \u001b[0mtrain\u001b[0m\u001b[0;34m,\u001b[0m \u001b[0mtest\u001b[0m \u001b[0;32min\u001b[0m \u001b[0mself\u001b[0m\u001b[0;34m.\u001b[0m\u001b[0m_iter_indices\u001b[0m\u001b[0;34m(\u001b[0m\u001b[0mX\u001b[0m\u001b[0;34m,\u001b[0m \u001b[0my\u001b[0m\u001b[0;34m,\u001b[0m \u001b[0mgroups\u001b[0m\u001b[0;34m)\u001b[0m\u001b[0;34m:\u001b[0m\u001b[0;34m\u001b[0m\u001b[0;34m\u001b[0m\u001b[0m\n\u001b[0m\u001b[1;32m   1330\u001b[0m             \u001b[0;32myield\u001b[0m \u001b[0mtrain\u001b[0m\u001b[0;34m,\u001b[0m \u001b[0mtest\u001b[0m\u001b[0;34m\u001b[0m\u001b[0;34m\u001b[0m\u001b[0m\n",
      "\u001b[0;32m~/anaconda3/envs/qiime2-2020.2/lib/python3.6/site-packages/sklearn/model_selection/_split.py\u001b[0m in \u001b[0;36m_iter_indices\u001b[0;34m(self, X, y, groups)\u001b[0m\n\u001b[1;32m   1658\u001b[0m         \u001b[0;32mif\u001b[0m \u001b[0mnp\u001b[0m\u001b[0;34m.\u001b[0m\u001b[0mmin\u001b[0m\u001b[0;34m(\u001b[0m\u001b[0mclass_counts\u001b[0m\u001b[0;34m)\u001b[0m \u001b[0;34m<\u001b[0m \u001b[0;36m2\u001b[0m\u001b[0;34m:\u001b[0m\u001b[0;34m\u001b[0m\u001b[0;34m\u001b[0m\u001b[0m\n\u001b[0;32m-> 1659\u001b[0;31m             raise ValueError(\"The least populated class in y has only 1\"\n\u001b[0m\u001b[1;32m   1660\u001b[0m                              \u001b[0;34m\" member, which is too few. The minimum\"\u001b[0m\u001b[0;34m\u001b[0m\u001b[0;34m\u001b[0m\u001b[0m\n",
      "\u001b[0;31mValueError\u001b[0m: The least populated class in y has only 1 member, which is too few. The minimum number of groups for any class cannot be less than 2.",
      "\nDuring handling of the above exception, another exception occurred:\n",
      "\u001b[0;31mValueError\u001b[0m                                Traceback (most recent call last)",
      "\u001b[0;32m<ipython-input-49-34550f9ac51f>\u001b[0m in \u001b[0;36m<module>\u001b[0;34m\u001b[0m\n\u001b[1;32m      7\u001b[0m                                             \u001b[0moptimize_feature_selection\u001b[0m\u001b[0;34m=\u001b[0m\u001b[0;32mTrue\u001b[0m\u001b[0;34m,\u001b[0m\u001b[0;34m\u001b[0m\u001b[0;34m\u001b[0m\u001b[0m\n\u001b[1;32m      8\u001b[0m                                             \u001b[0mrandom_state\u001b[0m\u001b[0;34m=\u001b[0m\u001b[0;36m13\u001b[0m\u001b[0;34m,\u001b[0m\u001b[0;34m\u001b[0m\u001b[0;34m\u001b[0m\u001b[0m\n\u001b[0;32m----> 9\u001b[0;31m                                             missing_samples='ignore')\n\u001b[0m",
      "\u001b[0;32m</Users/adamklie/anaconda3/envs/qiime2-2020.2/lib/python3.6/site-packages/decorator.py:decorator-gen-178>\u001b[0m in \u001b[0;36mclassify_samples\u001b[0;34m(table, metadata, test_size, step, cv, random_state, n_jobs, n_estimators, estimator, optimize_feature_selection, parameter_tuning, palette, missing_samples)\u001b[0m\n",
      "\u001b[0;32m~/anaconda3/envs/qiime2-2020.2/lib/python3.6/site-packages/qiime2/sdk/action.py\u001b[0m in \u001b[0;36mbound_callable\u001b[0;34m(*args, **kwargs)\u001b[0m\n\u001b[1;32m    243\u001b[0m                 \u001b[0;31m# Execute\u001b[0m\u001b[0;34m\u001b[0m\u001b[0;34m\u001b[0m\u001b[0;34m\u001b[0m\u001b[0m\n\u001b[1;32m    244\u001b[0m                 outputs = self._callable_executor_(scope, callable_args,\n\u001b[0;32m--> 245\u001b[0;31m                                                    output_types, provenance)\n\u001b[0m\u001b[1;32m    246\u001b[0m \u001b[0;34m\u001b[0m\u001b[0m\n\u001b[1;32m    247\u001b[0m                 \u001b[0;32mif\u001b[0m \u001b[0mlen\u001b[0m\u001b[0;34m(\u001b[0m\u001b[0moutputs\u001b[0m\u001b[0;34m)\u001b[0m \u001b[0;34m!=\u001b[0m \u001b[0mlen\u001b[0m\u001b[0;34m(\u001b[0m\u001b[0mself\u001b[0m\u001b[0;34m.\u001b[0m\u001b[0msignature\u001b[0m\u001b[0;34m.\u001b[0m\u001b[0moutputs\u001b[0m\u001b[0;34m)\u001b[0m\u001b[0;34m:\u001b[0m\u001b[0;34m\u001b[0m\u001b[0;34m\u001b[0m\u001b[0m\n",
      "\u001b[0;32m~/anaconda3/envs/qiime2-2020.2/lib/python3.6/site-packages/qiime2/sdk/action.py\u001b[0m in \u001b[0;36m_callable_executor_\u001b[0;34m(self, scope, view_args, output_types, provenance)\u001b[0m\n\u001b[1;32m    482\u001b[0m \u001b[0;34m\u001b[0m\u001b[0m\n\u001b[1;32m    483\u001b[0m     \u001b[0;32mdef\u001b[0m \u001b[0m_callable_executor_\u001b[0m\u001b[0;34m(\u001b[0m\u001b[0mself\u001b[0m\u001b[0;34m,\u001b[0m \u001b[0mscope\u001b[0m\u001b[0;34m,\u001b[0m \u001b[0mview_args\u001b[0m\u001b[0;34m,\u001b[0m \u001b[0moutput_types\u001b[0m\u001b[0;34m,\u001b[0m \u001b[0mprovenance\u001b[0m\u001b[0;34m)\u001b[0m\u001b[0;34m:\u001b[0m\u001b[0;34m\u001b[0m\u001b[0;34m\u001b[0m\u001b[0m\n\u001b[0;32m--> 484\u001b[0;31m         \u001b[0moutputs\u001b[0m \u001b[0;34m=\u001b[0m \u001b[0mself\u001b[0m\u001b[0;34m.\u001b[0m\u001b[0m_callable\u001b[0m\u001b[0;34m(\u001b[0m\u001b[0mscope\u001b[0m\u001b[0;34m.\u001b[0m\u001b[0mctx\u001b[0m\u001b[0;34m,\u001b[0m \u001b[0;34m**\u001b[0m\u001b[0mview_args\u001b[0m\u001b[0;34m)\u001b[0m\u001b[0;34m\u001b[0m\u001b[0;34m\u001b[0m\u001b[0m\n\u001b[0m\u001b[1;32m    485\u001b[0m         \u001b[0moutputs\u001b[0m \u001b[0;34m=\u001b[0m \u001b[0mtuplize\u001b[0m\u001b[0;34m(\u001b[0m\u001b[0moutputs\u001b[0m\u001b[0;34m)\u001b[0m\u001b[0;34m\u001b[0m\u001b[0;34m\u001b[0m\u001b[0m\n\u001b[1;32m    486\u001b[0m \u001b[0;34m\u001b[0m\u001b[0m\n",
      "\u001b[0;32m~/anaconda3/envs/qiime2-2020.2/lib/python3.6/site-packages/q2_sample_classifier/classify.py\u001b[0m in \u001b[0;36mclassify_samples\u001b[0;34m(ctx, table, metadata, test_size, step, cv, random_state, n_jobs, n_estimators, estimator, optimize_feature_selection, parameter_tuning, palette, missing_samples)\u001b[0m\n\u001b[1;32m    165\u001b[0m \u001b[0;34m\u001b[0m\u001b[0m\n\u001b[1;32m    166\u001b[0m     X_train, X_test = split(table, metadata, test_size, random_state,\n\u001b[0;32m--> 167\u001b[0;31m                             stratify=True, missing_samples=missing_samples)\n\u001b[0m\u001b[1;32m    168\u001b[0m \u001b[0;34m\u001b[0m\u001b[0m\n\u001b[1;32m    169\u001b[0m     sample_estimator, importance = fit(\n",
      "\u001b[0;32m</Users/adamklie/anaconda3/envs/qiime2-2020.2/lib/python3.6/site-packages/decorator.py:decorator-gen-541>\u001b[0m in \u001b[0;36msplit_table\u001b[0;34m(table, metadata, test_size, random_state, stratify, missing_samples)\u001b[0m\n",
      "\u001b[0;32m~/anaconda3/envs/qiime2-2020.2/lib/python3.6/site-packages/qiime2/sdk/action.py\u001b[0m in \u001b[0;36mbound_callable\u001b[0;34m(*args, **kwargs)\u001b[0m\n\u001b[1;32m    243\u001b[0m                 \u001b[0;31m# Execute\u001b[0m\u001b[0;34m\u001b[0m\u001b[0;34m\u001b[0m\u001b[0;34m\u001b[0m\u001b[0m\n\u001b[1;32m    244\u001b[0m                 outputs = self._callable_executor_(scope, callable_args,\n\u001b[0;32m--> 245\u001b[0;31m                                                    output_types, provenance)\n\u001b[0m\u001b[1;32m    246\u001b[0m \u001b[0;34m\u001b[0m\u001b[0m\n\u001b[1;32m    247\u001b[0m                 \u001b[0;32mif\u001b[0m \u001b[0mlen\u001b[0m\u001b[0;34m(\u001b[0m\u001b[0moutputs\u001b[0m\u001b[0;34m)\u001b[0m \u001b[0;34m!=\u001b[0m \u001b[0mlen\u001b[0m\u001b[0;34m(\u001b[0m\u001b[0mself\u001b[0m\u001b[0;34m.\u001b[0m\u001b[0msignature\u001b[0m\u001b[0;34m.\u001b[0m\u001b[0moutputs\u001b[0m\u001b[0;34m)\u001b[0m\u001b[0;34m:\u001b[0m\u001b[0;34m\u001b[0m\u001b[0;34m\u001b[0m\u001b[0m\n",
      "\u001b[0;32m~/anaconda3/envs/qiime2-2020.2/lib/python3.6/site-packages/qiime2/sdk/action.py\u001b[0m in \u001b[0;36m_callable_executor_\u001b[0;34m(self, scope, view_args, output_types, provenance)\u001b[0m\n\u001b[1;32m    388\u001b[0m \u001b[0;34m\u001b[0m\u001b[0m\n\u001b[1;32m    389\u001b[0m     \u001b[0;32mdef\u001b[0m \u001b[0m_callable_executor_\u001b[0m\u001b[0;34m(\u001b[0m\u001b[0mself\u001b[0m\u001b[0;34m,\u001b[0m \u001b[0mscope\u001b[0m\u001b[0;34m,\u001b[0m \u001b[0mview_args\u001b[0m\u001b[0;34m,\u001b[0m \u001b[0moutput_types\u001b[0m\u001b[0;34m,\u001b[0m \u001b[0mprovenance\u001b[0m\u001b[0;34m)\u001b[0m\u001b[0;34m:\u001b[0m\u001b[0;34m\u001b[0m\u001b[0;34m\u001b[0m\u001b[0m\n\u001b[0;32m--> 390\u001b[0;31m         \u001b[0moutput_views\u001b[0m \u001b[0;34m=\u001b[0m \u001b[0mself\u001b[0m\u001b[0;34m.\u001b[0m\u001b[0m_callable\u001b[0m\u001b[0;34m(\u001b[0m\u001b[0;34m**\u001b[0m\u001b[0mview_args\u001b[0m\u001b[0;34m)\u001b[0m\u001b[0;34m\u001b[0m\u001b[0;34m\u001b[0m\u001b[0m\n\u001b[0m\u001b[1;32m    391\u001b[0m         \u001b[0moutput_views\u001b[0m \u001b[0;34m=\u001b[0m \u001b[0mtuplize\u001b[0m\u001b[0;34m(\u001b[0m\u001b[0moutput_views\u001b[0m\u001b[0;34m)\u001b[0m\u001b[0;34m\u001b[0m\u001b[0;34m\u001b[0m\u001b[0m\n\u001b[1;32m    392\u001b[0m \u001b[0;34m\u001b[0m\u001b[0m\n",
      "\u001b[0;32m~/anaconda3/envs/qiime2-2020.2/lib/python3.6/site-packages/q2_sample_classifier/classify.py\u001b[0m in \u001b[0;36msplit_table\u001b[0;34m(table, metadata, test_size, random_state, stratify, missing_samples)\u001b[0m\n\u001b[1;32m    308\u001b[0m     X_train, X_test, y_train, y_test = _prepare_training_data(\n\u001b[1;32m    309\u001b[0m         \u001b[0mtable\u001b[0m\u001b[0;34m,\u001b[0m \u001b[0mmetadata\u001b[0m\u001b[0;34m,\u001b[0m \u001b[0mcolumn\u001b[0m\u001b[0;34m,\u001b[0m \u001b[0mtest_size\u001b[0m\u001b[0;34m,\u001b[0m \u001b[0mrandom_state\u001b[0m\u001b[0;34m,\u001b[0m \u001b[0mload_data\u001b[0m\u001b[0;34m=\u001b[0m\u001b[0;32mTrue\u001b[0m\u001b[0;34m,\u001b[0m\u001b[0;34m\u001b[0m\u001b[0;34m\u001b[0m\u001b[0m\n\u001b[0;32m--> 310\u001b[0;31m         stratify=stratify, missing_samples=missing_samples)\n\u001b[0m\u001b[1;32m    311\u001b[0m     \u001b[0;31m# TODO: we can consider returning the metadata (y_train, y_test) if a\u001b[0m\u001b[0;34m\u001b[0m\u001b[0;34m\u001b[0m\u001b[0;34m\u001b[0m\u001b[0m\n\u001b[1;32m    312\u001b[0m     \u001b[0;31m# SampleData[Metadata] type comes into existence. For now we will just\u001b[0m\u001b[0;34m\u001b[0m\u001b[0;34m\u001b[0m\u001b[0;34m\u001b[0m\u001b[0m\n",
      "\u001b[0;32m~/anaconda3/envs/qiime2-2020.2/lib/python3.6/site-packages/q2_sample_classifier/utilities.py\u001b[0m in \u001b[0;36m_prepare_training_data\u001b[0;34m(features, targets, column, test_size, random_state, load_data, stratify, missing_samples)\u001b[0m\n\u001b[1;32m    393\u001b[0m \u001b[0;34m\u001b[0m\u001b[0m\n\u001b[1;32m    394\u001b[0m     X_train, X_test, y_train, y_test = _split_training_data(\n\u001b[0;32m--> 395\u001b[0;31m         features, targets, column, test_size, strata, random_state)\n\u001b[0m\u001b[1;32m    396\u001b[0m \u001b[0;34m\u001b[0m\u001b[0m\n\u001b[1;32m    397\u001b[0m     \u001b[0;32mreturn\u001b[0m \u001b[0mX_train\u001b[0m\u001b[0;34m,\u001b[0m \u001b[0mX_test\u001b[0m\u001b[0;34m,\u001b[0m \u001b[0my_train\u001b[0m\u001b[0;34m,\u001b[0m \u001b[0my_test\u001b[0m\u001b[0;34m\u001b[0m\u001b[0;34m\u001b[0m\u001b[0m\n",
      "\u001b[0;32m~/anaconda3/envs/qiime2-2020.2/lib/python3.6/site-packages/q2_sample_classifier/utilities.py\u001b[0m in \u001b[0;36m_split_training_data\u001b[0;34m(feature_data, targets, column, test_size, stratify, random_state, drop_na)\u001b[0m\n\u001b[1;32m    170\u001b[0m                 random_state=random_state)\n\u001b[1;32m    171\u001b[0m         \u001b[0;32mexcept\u001b[0m \u001b[0mValueError\u001b[0m\u001b[0;34m:\u001b[0m\u001b[0;34m\u001b[0m\u001b[0;34m\u001b[0m\u001b[0m\n\u001b[0;32m--> 172\u001b[0;31m             \u001b[0m_stratification_error\u001b[0m\u001b[0;34m(\u001b[0m\u001b[0;34m)\u001b[0m\u001b[0;34m\u001b[0m\u001b[0;34m\u001b[0m\u001b[0m\n\u001b[0m\u001b[1;32m    173\u001b[0m     \u001b[0;32melse\u001b[0m\u001b[0;34m:\u001b[0m\u001b[0;34m\u001b[0m\u001b[0;34m\u001b[0m\u001b[0m\n\u001b[1;32m    174\u001b[0m         X_train, X_test, y_train, y_test = (\n",
      "\u001b[0;32m~/anaconda3/envs/qiime2-2020.2/lib/python3.6/site-packages/q2_sample_classifier/utilities.py\u001b[0m in \u001b[0;36m_stratification_error\u001b[0;34m()\u001b[0m\n\u001b[1;32m    190\u001b[0m \u001b[0;32mdef\u001b[0m \u001b[0m_stratification_error\u001b[0m\u001b[0;34m(\u001b[0m\u001b[0;34m)\u001b[0m\u001b[0;34m:\u001b[0m\u001b[0;34m\u001b[0m\u001b[0;34m\u001b[0m\u001b[0m\n\u001b[1;32m    191\u001b[0m     raise ValueError((\n\u001b[0;32m--> 192\u001b[0;31m         \u001b[0;34m'You have chosen to predict a metadata column that contains '\u001b[0m\u001b[0;34m\u001b[0m\u001b[0;34m\u001b[0m\u001b[0m\n\u001b[0m\u001b[1;32m    193\u001b[0m         \u001b[0;34m'one or more values that match only one sample. For proper '\u001b[0m\u001b[0;34m\u001b[0m\u001b[0;34m\u001b[0m\u001b[0m\n\u001b[1;32m    194\u001b[0m         \u001b[0;34m'stratification of data into training and test sets, each '\u001b[0m\u001b[0;34m\u001b[0m\u001b[0;34m\u001b[0m\u001b[0m\n",
      "\u001b[0;31mValueError\u001b[0m: You have chosen to predict a metadata column that contains one or more values that match only one sample. For proper stratification of data into training and test sets, each class (value) must contain at least two samples. This is a requirement for classification problems, but stratification can be disabled for regression by setting stratify=False. Alternatively, remove all samples that bear a unique class label for your chosen metadata column. Note that disabling stratification can negatively impact predictive accuracy for small data sets."
     ]
    }
   ],
   "source": [
    "# Train a sample classifier\n",
    "sample_class = sample_classifier.pipelines.classify_samples(table=f_table,\n",
    "                                            metadata=filtered_meta_data.get_column('exercise_frequency'),\n",
    "                                            estimator='RandomForestClassifier',\n",
    "                                            n_estimators=20,\n",
    "                                            parameter_tuning=True,\n",
    "                                            optimize_feature_selection=True,\n",
    "                                            random_state=13,\n",
    "                                            missing_samples='ignore')"
   ]
  },
  {
   "cell_type": "code",
   "execution_count": 50,
   "metadata": {},
   "outputs": [
    {
     "ename": "NameError",
     "evalue": "name 'sample_class' is not defined",
     "output_type": "error",
     "traceback": [
      "\u001b[0;31m---------------------------------------------------------------------------\u001b[0m",
      "\u001b[0;31mNameError\u001b[0m                                 Traceback (most recent call last)",
      "\u001b[0;32m<ipython-input-50-86c2fab3a2f1>\u001b[0m in \u001b[0;36m<module>\u001b[0;34m\u001b[0m\n\u001b[1;32m      1\u001b[0m \u001b[0;31m# Create visualizations\u001b[0m\u001b[0;34m\u001b[0m\u001b[0;34m\u001b[0m\u001b[0;34m\u001b[0m\u001b[0m\n\u001b[0;32m----> 2\u001b[0;31m \u001b[0mpred_vis\u001b[0m \u001b[0;34m=\u001b[0m \u001b[0mmetadata\u001b[0m\u001b[0;34m.\u001b[0m\u001b[0mvisualizers\u001b[0m\u001b[0;34m.\u001b[0m\u001b[0mtabulate\u001b[0m\u001b[0;34m(\u001b[0m\u001b[0msample_class\u001b[0m\u001b[0;34m.\u001b[0m\u001b[0mpredictions\u001b[0m\u001b[0;34m.\u001b[0m\u001b[0mview\u001b[0m\u001b[0;34m(\u001b[0m\u001b[0mqiime2\u001b[0m\u001b[0;34m.\u001b[0m\u001b[0mMetadata\u001b[0m\u001b[0;34m)\u001b[0m\u001b[0;34m)\u001b[0m\u001b[0;34m\u001b[0m\u001b[0;34m\u001b[0m\u001b[0m\n\u001b[0m\u001b[1;32m      3\u001b[0m \u001b[0mprob_vis\u001b[0m \u001b[0;34m=\u001b[0m \u001b[0mmetadata\u001b[0m\u001b[0;34m.\u001b[0m\u001b[0mvisualizers\u001b[0m\u001b[0;34m.\u001b[0m\u001b[0mtabulate\u001b[0m\u001b[0;34m(\u001b[0m\u001b[0msample_class\u001b[0m\u001b[0;34m.\u001b[0m\u001b[0mprobabilities\u001b[0m\u001b[0;34m.\u001b[0m\u001b[0mview\u001b[0m\u001b[0;34m(\u001b[0m\u001b[0mqiime2\u001b[0m\u001b[0;34m.\u001b[0m\u001b[0mMetadata\u001b[0m\u001b[0;34m)\u001b[0m\u001b[0;34m)\u001b[0m\u001b[0;34m\u001b[0m\u001b[0;34m\u001b[0m\u001b[0m\n\u001b[1;32m      4\u001b[0m \u001b[0mimportance_vis\u001b[0m \u001b[0;34m=\u001b[0m \u001b[0mmetadata\u001b[0m\u001b[0;34m.\u001b[0m\u001b[0mvisualizers\u001b[0m\u001b[0;34m.\u001b[0m\u001b[0mtabulate\u001b[0m\u001b[0;34m(\u001b[0m\u001b[0msample_class\u001b[0m\u001b[0;34m.\u001b[0m\u001b[0mfeature_importance\u001b[0m\u001b[0;34m.\u001b[0m\u001b[0mview\u001b[0m\u001b[0;34m(\u001b[0m\u001b[0mqiime2\u001b[0m\u001b[0;34m.\u001b[0m\u001b[0mMetadata\u001b[0m\u001b[0;34m)\u001b[0m\u001b[0;34m)\u001b[0m\u001b[0;34m\u001b[0m\u001b[0;34m\u001b[0m\u001b[0m\n",
      "\u001b[0;31mNameError\u001b[0m: name 'sample_class' is not defined"
     ]
    }
   ],
   "source": [
    "# Create visualizations\n",
    "pred_vis = metadata.visualizers.tabulate(sample_class.predictions.view(qiime2.Metadata))\n",
    "prob_vis = metadata.visualizers.tabulate(sample_class.probabilities.view(qiime2.Metadata))\n",
    "importance_vis = metadata.visualizers.tabulate(sample_class.feature_importance.view(qiime2.Metadata))"
   ]
  },
  {
   "cell_type": "code",
   "execution_count": 51,
   "metadata": {},
   "outputs": [
    {
     "ename": "NameError",
     "evalue": "name 'pred_vis' is not defined",
     "output_type": "error",
     "traceback": [
      "\u001b[0;31m---------------------------------------------------------------------------\u001b[0m",
      "\u001b[0;31mNameError\u001b[0m                                 Traceback (most recent call last)",
      "\u001b[0;32m<ipython-input-51-b3e4430b0559>\u001b[0m in \u001b[0;36m<module>\u001b[0;34m\u001b[0m\n\u001b[1;32m      1\u001b[0m \u001b[0;31m# Save visualiztions\u001b[0m\u001b[0;34m\u001b[0m\u001b[0;34m\u001b[0m\u001b[0;34m\u001b[0m\u001b[0m\n\u001b[0;32m----> 2\u001b[0;31m \u001b[0mpred_vis\u001b[0m\u001b[0;34m.\u001b[0m\u001b[0mvisualization\u001b[0m\u001b[0;34m.\u001b[0m\u001b[0msave\u001b[0m\u001b[0;34m(\u001b[0m\u001b[0;34m'{}/predictions.qzv'\u001b[0m\u001b[0;34m.\u001b[0m\u001b[0mformat\u001b[0m\u001b[0;34m(\u001b[0m\u001b[0mclass_dir\u001b[0m\u001b[0;34m)\u001b[0m\u001b[0;34m)\u001b[0m\u001b[0;34m\u001b[0m\u001b[0;34m\u001b[0m\u001b[0m\n\u001b[0m\u001b[1;32m      3\u001b[0m \u001b[0mprob_vis\u001b[0m\u001b[0;34m.\u001b[0m\u001b[0mvisualization\u001b[0m\u001b[0;34m.\u001b[0m\u001b[0msave\u001b[0m\u001b[0;34m(\u001b[0m\u001b[0;34m'{}/probabilities.qzv'\u001b[0m\u001b[0;34m.\u001b[0m\u001b[0mformat\u001b[0m\u001b[0;34m(\u001b[0m\u001b[0mclass_dir\u001b[0m\u001b[0;34m)\u001b[0m\u001b[0;34m)\u001b[0m\u001b[0;34m\u001b[0m\u001b[0;34m\u001b[0m\u001b[0m\n\u001b[1;32m      4\u001b[0m \u001b[0mimportance_vis\u001b[0m\u001b[0;34m.\u001b[0m\u001b[0mvisualization\u001b[0m\u001b[0;34m.\u001b[0m\u001b[0msave\u001b[0m\u001b[0;34m(\u001b[0m\u001b[0;34m'{}/feature-importance.qzv'\u001b[0m\u001b[0;34m.\u001b[0m\u001b[0mformat\u001b[0m\u001b[0;34m(\u001b[0m\u001b[0mclass_dir\u001b[0m\u001b[0;34m)\u001b[0m\u001b[0;34m)\u001b[0m\u001b[0;34m\u001b[0m\u001b[0;34m\u001b[0m\u001b[0m\n\u001b[1;32m      5\u001b[0m \u001b[0msample_class\u001b[0m\u001b[0;34m.\u001b[0m\u001b[0maccuracy_results\u001b[0m\u001b[0;34m.\u001b[0m\u001b[0msave\u001b[0m\u001b[0;34m(\u001b[0m\u001b[0;34m'{}/accuracy-results.qzv'\u001b[0m\u001b[0;34m.\u001b[0m\u001b[0mformat\u001b[0m\u001b[0;34m(\u001b[0m\u001b[0mclass_dir\u001b[0m\u001b[0;34m)\u001b[0m\u001b[0;34m)\u001b[0m\u001b[0;34m\u001b[0m\u001b[0;34m\u001b[0m\u001b[0m\n",
      "\u001b[0;31mNameError\u001b[0m: name 'pred_vis' is not defined"
     ]
    }
   ],
   "source": [
    "# Save visualiztions\n",
    "pred_vis.visualization.save('{}/predictions.qzv'.format(class_dir))\n",
    "prob_vis.visualization.save('{}/probabilities.qzv'.format(class_dir))\n",
    "importance_vis.visualization.save('{}/feature-importance.qzv'.format(class_dir))\n",
    "sample_class.accuracy_results.save('{}/accuracy-results.qzv'.format(class_dir))\n",
    "sample_class.heatmap.save('{}/heatmap.qzv'.format(class_dir))\n",
    "sample_class.model_summary.save('{}/model_summary.qzv'.format(class_dir))"
   ]
  },
  {
   "cell_type": "code",
   "execution_count": 52,
   "metadata": {},
   "outputs": [
    {
     "ename": "NameError",
     "evalue": "name 'sample_class' is not defined",
     "output_type": "error",
     "traceback": [
      "\u001b[0;31m---------------------------------------------------------------------------\u001b[0m",
      "\u001b[0;31mNameError\u001b[0m                                 Traceback (most recent call last)",
      "\u001b[0;32m<ipython-input-52-f722621fbee0>\u001b[0m in \u001b[0;36m<module>\u001b[0;34m\u001b[0m\n\u001b[1;32m      1\u001b[0m \u001b[0;31m# Save artifacts\u001b[0m\u001b[0;34m\u001b[0m\u001b[0;34m\u001b[0m\u001b[0;34m\u001b[0m\u001b[0m\n\u001b[0;32m----> 2\u001b[0;31m \u001b[0msample_class\u001b[0m\u001b[0;34m.\u001b[0m\u001b[0mpredictions\u001b[0m\u001b[0;34m.\u001b[0m\u001b[0msave\u001b[0m\u001b[0;34m(\u001b[0m\u001b[0;34m'{}/predictions.qza'\u001b[0m\u001b[0;34m.\u001b[0m\u001b[0mformat\u001b[0m\u001b[0;34m(\u001b[0m\u001b[0mclass_dir\u001b[0m\u001b[0;34m)\u001b[0m\u001b[0;34m)\u001b[0m\u001b[0;34m\u001b[0m\u001b[0;34m\u001b[0m\u001b[0m\n\u001b[0m\u001b[1;32m      3\u001b[0m \u001b[0msample_class\u001b[0m\u001b[0;34m.\u001b[0m\u001b[0mprobabilities\u001b[0m\u001b[0;34m.\u001b[0m\u001b[0msave\u001b[0m\u001b[0;34m(\u001b[0m\u001b[0;34m'{}/probabilities.qza'\u001b[0m\u001b[0;34m.\u001b[0m\u001b[0mformat\u001b[0m\u001b[0;34m(\u001b[0m\u001b[0mclass_dir\u001b[0m\u001b[0;34m)\u001b[0m\u001b[0;34m)\u001b[0m\u001b[0;34m\u001b[0m\u001b[0;34m\u001b[0m\u001b[0m\n\u001b[1;32m      4\u001b[0m \u001b[0msample_class\u001b[0m\u001b[0;34m.\u001b[0m\u001b[0mfeature_importance\u001b[0m\u001b[0;34m.\u001b[0m\u001b[0msave\u001b[0m\u001b[0;34m(\u001b[0m\u001b[0;34m'{}/feature-importance.qza'\u001b[0m\u001b[0;34m.\u001b[0m\u001b[0mformat\u001b[0m\u001b[0;34m(\u001b[0m\u001b[0mclass_dir\u001b[0m\u001b[0;34m)\u001b[0m\u001b[0;34m)\u001b[0m\u001b[0;34m\u001b[0m\u001b[0;34m\u001b[0m\u001b[0m\n\u001b[1;32m      5\u001b[0m \u001b[0msample_class\u001b[0m\u001b[0;34m.\u001b[0m\u001b[0msample_estimator\u001b[0m\u001b[0;34m.\u001b[0m\u001b[0msave\u001b[0m\u001b[0;34m(\u001b[0m\u001b[0;34m'{}/sample_estimator.qza'\u001b[0m\u001b[0;34m.\u001b[0m\u001b[0mformat\u001b[0m\u001b[0;34m(\u001b[0m\u001b[0mclass_dir\u001b[0m\u001b[0;34m)\u001b[0m\u001b[0;34m)\u001b[0m\u001b[0;34m\u001b[0m\u001b[0;34m\u001b[0m\u001b[0m\n",
      "\u001b[0;31mNameError\u001b[0m: name 'sample_class' is not defined"
     ]
    }
   ],
   "source": [
    "# Save artifacts\n",
    "sample_class.predictions.save('{}/predictions.qza'.format(class_dir))\n",
    "sample_class.probabilities.save('{}/probabilities.qza'.format(class_dir))\n",
    "sample_class.feature_importance.save('{}/feature-importance.qza'.format(class_dir))\n",
    "sample_class.sample_estimator.save('{}/sample_estimator.qza'.format(class_dir))"
   ]
  }
 ],
 "metadata": {
  "kernelspec": {
   "display_name": "qiime2-2020.2",
   "language": "python",
   "name": "qiime2-2020.2"
  },
  "language_info": {
   "codemirror_mode": {
    "name": "ipython",
    "version": 3
   },
   "file_extension": ".py",
   "mimetype": "text/x-python",
   "name": "python",
   "nbconvert_exporter": "python",
   "pygments_lexer": "ipython3",
   "version": "3.6.7"
  }
 },
 "nbformat": 4,
 "nbformat_minor": 4
}
