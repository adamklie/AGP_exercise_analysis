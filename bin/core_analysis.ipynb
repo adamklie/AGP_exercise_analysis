{
 "cells": [
  {
   "cell_type": "markdown",
   "metadata": {},
   "source": [
    "#### Adam Klie<br>05/07/2020\n",
    "# Perform core microbiome analyses in Qiime2\n",
    "1. Taxonomic classification\n",
    "2. Rarefaction plots\n",
    "3. Core diversity\n",
    "4. Diffential abundance\n",
    "5. Compositionally aware diversity\n",
    "6. Sample classification"
   ]
  },
  {
   "cell_type": "code",
   "execution_count": 1,
   "metadata": {},
   "outputs": [],
   "source": [
    "import os\n",
    "import pandas as pd\n",
    "import qiime2\n",
    "import warnings\n",
    "warnings.filterwarnings('ignore')\n",
    "from qiime2.plugins import feature_table, taxa, diversity, songbird, metadata, deicode, emperor, qurro, sample_classifier"
   ]
  },
  {
   "cell_type": "markdown",
   "metadata": {},
   "source": [
    "## Directory set-up and data loading"
   ]
  },
  {
   "cell_type": "code",
   "execution_count": 2,
   "metadata": {},
   "outputs": [],
   "source": [
    "# Data and results directories\n",
    "data_dir = '../data/full/2020_05_11'\n",
    "results_dir = '../results/full/2020_05_15'"
   ]
  },
  {
   "cell_type": "code",
   "execution_count": 3,
   "metadata": {},
   "outputs": [],
   "source": [
    "# Specify already created results directories\n",
    "tax_dir = '{}/taxonomy'.format(results_dir)\n",
    "table_dir = '{}/feature_tables'.format(results_dir)\n",
    "tree_dir = '{}/fragment_insertion'.format(results_dir)"
   ]
  },
  {
   "cell_type": "code",
   "execution_count": 4,
   "metadata": {},
   "outputs": [],
   "source": [
    "# Specify new result directories\n",
    "diversity_dir = '{}/diversity'.format(results_dir)\n",
    "if not os.path.exists(diversity_dir): \n",
    "    os.makedirs(diversity_dir)\n",
    "    \n",
    "diff_dir = '{}/differential_abundance'.format(results_dir)\n",
    "if not os.path.exists(diff_dir): \n",
    "    os.makedirs(diff_dir)\n",
    "    \n",
    "class_dir = '{}/sample_classification'.format(results_dir)\n",
    "if not os.path.exists(class_dir): \n",
    "    os.makedirs(class_dir)"
   ]
  },
  {
   "cell_type": "code",
   "execution_count": 6,
   "metadata": {},
   "outputs": [],
   "source": [
    "# Load feature table and meta_data\n",
    "f_table = qiime2.Artifact.load('{}/insertion-table.qza'.format(table_dir))\n",
    "meta_data = qiime2.Metadata.load('{}/metadata.tsv'.format(data_dir)) "
   ]
  },
  {
   "cell_type": "code",
   "execution_count": 7,
   "metadata": {},
   "outputs": [],
   "source": [
    "# Filter meta_data for faster plotting\n",
    "filtered_meta_data = qiime2.Metadata(meta_data.to_dataframe()[[\"age_corrected\", \"sex\", \"body_site\", \n",
    "                                                               \"sample_type\", \"bmi_corrected\", \"exercise_frequency\", \n",
    "                                                               \"country\", \"race\",  \"diet_type\"]])"
   ]
  },
  {
   "cell_type": "markdown",
   "metadata": {},
   "source": [
    "## Taxonomy analysis\n",
    " - Inputs: \n",
    "     - insertion-table.qza (FeatureData[Frequency] artifact)\n",
    "     - bespoke-taxonomy.qza (FeatureData[Taxonomy] artifact)\n",
    "     - metadata.tsv (tab seperated table)\n",
    " - Outputs: \n",
    "     - taxa-bar-plot.qzv (Visualization)\n",
    " - Plugins: \n",
    "     - taxa"
   ]
  },
  {
   "cell_type": "code",
   "execution_count": null,
   "metadata": {},
   "outputs": [],
   "source": [
    "# Load taxonomy artifact\n",
    "taxonomic_class = qiime2.Artifact.load('{}/bespoke-taxonomy.qza'.format(tax_dir))"
   ]
  },
  {
   "cell_type": "code",
   "execution_count": null,
   "metadata": {},
   "outputs": [],
   "source": [
    "# Generate barplot of taxa\n",
    "taxonomic_class_vis = taxa.visualizers.barplot(table=f_table,\n",
    "                                               taxonomy=taxonomic_class,\n",
    "                                               metadata=meta_data)\n",
    "#taxonomic_class_vis.visualization"
   ]
  },
  {
   "cell_type": "code",
   "execution_count": null,
   "metadata": {},
   "outputs": [],
   "source": [
    "# Save the barplot as visualization\n",
    "taxonomic_class_vis.visualization.save('{}/taxa-bar-plot.qzv'.format(tax_dir))"
   ]
  },
  {
   "cell_type": "markdown",
   "metadata": {},
   "source": [
    "## Rarefaction plots\n",
    " - Inputs: \n",
    "     - insertion-table.qza (FeatureData[Frequency] artifact)\n",
    "     - sepp-tree.qza (Phylogeny[Rooted] artifact)\n",
    "     - metadata.tsv (tab seperated table) -- highly recommend using filtered metadata here\n",
    " - Outputs: \n",
    "     - alpha-rarefaction.qzv (Visualization)\n",
    " - Plugins: \n",
    "     - diversity"
   ]
  },
  {
   "cell_type": "code",
   "execution_count": null,
   "metadata": {},
   "outputs": [],
   "source": [
    "# Load the insertion tree\n",
    "tree = qiime2.Artifact.load('{}/sepp-tree.qza'.format(tree_dir))"
   ]
  },
  {
   "cell_type": "code",
   "execution_count": null,
   "metadata": {},
   "outputs": [],
   "source": [
    "# Create rarefaction plots, takes about 4 minutes with ~30 samples and 9 metadata columns\n",
    "alpha_rarefaction_vis = diversity.visualizers.alpha_rarefaction(table=f_table,\n",
    "                                                                max_depth=10000,\n",
    "                                                                phylogeny=tree,\n",
    "                                                                metadata=filtered_meta_data)\n",
    "#alpha_rarefaction_vis.visualization"
   ]
  },
  {
   "cell_type": "code",
   "execution_count": null,
   "metadata": {},
   "outputs": [],
   "source": [
    "# Save the visualization\n",
    "alpha_rarefaction_vis.visualization.save('{}/alpha-rarefaction.qzv'.format(diversity_dir))"
   ]
  },
  {
   "cell_type": "markdown",
   "metadata": {},
   "source": [
    "## Core diversity\n",
    " - Inputs: \n",
    "     - insertion-table.qza (FeatureData[Frequency] artifact)\n",
    "     - sepp-tree.qza (Phylogeny[Rooted] artifact)\n",
    "     - metadata.tsv (tab seperated table) -- highly recommend using filtered metadata here\n",
    " - Outputs: \n",
    "     - rarefied-table.qza (FeatureTable[Frequency]\n",
    "     - rarefied-table.qzv (Visualization)\n",
    "     - shannon-vector.qza SampleData[AlphaDiversity]\n",
    "     - faith-pd-vector.qza SampleData[AlphaDiversity]\n",
    "     - faith-pd-group-significance.qzv (Visualization)\n",
    "     - uw-unifrac-exercise-significance.qzv (Visualization)\n",
    "     - uw-unifrac-emperor.qzv (Visualization)\n",
    " - Plugins: \n",
    "     - diversity\n",
    "     - feature-table"
   ]
  },
  {
   "cell_type": "code",
   "execution_count": null,
   "metadata": {},
   "outputs": [],
   "source": [
    "# Depth to rarefy to, will lose all samples below this depth and sample from those above\n",
    "depth = 5000"
   ]
  },
  {
   "cell_type": "code",
   "execution_count": null,
   "metadata": {},
   "outputs": [],
   "source": [
    "# Perform core diversity analysis\n",
    "core_diversity = diversity.pipelines.core_metrics_phylogenetic(table=f_table,\n",
    "                                                               phylogeny=tree,\n",
    "                                                               sampling_depth=depth,\n",
    "                                                               metadata=filtered_meta_data,\n",
    "                                                               n_jobs=8)"
   ]
  },
  {
   "cell_type": "code",
   "execution_count": null,
   "metadata": {},
   "outputs": [],
   "source": [
    "# Visualize the rarefied feature table used for analysis\n",
    "rarefied_table_vis = feature_table.visualizers.summarize(table=core_diversity.rarefied_table, \n",
    "                                                         sample_metadata=filtered_meta_data)"
   ]
  },
  {
   "cell_type": "code",
   "execution_count": null,
   "metadata": {},
   "outputs": [],
   "source": [
    "# Save vectors and rarefied table\n",
    "core_diversity.rarefied_table.save('{}/rarefied-table.qza'.format(table_dir))\n",
    "rarefied_table_vis.visualization.save('{}/rarefied-table.qzv'.format(table_dir))\n",
    "core_diversity.shannon_vector.save('{}/shannon-vector.qza'.format(diversity_dir))\n",
    "core_diversity.faith_pd_vector.save('{}/faith-pd-vector.qza'.format(diversity_dir))\n",
    "core_diversity.unweighted_unifrac_distance_matrix.save('{}/uw-unifrac-distance-matrix.qza'.format(diversity_dir))"
   ]
  },
  {
   "cell_type": "markdown",
   "metadata": {},
   "source": [
    "### A. Alpha diversity significance testing\n",
    "As recommended by Bod, test alpha significance for shannon diversity and faith's pd\n",
    " - Input\n",
    "     - shannon-vector.qza (SampleData[AlphaDiversity])\n",
    "     - faith-pd-vector.qza (SampleData[AlphaDiversity])\n",
    " - Output\n",
    "     - shannon-group-significance.qzv (Visualization)\n",
    "     - faith-pd-group-significance.qzv (Visualization)\n",
    " - Plugin\n",
    "     - diversity"
   ]
  },
  {
   "cell_type": "code",
   "execution_count": null,
   "metadata": {},
   "outputs": [],
   "source": [
    "# Test and visualize shannon diversity for group significance\n",
    "shannon_div = diversity.visualizers.alpha_group_significance(alpha_diversity=core_diversity.shannon_vector, \n",
    "                                                             metadata=filtered_meta_data)\n",
    "#shannon_div.visualization"
   ]
  },
  {
   "cell_type": "code",
   "execution_count": null,
   "metadata": {},
   "outputs": [],
   "source": [
    "# Test and visualize faith's pd diversity for group significance\n",
    "faiths_div = diversity.visualizers.alpha_group_significance(alpha_diversity=core_diversity.faith_pd_vector, metadata= filtered_meta_data)\n",
    "#faiths_div.visualization"
   ]
  },
  {
   "cell_type": "code",
   "execution_count": null,
   "metadata": {},
   "outputs": [],
   "source": [
    "# Save significance visualizations\n",
    "shannon_div.visualization.save('{}/shannon-group-significance.qzv'.format(diversity_dir))\n",
    "faiths_div.visualization.save('{}/faith-pd-group-significance.qzv'.format(diversity_dir))"
   ]
  },
  {
   "cell_type": "markdown",
   "metadata": {},
   "source": [
    "### B. Beta diversity significance testing\n",
    "As recommended by Bod, test beta diversity significance using unweighted unifrac and visualize emperor plor\n",
    " - Input\n",
    "     - uw-unifrac-distance-matrix.qza (DistanceMatrix % Properties('phylogenetic'))\n",
    "     - metadata.tsv (tab seperated table)\n",
    " - Output\n",
    "     - uw-unifrac-exercise-significance/qzv (Visualization)\n",
    "     - uw-unifrac-emperor.qzv (Visualization)\n",
    " - Plugin\n",
    "     - diversity"
   ]
  },
  {
   "cell_type": "code",
   "execution_count": null,
   "metadata": {},
   "outputs": [],
   "source": [
    "# Remove '/' in exercise column values (https://forum.qiime2.org/t/plugin-error-from-diversity-alpha-rarefaction/4548/4)\n",
    "tmp_df = filtered_meta_data.to_dataframe()\n",
    "tmp_df['exercise_frequency'] = tmp_df['exercise_frequency'].map(lambda x: str(x).replace('/', ' a '))\n",
    "filtered_meta_data = qiime2.Metadata(tmp_df)"
   ]
  },
  {
   "cell_type": "code",
   "execution_count": null,
   "metadata": {},
   "outputs": [],
   "source": [
    "# Test and visualize unweighted unifrac for group significance\n",
    "uw_unifrac_div = diversity.visualizers.beta_group_significance(core_diversity.unweighted_unifrac_distance_matrix,\n",
    "                                                               metadata=filtered_meta_data.get_column('exercise_frequency'),\n",
    "                                                               pairwise=True)\n",
    "#uw_unifrac_div.visualization"
   ]
  },
  {
   "cell_type": "code",
   "execution_count": null,
   "metadata": {},
   "outputs": [],
   "source": [
    "# Visualize emperoro plot of unweighted unifrac\n",
    "#core_diversity.unweighted_unifrac_emperor"
   ]
  },
  {
   "cell_type": "code",
   "execution_count": null,
   "metadata": {},
   "outputs": [],
   "source": [
    "# Save the group significance and emperor visualizations\n",
    "uw_unifrac_div.visualization.save('{}/uw-unifrac-exercise-significance.qzv'.format(diversity_dir))\n",
    "core_diversity.unweighted_unifrac_emperor.save('{}/uw-unifrac-emperor.qzv'.format(diversity_dir))"
   ]
  },
  {
   "cell_type": "markdown",
   "metadata": {},
   "source": [
    "### C. Beta diversity significance testing with confounders using ADONIS\n",
    "As recommended by Bod, test beta diversity significance using ADONIS for confounders\n",
    " - Input\n",
    "     - uw-unifrac-distance-matrix.qza\n",
    " - Output\n",
    "     - adonis-exercise-significance.qzv\n",
    " - Plugin\n",
    "     - diversity\n",
    " - TODO\n",
    "     - Decide a formula\n",
    " - Help"
   ]
  },
  {
   "cell_type": "code",
   "execution_count": 6,
   "metadata": {},
   "outputs": [],
   "source": [
    "distance = qiime2.Artifact.load('{}/uw-unifrac-distance-matrix.qza'.format(diversity_dir))"
   ]
  },
  {
   "cell_type": "code",
   "execution_count": 11,
   "metadata": {},
   "outputs": [
    {
     "ename": "NameError",
     "evalue": "name 'core_diversity' is not defined",
     "output_type": "error",
     "traceback": [
      "\u001b[0;31m---------------------------------------------------------------------------\u001b[0m",
      "\u001b[0;31mNameError\u001b[0m                                 Traceback (most recent call last)",
      "\u001b[0;32m<ipython-input-11-f09e61e5e144>\u001b[0m in \u001b[0;36m<module>\u001b[0;34m\u001b[0m\n\u001b[1;32m      1\u001b[0m \u001b[0;31m# Perform covariate aware PERMANOVA\u001b[0m\u001b[0;34m\u001b[0m\u001b[0;34m\u001b[0m\u001b[0;34m\u001b[0m\u001b[0m\n\u001b[0;32m----> 2\u001b[0;31m adonis_vis = diversity.visualizers.adonis(distance_matrix=core_diversity.unweighted_unifrac_distance_matrix,\n\u001b[0m\u001b[1;32m      3\u001b[0m                                           \u001b[0mmetadata\u001b[0m\u001b[0;34m=\u001b[0m\u001b[0mfiltered_meta_data\u001b[0m\u001b[0;34m,\u001b[0m\u001b[0;34m\u001b[0m\u001b[0;34m\u001b[0m\u001b[0m\n\u001b[1;32m      4\u001b[0m                                           formula=\"exercise_frequency+sex\")\n\u001b[1;32m      5\u001b[0m \u001b[0;31m#adonis_vis.visualization\u001b[0m\u001b[0;34m\u001b[0m\u001b[0;34m\u001b[0m\u001b[0;34m\u001b[0m\u001b[0m\n",
      "\u001b[0;31mNameError\u001b[0m: name 'core_diversity' is not defined"
     ]
    }
   ],
   "source": [
    "# Perform covariate aware PERMANOVA\n",
    "adonis_vis = diversity.visualizers.adonis(distance_matrix=core_diversity.unweighted_unifrac_distance_matrix,\n",
    "                                          metadata=filtered_meta_data,\n",
    "                                          formula=\"exercise_frequency+sex\")\n",
    "#adonis_vis.visualization"
   ]
  },
  {
   "cell_type": "code",
   "execution_count": null,
   "metadata": {},
   "outputs": [],
   "source": [
    "# Save the visualization\n",
    "adonis_vis.visualization.save('{}/adonis-exercise-significance.qzv'.format(diversity_dir))"
   ]
  },
  {
   "cell_type": "markdown",
   "metadata": {},
   "source": [
    "### D. Compositionally aware beta diversity using DEICODE \n",
    " - Input\n",
    "     - insertion-table.qza\n",
    " - Output\n",
    "     - deicode-biplot.qza\n",
    "     - deicode-distance-matrix.qza\n",
    "     - deicode-emperor.qzv\n",
    "     - deicode-exercise-significance.qzv\n",
    " - Plugins\n",
    "     - deicode\n",
    "     - diversity\n",
    " - TODO\n",
    "     - \n",
    " - Help\n",
    "     - https://library.qiime2.org/plugins/deicode/19/\n",
    "     - https://github.com/biocore/DEICODE\n",
    "     - https://forum.qiime2.org/t/robust-aitchison-pca-beta-diversity-with-deicode/8333\n",
    "     - https://nbviewer.jupyter.org/github/biocore/DEICODE/blob/master/ipynb/tutorials/moving-pictures.ipynb\n",
    "     - https://nbviewer.jupyter.org/github/biocore/DEICODE/blob/master/ipynb/tutorials/moving-pictures-standalone-cli-and-api.ipynb"
   ]
  },
  {
   "cell_type": "code",
   "execution_count": null,
   "metadata": {},
   "outputs": [],
   "source": [
    "# Make a deicode subdirectory\n",
    "deicode_dir = '{}/deicode'.format(diversity_dir)\n",
    "if not os.path.exists(deicode_dir): \n",
    "    os.makedirs(deicode_dir)"
   ]
  },
  {
   "cell_type": "code",
   "execution_count": null,
   "metadata": {},
   "outputs": [],
   "source": [
    "# Run robust Atchison PCA\n",
    "deicode_result = deicode.methods.auto_rpca(table=f_table)"
   ]
  },
  {
   "cell_type": "code",
   "execution_count": null,
   "metadata": {},
   "outputs": [],
   "source": [
    "# Visualize the PCoA biplot generated\n",
    "feature_meta_data = taxonomic_class.view(qiime2.Metadata)\n",
    "deicode_vis = emperor.visualizers.biplot(biplot=deicode_result.biplot, \n",
    "                                         sample_metadata=filtered_meta_data, \n",
    "                                         feature_metadata=feature_meta_data)\n",
    "#deicode_vis.visualization"
   ]
  },
  {
   "cell_type": "code",
   "execution_count": null,
   "metadata": {},
   "outputs": [],
   "source": [
    "# Perform PERMANOVA on exercise frequency\n",
    "deicode_sig = diversity.visualizers.beta_group_significance(distance_matrix=deicode_result.distance_matrix,\n",
    "                                                           metadata=filtered_meta_data.get_column('exercise_frequency'),\n",
    "                                                           method='permanova')\n",
    "#deicode_sig.visualization"
   ]
  },
  {
   "cell_type": "code",
   "execution_count": null,
   "metadata": {},
   "outputs": [],
   "source": [
    "# Save results and visualization\n",
    "deicode_result.biplot.save('{}/deicode-biplot.qza'.format(deicode_dir))\n",
    "deicode_result.distance_matrix.save('{}/deicode-distance-matrix.qza'.format(deicode_dir))\n",
    "deicode_vis.visualization.save('{}/deicode-emperor.qzv'.format(deicode_dir))\n",
    "deicode_sig.visualization.save('{}/deicode-exercise-significance.qzv'.format(deicode_dir))"
   ]
  },
  {
   "cell_type": "markdown",
   "metadata": {},
   "source": [
    "## Calculating differential abundance with Songbird\n",
    " - Input\n",
    "     - insertion-table.qza (FeatureTable[Frequency])\n",
    "     - metadata.tsv\n",
    "     - formula (String)\n",
    " - Output\n",
    "     - regression-stats.qza (SampleData[SongbirdStats])\n",
    "     - regression-stats.qzv (Visualization)\n",
    "     - differentials.qza (FeatureData[Differential])\n",
    "     - differentials.qzv (Visualization)\n",
    " - TODO\n",
    "     - When running full dataset, will need fine tune error curves\n",
    "     - Will need to decide exactly what formula I want (necessary covariates for baseline, add exercise for test\n",
    "     - Question we are trying to answer is does adding exercise_frequency contribute to taxa abundance prediction\n",
    "     - Fully understand differential abundances table\n",
    " - Help\n",
    "     - https://github.com/biocore/songbird/\n",
    "     - https://github.com/biocore/songbird/issues/126\n",
    "     - https://github.com/knightlab-analyses/reference-frames"
   ]
  },
  {
   "cell_type": "code",
   "execution_count": 6,
   "metadata": {},
   "outputs": [],
   "source": [
    "clean_meta_data = qiime2.Metadata.load('{}/cleaned-filtered-metadata.tsv'.format(data_dir))"
   ]
  },
  {
   "cell_type": "code",
   "execution_count": 7,
   "metadata": {},
   "outputs": [],
   "source": [
    "f_table = qiime2.Artifact.load('{}/never-removed-table.qza'.format(table_dir))"
   ]
  },
  {
   "cell_type": "code",
   "execution_count": 40,
   "metadata": {},
   "outputs": [],
   "source": [
    "form = \"C(exercise_frequency, Diff, levels=['Daily', 'Regularly (3-5 times/week)', 'Occasionally (1-2 times/week)', 'Rarely (a few times/month)'])\"\n",
    "form2 = \"C(exercise_frequency, Treatment('Rarely (a few times/month)'))\""
   ]
  },
  {
   "cell_type": "code",
   "execution_count": 9,
   "metadata": {},
   "outputs": [],
   "source": [
    "num_samples = len(f_table.view(pd.DataFrame))\n",
    "test_examples = int(num_samples*0.1)"
   ]
  },
  {
   "cell_type": "code",
   "execution_count": 30,
   "metadata": {},
   "outputs": [],
   "source": [
    "clean_df = clean_meta_data.to_dataframe()"
   ]
  },
  {
   "cell_type": "code",
   "execution_count": 31,
   "metadata": {},
   "outputs": [],
   "source": [
    "clean_meta_data_df = clean_df[clean_df[\"exercise_frequency\"].isin([\"Daily\", \"Rarely (a few times/month)\"])]"
   ]
  },
  {
   "cell_type": "code",
   "execution_count": 39,
   "metadata": {},
   "outputs": [],
   "source": [
    "clean_m = qiime2.Metadata(clean_meta_data_df)"
   ]
  },
  {
   "cell_type": "code",
   "execution_count": 43,
   "metadata": {},
   "outputs": [],
   "source": [
    "f_table_m = feature_table.methods.filter_samples(table=f_table, metadata=clean_m)"
   ]
  },
  {
   "cell_type": "code",
   "execution_count": 46,
   "metadata": {},
   "outputs": [],
   "source": [
    "f_table_m_vis = feature_table.visualizers.summarize(table=f_table_m.filtered_table, sample_metadata=clean_m)"
   ]
  },
  {
   "cell_type": "code",
   "execution_count": 56,
   "metadata": {},
   "outputs": [
    {
     "data": {
      "text/plain": [
       "'../results/full/2020_05_15/feature_tables/two-class-table.qza'"
      ]
     },
     "execution_count": 56,
     "metadata": {},
     "output_type": "execute_result"
    }
   ],
   "source": [
    "f_table_m.filtered_table.save('{}/two-class-table.qza'.format(table_dir))"
   ]
  },
  {
   "cell_type": "code",
   "execution_count": 57,
   "metadata": {},
   "outputs": [],
   "source": [
    "clean_m.save('{}/two-class-metadata.tsv'.format(data_dir))"
   ]
  },
  {
   "cell_type": "code",
   "execution_count": 48,
   "metadata": {},
   "outputs": [],
   "source": [
    "#f_table_m_vis.visualization"
   ]
  },
  {
   "cell_type": "code",
   "execution_count": 50,
   "metadata": {},
   "outputs": [
    {
     "name": "stderr",
     "output_type": "stream",
     "text": [
      "100%|██████████| 8600/8600 [03:25<00:00, 41.85it/s]\n"
     ]
    }
   ],
   "source": [
    "# Model with exercise_frequency as covariate\n",
    "songbird_result = songbird.methods.multinomial(table=f_table_m.filtered_table,\n",
    "                                               metadata=clean_m,\n",
    "                                               formula=form2,\n",
    "                                               num_random_test_examples=test_examples,\n",
    "                                               epochs=200,\n",
    "                                               batch_size=32,\n",
    "                                               differential_prior=0.05,\n",
    "                                               random_seed=13,\n",
    "                                               min_sample_count=5000,\n",
    "                                               min_feature_count=100)"
   ]
  },
  {
   "cell_type": "code",
   "execution_count": 51,
   "metadata": {},
   "outputs": [
    {
     "name": "stderr",
     "output_type": "stream",
     "text": [
      "100%|██████████| 8600/8600 [03:05<00:00, 46.24it/s]\n"
     ]
    }
   ],
   "source": [
    "# Null model\n",
    "null_result = songbird.methods.multinomial(table=f_table_m.filtered_table,\n",
    "                                           metadata=clean_m,\n",
    "                                           formula=\"1\",\n",
    "                                           num_random_test_examples=test_examples,\n",
    "                                           epochs=200,\n",
    "                                           batch_size=32,\n",
    "                                           differential_prior=0.05,\n",
    "                                           random_seed=13,\n",
    "                                           min_sample_count=5000,\n",
    "                                           min_feature_count=100)"
   ]
  },
  {
   "cell_type": "code",
   "execution_count": 52,
   "metadata": {},
   "outputs": [
    {
     "data": {
      "text/html": [
       "<div><img onload=\"(function(div, url){\n",
       "if (typeof require !== 'undefined') {\n",
       "    var baseURL = require.toUrl('').split('/').slice(0, -2).join('/');\n",
       "} else {\n",
       "    var baseURL = JSON.parse(\n",
       "        document.getElementById('jupyter-config-data').innerHTML\n",
       "    ).baseUrl.slice(0, -1);\n",
       "}\n",
       "url = baseURL + url;\n",
       "fetch(url).then(function(res) {\n",
       "    if (res.status === 404) {\n",
       "        div.innerHTML = 'Install QIIME 2 Jupyter extension with:<br />' +\n",
       "                        '<code>jupyter serverextension enable --py qiime2' +\n",
       "                        ' --sys-prefix</code><br />then restart your server.' +\n",
       "                        '<br /><br />(Interactive output not available on ' +\n",
       "                        'static notebook viewer services like nbviewer.)';\n",
       "    } else if (res.status === 409) {\n",
       "        div.innerHTML = 'Visualization no longer in scope. Re-run this cell' +\n",
       "                        ' to see the visualization.';\n",
       "    } else if (res.ok) {\n",
       "        url = res.url;\n",
       "        div.innerHTML = '<iframe src=\\'' + url + '\\' style=\\'' +\n",
       "                        'width: 100%; height: 700px; border: 0;\\'>' +\n",
       "                        '</iframe><hr />Open in a: <a href=\\'' + url + '\\'' +\n",
       "                        ' target=\\'_blank\\'>new window</a>'\n",
       "    } else {\n",
       "        div.innerHTML = 'Something has gone wrong. Check notebook server for' +\n",
       "                        ' errors.';\n",
       "    }\n",
       "});\n",
       "})(this.parentElement, '/qiime2/redirect?location=/var/folders/tm/f8q3_wcj5s98dwjv86bvq7hr0000gn/T/qiime2-archive-q5qtcp2o')\" src=\"data:image/gif;base64,R0lGODlhAQABAIAAAP///wAAACH5BAEAAAAALAAAAAABAAEAAAICRAEAOw==\" /></div>"
      ],
      "text/plain": [
       "<visualization: Visualization uuid: 7332babb-25de-444e-b9fc-1fe0fef138a0>"
      ]
     },
     "execution_count": 52,
     "metadata": {},
     "output_type": "execute_result"
    }
   ],
   "source": [
    "# Visualize error curves for baseline vs model\n",
    "songbird_vis = songbird.visualizers.summarize_paired(regression_stats=songbird_result.regression_stats, \n",
    "                                                     baseline_stats=null_result.regression_stats)\n",
    "songbird_vis.visualization"
   ]
  },
  {
   "cell_type": "code",
   "execution_count": 54,
   "metadata": {},
   "outputs": [
    {
     "data": {
      "text/html": [
       "<div><img onload=\"(function(div, url){\n",
       "if (typeof require !== 'undefined') {\n",
       "    var baseURL = require.toUrl('').split('/').slice(0, -2).join('/');\n",
       "} else {\n",
       "    var baseURL = JSON.parse(\n",
       "        document.getElementById('jupyter-config-data').innerHTML\n",
       "    ).baseUrl.slice(0, -1);\n",
       "}\n",
       "url = baseURL + url;\n",
       "fetch(url).then(function(res) {\n",
       "    if (res.status === 404) {\n",
       "        div.innerHTML = 'Install QIIME 2 Jupyter extension with:<br />' +\n",
       "                        '<code>jupyter serverextension enable --py qiime2' +\n",
       "                        ' --sys-prefix</code><br />then restart your server.' +\n",
       "                        '<br /><br />(Interactive output not available on ' +\n",
       "                        'static notebook viewer services like nbviewer.)';\n",
       "    } else if (res.status === 409) {\n",
       "        div.innerHTML = 'Visualization no longer in scope. Re-run this cell' +\n",
       "                        ' to see the visualization.';\n",
       "    } else if (res.ok) {\n",
       "        url = res.url;\n",
       "        div.innerHTML = '<iframe src=\\'' + url + '\\' style=\\'' +\n",
       "                        'width: 100%; height: 700px; border: 0;\\'>' +\n",
       "                        '</iframe><hr />Open in a: <a href=\\'' + url + '\\'' +\n",
       "                        ' target=\\'_blank\\'>new window</a>'\n",
       "    } else {\n",
       "        div.innerHTML = 'Something has gone wrong. Check notebook server for' +\n",
       "                        ' errors.';\n",
       "    }\n",
       "});\n",
       "})(this.parentElement, '/qiime2/redirect?location=/var/folders/tm/f8q3_wcj5s98dwjv86bvq7hr0000gn/T/qiime2-archive-el0yk25_')\" src=\"data:image/gif;base64,R0lGODlhAQABAIAAAP///wAAACH5BAEAAAAALAAAAAABAAEAAAICRAEAOw==\" /></div>"
      ],
      "text/plain": [
       "<visualization: Visualization uuid: 5cfbfd8f-c775-4e84-9432-0ea2d670da65>"
      ]
     },
     "execution_count": 54,
     "metadata": {},
     "output_type": "execute_result"
    }
   ],
   "source": [
    "# Visualize the differential abundances via a table\n",
    "differentials = metadata.visualizers.tabulate(songbird_result.differentials.view(qiime2.Metadata))\n",
    "differentials.visualization"
   ]
  },
  {
   "cell_type": "code",
   "execution_count": 55,
   "metadata": {},
   "outputs": [
    {
     "data": {
      "text/plain": [
       "'../results/full/2020_05_15/differential_abundance/two-differentials.qzv'"
      ]
     },
     "execution_count": 55,
     "metadata": {},
     "output_type": "execute_result"
    }
   ],
   "source": [
    "# Save error plots and differentials\n",
    "songbird_result.regression_stats.save('{}/two-regression-stats.qza'.format(diff_dir))\n",
    "songbird_vis.visualization.save('{}/two-regression-stats.qzv'.format(diff_dir))\n",
    "songbird_result.differentials.save('{}/two-differentials.qza'.format(diff_dir))\n",
    "differentials.visualization.save('{}/two-differentials.qzv'.format(diff_dir))"
   ]
  },
  {
   "cell_type": "markdown",
   "metadata": {},
   "source": [
    "## Visualizing differential abundance with Qurro\n",
    " - Input\n",
    "     - deicode-distance-matrix.qza ()\n",
    "     - differentials.qza ()\n",
    " - Output\n",
    "     - qurro-deicode-plot.qzv\n",
    "     - qurro-songbird-plot.qzv\n",
    " - Plugin\n",
    "     - qurro\n",
    " - TODO\n",
    "     - Better understand what I can do with this, may be more use case specific\n",
    " - Help\n",
    "     - https://github.com/biocore/qurro\n",
    "     - https://nbviewer.jupyter.org/github/biocore/qurro/blob/master/example_notebooks/moving_pictures/moving_pictures.ipynb"
   ]
  },
  {
   "cell_type": "code",
   "execution_count": null,
   "metadata": {},
   "outputs": [],
   "source": [
    "# DEICODE visualization\n",
    "qurro_deicode = qurro.visualizers.loading_plot(deicode_result.biplot,\n",
    "                                               table=f_table,\n",
    "                                               sample_metadata=filtered_meta_data,\n",
    "                                               feature_metadata=feature_meta_data)\n",
    "#qurro_deicode.visualization"
   ]
  },
  {
   "cell_type": "code",
   "execution_count": null,
   "metadata": {},
   "outputs": [],
   "source": [
    "# Songbird visualization\n",
    "qurro_songbird = qurro.visualizers.differential_plot(ranks=songbird_result.differentials,\n",
    "                                                     table=f_table,\n",
    "                                                     sample_metadata=filtered_meta_data,\n",
    "                                                     feature_metadata= feature_meta_data)\n",
    "#qurro_songbird.visualization"
   ]
  },
  {
   "cell_type": "code",
   "execution_count": null,
   "metadata": {},
   "outputs": [],
   "source": [
    "# Save the two qurro visualiztions\n",
    "qurro_deicode.visualization.save('{}/qurro-deicode-plot.qzv'.format(diff_dir))\n",
    "qurro_deicode.visualization.save('{}/qurro-songbird-plot.qzv'.format(diff_dir))"
   ]
  },
  {
   "cell_type": "markdown",
   "metadata": {},
   "source": [
    "## Sample classification\n",
    " - Input\n",
    "     - insertion-table.qza\n",
    "     - metadata.tsv\n",
    " - Output\n",
    "     - \n",
    " - Plugins\n",
    "     - sample-classifier\n",
    " - TODO\n",
    "     - collapsed taxonomy feature table\n",
    " - Help"
   ]
  },
  {
   "cell_type": "code",
   "execution_count": null,
   "metadata": {},
   "outputs": [],
   "source": [
    "# Train a sample classifier\n",
    "sample_class = sample_classifier.pipelines.classify_samples(table=f_table,\n",
    "                                            metadata=filtered_meta_data.get_column('exercise_frequency'),\n",
    "                                            estimator='RandomForestClassifier',\n",
    "                                            n_estimators=20,\n",
    "                                            parameter_tuning=True,\n",
    "                                            optimize_feature_selection=True,\n",
    "                                            random_state=13,\n",
    "                                            missing_samples='ignore')"
   ]
  },
  {
   "cell_type": "code",
   "execution_count": null,
   "metadata": {},
   "outputs": [],
   "source": [
    "# Create visualizations\n",
    "pred_vis = metadata.visualizers.tabulate(sample_class.predictions.view(qiime2.Metadata))\n",
    "prob_vis = metadata.visualizers.tabulate(sample_class.probabilities.view(qiime2.Metadata))\n",
    "importance_vis = metadata.visualizers.tabulate(sample_class.feature_importance.view(qiime2.Metadata))"
   ]
  },
  {
   "cell_type": "code",
   "execution_count": null,
   "metadata": {},
   "outputs": [],
   "source": [
    "# Save visualiztions\n",
    "pred_vis.visualization.save('{}/predictions.qzv'.format(class_dir))\n",
    "prob_vis.visualization.save('{}/probabilities.qzv'.format(class_dir))\n",
    "importance_vis.visualization.save('{}/feature-importance.qzv'.format(class_dir))\n",
    "sample_class.accuracy_results.save('{}/accuracy-results.qzv'.format(class_dir))\n",
    "sample_class.heatmap.save('{}/heatmap.qzv'.format(class_dir))\n",
    "sample_class.model_summary.save('{}/model_summary.qzv'.format(class_dir))"
   ]
  },
  {
   "cell_type": "code",
   "execution_count": null,
   "metadata": {},
   "outputs": [],
   "source": [
    "sample_classifierfacts\n",
    "sample_class.predictions.save('{}/predictions.qza'.format(class_dir))\n",
    "sample_class.probabilities.save('{}/probabilities.qza'.format(class_dir))\n",
    "sample_class.feature_importance.save('{}/feature-importance.qza'.format(class_dir))\n",
    "sample_class.sample_estimator.save('{}/sample_estimator.qza'.format(class_dir))"
   ]
  }
 ],
 "metadata": {
  "kernelspec": {
   "display_name": "qiime2-2020.2",
   "language": "python",
   "name": "qiime2-2020.2"
  },
  "language_info": {
   "codemirror_mode": {
    "name": "ipython",
    "version": 3
   },
   "file_extension": ".py",
   "mimetype": "text/x-python",
   "name": "python",
   "nbconvert_exporter": "python",
   "pygments_lexer": "ipython3",
   "version": "3.6.7"
  }
 },
 "nbformat": 4,
 "nbformat_minor": 4
}
