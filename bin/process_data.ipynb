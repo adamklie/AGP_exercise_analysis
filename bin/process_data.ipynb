{
 "cells": [
  {
   "cell_type": "markdown",
   "metadata": {},
   "source": [
    "#### Adam Klie<br>04/08/2020\n",
    "## Process downloaded data into necessary Qiime2 artifacts\n",
    " - __Input__: \n",
    "     - samples.biom table : BIOMV210Format\n",
    "     - metadata.tsv : tab seperated table\n",
    " - __Output__\n",
    "     - _Artifacts_\n",
    "         - table.qza : FeatureTable[Frequency]\n",
    "         - rep-seqs.qza : FeatureData[Sequence]\n",
    "         - insertion-tree.qza : Phylogeny[Rooted]\n",
    "         - filtered-table.qza : FeatureTable[Frequency]\n",
    "         - bespoke-taxonomy.qza : FeatureData[Taxonomy]\n",
    "     - _Visualizations_\n",
    "         - table.qzv : Results\n",
    "     - _Other_\n",
    "         - rep_seqs.fna : DNAFasta"
   ]
  },
  {
   "cell_type": "markdown",
   "metadata": {},
   "source": [
    "## Requirements\n",
    " - qiime2-2020.2 environment loaded as in README.md"
   ]
  },
  {
   "cell_type": "code",
   "execution_count": 1,
   "metadata": {},
   "outputs": [],
   "source": [
    "import biom\n",
    "import qiime2\n",
    "import pandas as pd\n",
    "import warnings\n",
    "warnings.filterwarnings('ignore')\n",
    "from qiime2.plugins import feature_table, fragment_insertion, feature_classifier"
   ]
  },
  {
   "cell_type": "code",
   "execution_count": 2,
   "metadata": {},
   "outputs": [],
   "source": [
    "data_dir = '../data/test/2020_05_05'\n",
    "table_dir = '../results/test/2020_05_06/feature_tables'\n",
    "seq_dir = '../results/test/2020_05_06/rep_seqs/'\n",
    "tree_dir = '../results/test/2020_05_06/fragment_insertion/'\n",
    "tax_dir = '../results/test/2020_05_06/taxonomy/'"
   ]
  },
  {
   "cell_type": "markdown",
   "metadata": {},
   "source": [
    "### Create FeatureTable[Frequency] artifact and load Metadata\n",
    " - Inputs: samples.biom, metadata.tsv\n",
    " - Outputs: FeatureTable[Frequency], Metadata objects\n",
    " - Plugins: feature-table\n",
    " - Other: Artifact API"
   ]
  },
  {
   "cell_type": "code",
   "execution_count": 3,
   "metadata": {},
   "outputs": [],
   "source": [
    "# Load data\n",
    "table = qiime2.Artifact.import_data(type='FeatureTable[Frequency]', \n",
    "                                    view='{}/samples.biom'.format(data_dir), \n",
    "                                    view_type='BIOMV210Format')\n",
    "metadata = qiime2.Metadata.load('{}/metadata.tsv'.format(data_dir))"
   ]
  },
  {
   "cell_type": "code",
   "execution_count": 4,
   "metadata": {},
   "outputs": [],
   "source": [
    "# Visualize the unfiltered-table\n",
    "table_vis = feature_table.visualizers.summarize(table=table, sample_metadata=metadata)\n",
    "#table_vis.visualization"
   ]
  },
  {
   "cell_type": "markdown",
   "metadata": {},
   "source": [
    "### Filter and rarify the feature table and sequences\n",
    " - Input: table.qza\n",
    " - Output: filtered_table.qza\n",
    " - Plugins: feature-table\n",
    " - Notes: \n",
    "     - Rarefy based on total feature frequency defined by threshold\n",
    "     - Include stool samples and healthy individuals\n",
    "     - Keep first occurence of host_subject_id (1 sample per subject)"
   ]
  },
  {
   "cell_type": "code",
   "execution_count": 5,
   "metadata": {},
   "outputs": [],
   "source": [
    "# Min number of features\n",
    "threshold = 1000"
   ]
  },
  {
   "cell_type": "code",
   "execution_count": 6,
   "metadata": {},
   "outputs": [],
   "source": [
    "# Inclusion criterion\n",
    "criterion = \"[body_site]='UBERON:feces' AND [subset_healthy] IN ('true', 'True', 'TRUE')\""
   ]
  },
  {
   "cell_type": "code",
   "execution_count": 7,
   "metadata": {},
   "outputs": [],
   "source": [
    "# Keep only one sample if multiple samples from same subject\n",
    "ids_to_keep = metadata.get_column('host_subject_id').to_series().drop_duplicates().index\n",
    "dedup_metadata = metadata.filter_ids(ids_to_keep)"
   ]
  },
  {
   "cell_type": "code",
   "execution_count": 8,
   "metadata": {},
   "outputs": [],
   "source": [
    "# Filter FeatureTable[Frequency] with feature-table filter-samples method\n",
    "filtered_table = feature_table.methods.filter_samples(table=table, \n",
    "                                                       min_frequency=threshold,\n",
    "                                                       metadata=dedup_metadata,\n",
    "                                                       where=criterion)"
   ]
  },
  {
   "cell_type": "code",
   "execution_count": 9,
   "metadata": {},
   "outputs": [],
   "source": [
    "# Visualize the filtered table\n",
    "filtered_table_vis = feature_table.visualizers.summarize(table=filtered_table.filtered_table, sample_metadata=dedup_metadata)\n",
    "#filtered_table_vis.visualization"
   ]
  },
  {
   "cell_type": "markdown",
   "metadata": {},
   "source": [
    "### Extract representive sequence\n",
    " - Inputs: filtered-table.qza -- FeatureTable[Frequency]\n",
    " - Outputs: rep_seqs.fna -- DNAFasta, rep-seqs.qza -- FeatureTable[Sequences]\n",
    " - Plugins: Artifact, feature-tabl"
   ]
  },
  {
   "cell_type": "code",
   "execution_count": 10,
   "metadata": {},
   "outputs": [],
   "source": [
    "# Generate Fasta file\n",
    "with open('{}/rep_seqs.fna'.format(seq_dir), 'w') as f:\n",
    "    seqs = ''\n",
    "    for i,seq in enumerate(filtered_table.filtered_table.view(pd.DataFrame).columns):\n",
    "        seqs = seqs + '>' + 'seq' + str(i+1) + '\\n' + seq + '\\n'\n",
    "    f.write(seqs[:-1])"
   ]
  },
  {
   "cell_type": "code",
   "execution_count": 11,
   "metadata": {},
   "outputs": [
    {
     "data": {
      "text/plain": [
       "'../results/test/2020_05_06/rep_seqs//rep-seqs.qza'"
      ]
     },
     "execution_count": 11,
     "metadata": {},
     "output_type": "execute_result"
    }
   ],
   "source": [
    "# Import as a FeatureData[Sequence] artifact\n",
    "rep_seqs = qiime2.Artifact.import_data(type='FeatureData[Sequence]', view='{}/rep_seqs.fna'.format(seq_dir))\n",
    "rep_seqs.save('{}/rep-seqs.qza'.format(seq_dir))"
   ]
  },
  {
   "cell_type": "code",
   "execution_count": 12,
   "metadata": {},
   "outputs": [],
   "source": [
    "# Visualize the sequences\n",
    "tabulate_seqs_vis = feature_table.visualizers.tabulate_seqs(data=rep_seqs)\n",
    "#tabulate_seqs_vis.visualization"
   ]
  },
  {
   "cell_type": "markdown",
   "metadata": {},
   "source": [
    "```python\n",
    "# Visualize using a heatmap\n",
    "%%time\n",
    "h_map = feature_table.vismetadataers.heatmap(table=table, sample_metadata=metadata.get_column('exercise_frequency'), normalize=True, cluster='features')\n",
    "```"
   ]
  },
  {
   "cell_type": "markdown",
   "metadata": {},
   "source": [
    "### Create a fragment insertion tree\n",
    " - Inputs: rep-seqs.qza -- FeatureTable[Sequence], sepp-refs-gg-13.8.qza -- SeppReferenceDatabase\n",
    " - Outputs: sepp-tree -- , filtered-table.qza FeatureTable[Frequency]\n",
    " - Plugins: Artifact, feature-table"
   ]
  },
  {
   "cell_type": "code",
   "execution_count": 13,
   "metadata": {},
   "outputs": [],
   "source": [
    "sepp_db= qiime2.Artifact.load('../data/sepp/sepp-refs-gg-13.8.qza')"
   ]
  },
  {
   "cell_type": "code",
   "execution_count": null,
   "metadata": {},
   "outputs": [],
   "source": [
    "sepp_tree = fragment_insertion.methods.sepp(representative_sequences=rep_seqs,\n",
    "                                            reference_database=sepp_db,\n",
    "                                            threads=2)"
   ]
  },
  {
   "cell_type": "code",
   "execution_count": null,
   "metadata": {},
   "outputs": [],
   "source": [
    "insertion_table = fragment_insertion.methods.filter_features(table=filtered_table.filtered_table, tree=sepp_tree)"
   ]
  },
  {
   "cell_type": "code",
   "execution_count": null,
   "metadata": {},
   "outputs": [],
   "source": [
    "sepp_tree.save('()/sepp-tree.qza'.format(tree_dir))\n",
    "insertions_table.save('{}/filtered-table.qza'.format(table_dir))"
   ]
  },
  {
   "cell_type": "markdown",
   "metadata": {},
   "source": [
    "### Create a taxonomy classifier and perform classification on sequences\n",
    " - Inputs: filtered-table.qza -- FeatureTable[Frequency]\n",
    " - Outputs: rep_seqs.fna -- DNAFasta, rep-seqs.qza -- FeatureTable[Sequences]\n",
    " - Plugins: Artifact, feature-table"
   ]
  },
  {
   "cell_type": "code",
   "execution_count": null,
   "metadata": {},
   "outputs": [],
   "source": [
    "human_stool_weights = qiime2.Artifact.load('../data/taxonomy/human-stool.qza')\n",
    "ref_seqs_v4 = qiime2.Artifact.load('../data/taxonomy/ref-seqs-v4.qza')\n",
    "ref_tax = qiime2.Artifact.load('../data/taxonomy/ref-tax.qza')"
   ]
  },
  {
   "cell_type": "code",
   "execution_count": null,
   "metadata": {},
   "outputs": [],
   "source": [
    "human_stool_v4_classifier = feature_classifier.methods.fit_classifier_naive_bayes(reference_reads=ref_seqs_v4,\n",
    "                                                                                  reference_taxonomy=ref_tax,\n",
    "                                                                                  class_weight=human_stool_weights)"
   ]
  },
  {
   "cell_type": "code",
   "execution_count": null,
   "metadata": {},
   "outputs": [],
   "source": [
    "bespoke_taxonomy = feature_classifier.methods.classify_sklearn(reads=rep_seqs, classifier=human_stool_v4_classifier)"
   ]
  },
  {
   "cell_type": "code",
   "execution_count": null,
   "metadata": {},
   "outputs": [],
   "source": [
    "bespoke_taxonomy.save('{}/bespoke_taxonomy.qza'.format(tax_dir))"
   ]
  }
 ],
 "metadata": {
  "kernelspec": {
   "display_name": "qiime2-2020.2",
   "language": "python",
   "name": "qiime2-2020.2"
  },
  "language_info": {
   "codemirror_mode": {
    "name": "ipython",
    "version": 3
   },
   "file_extension": ".py",
   "mimetype": "text/x-python",
   "name": "python",
   "nbconvert_exporter": "python",
   "pygments_lexer": "ipython3",
   "version": "3.6.7"
  }
 },
 "nbformat": 4,
 "nbformat_minor": 4
}
