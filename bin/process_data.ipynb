{
 "cells": [
  {
   "cell_type": "markdown",
   "metadata": {},
   "source": [
    "#### Adam Klie<br>05/06/2020\n",
    "# Process downloaded data into necessary Qiime2 artifacts\n",
    " - __Input__: \n",
    "     - ..data/.../samples.biom table : BIOMV210Format\n",
    "     - ../data/.../metadata.tsv : tab seperated table\n",
    " - __Output__\n",
    "     - _Artifacts_\n",
    "         - insertion-table.qza : FeatureTable[Frequency]\n",
    "         - rep-seqs.qza : FeatureData[Sequence]\n",
    "         - sepp-tree.qza : Phylogeny[Rooted]\n",
    "         - bespoke-taxonomy.qza : FeatureData[Taxonomy]\n",
    "     - _Visualizations_\n",
    "         - insertion-table.qzv\n",
    "         - rep-seqs.qzv\n",
    "         - sepp-tree.qzv\n",
    "         - bespoke-taxonomy.qzv"
   ]
  },
  {
   "cell_type": "markdown",
   "metadata": {},
   "source": [
    "## Requirements\n",
    " - qiime2-2020.2 environment loaded as in ../README.md"
   ]
  },
  {
   "cell_type": "code",
   "execution_count": 1,
   "metadata": {},
   "outputs": [],
   "source": [
    "import os\n",
    "import biom\n",
    "import qiime2\n",
    "import pandas as pd\n",
    "import warnings\n",
    "warnings.filterwarnings('ignore')\n",
    "from qiime2.plugins import feature_table, fragment_insertion, feature_classifier, metadata, empress"
   ]
  },
  {
   "cell_type": "markdown",
   "metadata": {},
   "source": [
    "### Define data results directories"
   ]
  },
  {
   "cell_type": "code",
   "execution_count": 2,
   "metadata": {},
   "outputs": [],
   "source": [
    "# Data and results directories\n",
    "data_dir = '../data/test/2020_05_14'\n",
    "results_dir = '../results/test/2020_05_14'\n",
    "if not os.path.exists(results_dir): \n",
    "    os.makedirs(results_dir)"
   ]
  },
  {
   "cell_type": "code",
   "execution_count": 3,
   "metadata": {},
   "outputs": [],
   "source": [
    "# Specific results directories\n",
    "table_dir = '{}/feature_tables'.format(results_dir)\n",
    "if not os.path.exists(table_dir): \n",
    "    os.makedirs(table_dir)\n",
    "\n",
    "seq_dir = '{}/rep_seqs'.format(results_dir)\n",
    "if not os.path.exists(seq_dir): \n",
    "    os.makedirs(seq_dir)\n",
    "    \n",
    "tax_dir = '{}/taxonomy'.format(results_dir)\n",
    "if not os.path.exists(tax_dir): \n",
    "    os.makedirs(tax_dir)\n",
    "\n",
    "tree_dir = '{}/fragment_insertion'.format(results_dir)\n",
    "if not os.path.exists(tree_dir): \n",
    "    os.makedirs(tree_dir)"
   ]
  },
  {
   "cell_type": "markdown",
   "metadata": {},
   "source": [
    "### Import unfiltered feature table artifact and load Metadata\n",
    " - Inputs: \n",
    "     - samples.biom (BIOMV210Format file)\n",
    "     - metadata.tsv (tab seperated file)\n",
    " - Outputs: \n",
    "     - table.qza (FeatureTable[Frequency] artifact)\n",
    "     - table.qzv (Visualization)\n",
    " - Plugins: \n",
    "     - feature-table\n",
    "     - Artifact API"
   ]
  },
  {
   "cell_type": "code",
   "execution_count": 4,
   "metadata": {},
   "outputs": [],
   "source": [
    "# Load data\n",
    "downloaded_table = qiime2.Artifact.import_data(type='FeatureTable[Frequency]', \n",
    "                                               view='{}/samples.biom'.format(data_dir), \n",
    "                                               view_type='BIOMV210Format')\n",
    "meta_data = qiime2.Metadata.load('{}/metadata.tsv'.format(data_dir))"
   ]
  },
  {
   "cell_type": "code",
   "execution_count": 5,
   "metadata": {},
   "outputs": [
    {
     "data": {
      "image/png": "[encoded data removed]",
      "text/plain": [
       "<Figure size 432x288 with 1 Axes>"
      ]
     },
     "metadata": {
      "needs_background": "light"
     },
     "output_type": "display_data"
    }
   ],
   "source": [
    "# Visualize the unfiltered table\n",
    "downloaded_table_vis = feature_table.visualizers.summarize(table=downloaded_table, sample_metadata=meta_data)\n",
    "#downloaded_table_vis.visualization"
   ]
  },
  {
   "cell_type": "code",
   "execution_count": 6,
   "metadata": {},
   "outputs": [
    {
     "data": {
      "text/plain": [
       "'../results/test/2020_05_14/feature_tables/table.qzv'"
      ]
     },
     "execution_count": 6,
     "metadata": {},
     "output_type": "execute_result"
    }
   ],
   "source": [
    "# Save the table and visualization (optional)\n",
    "downloaded_table.save('{}/table.qza'.format(table_dir))\n",
    "downloaded_table_vis.visualization.save('{}/table.qzv'.format(table_dir))"
   ]
  },
  {
   "cell_type": "markdown",
   "metadata": {},
   "source": [
    "### Filter the feature table\n",
    " - Input: \n",
    "     - table.qza (FeatureTable[Frequency] artifact)\n",
    " - Output: \n",
    "     - filtered-table.qza (FeatureTable[Frequency] artifact)\n",
    "     - filtered-table.qzv (Visualization)\n",
    " - Plugins: \n",
    "     - feature-table\n",
    " - Notes: \n",
    "     - Filter based on minimum total feature frequency pre sample defined by threshold\n",
    "     - Include stool samples and healthy individuals\n",
    "     - Keep first occurence of host_subject_id (1 sample per subject)"
   ]
  },
  {
   "cell_type": "code",
   "execution_count": 7,
   "metadata": {},
   "outputs": [],
   "source": [
    "# Thresholds for filtering samples and features\n",
    "min_feature_per_sample= 1000\n",
    "min_per_feature = 3"
   ]
  },
  {
   "cell_type": "code",
   "execution_count": 8,
   "metadata": {},
   "outputs": [],
   "source": [
    "# Inclusion criterion\n",
    "criterion = \"[body_site]='UBERON:feces'\"\\\n",
    "             \" AND [subset_healthy] IN ('true', 'True', 'TRUE')\"\\\n",
    "             \" AND [exercise_frequency] IN ('Never', 'Rarely (a few times/month)', 'Occasionally (1-2 times/week)', 'Regularly (3-5 times/week)', 'Daily')\""
   ]
  },
  {
   "cell_type": "code",
   "execution_count": 9,
   "metadata": {},
   "outputs": [],
   "source": [
    "# Keep only one sample if multiple samples from same subject\n",
    "ids_to_keep = meta_data.get_column('host_subject_id').to_series().drop_duplicates().index\n",
    "filtered_meta_data = meta_data.filter_ids(ids_to_keep)"
   ]
  },
  {
   "cell_type": "code",
   "execution_count": 10,
   "metadata": {},
   "outputs": [],
   "source": [
    "# Filter FeatureTable[Frequency] with feature-table filter-samples method\n",
    "sample_filter = feature_table.methods.filter_samples(table=downloaded_table, \n",
    "                                                     min_frequency=min_feature_per_sample,\n",
    "                                                     metadata=filtered_meta_data,\n",
    "                                                     where=criterion)"
   ]
  },
  {
   "cell_type": "code",
   "execution_count": 11,
   "metadata": {},
   "outputs": [
    {
     "data": {
      "image/png": "[encoded data removed]",
      "text/plain": [
       "<Figure size 432x288 with 1 Axes>"
      ]
     },
     "metadata": {
      "needs_background": "light"
     },
     "output_type": "display_data"
    }
   ],
   "source": [
    "# Visualize the filtered table\n",
    "sample_filter_vis = feature_table.visualizers.summarize(table=sample_filter.filtered_table, \n",
    "                                                        sample_metadata=filtered_meta_data)\n",
    "#sample_filter_vis.visualization"
   ]
  },
  {
   "cell_type": "code",
   "execution_count": 12,
   "metadata": {},
   "outputs": [],
   "source": [
    "# Filter FeatureTable[Frequency] with feature-table filter-features method\n",
    "feature_filter = feature_table.methods.filter_features(table=sample_filter.filtered_table,\n",
    "                                                       min_frequency=min_per_feature)"
   ]
  },
  {
   "cell_type": "code",
   "execution_count": 13,
   "metadata": {},
   "outputs": [
    {
     "data": {
      "image/png": "[encoded data removed]",
      "text/plain": [
       "<Figure size 432x288 with 1 Axes>"
      ]
     },
     "metadata": {
      "needs_background": "light"
     },
     "output_type": "display_data"
    }
   ],
   "source": [
    "# Visualize the filtered table\n",
    "feature_filter_vis = feature_table.visualizers.summarize(table=feature_filter.filtered_table,\n",
    "                                                         sample_metadata=meta_data)\n",
    "#feature_filter_vis.visualization"
   ]
  },
  {
   "cell_type": "code",
   "execution_count": 14,
   "metadata": {},
   "outputs": [
    {
     "data": {
      "text/plain": [
       "'../results/test/2020_05_14/feature_tables/feature-filtered-table.qzv'"
      ]
     },
     "execution_count": 14,
     "metadata": {},
     "output_type": "execute_result"
    }
   ],
   "source": [
    "# Save the tables and visualizations\n",
    "sample_filter.filtered_table.save('{}/sample-filtered-table.qza'.format(table_dir))\n",
    "sample_filter_vis.visualization.save('{}/sample-filtered-table.qzv'.format(table_dir))\n",
    "feature_filter.filtered_table.save('{}/feature-filtered-table.qza'.format(table_dir))\n",
    "feature_filter_vis.visualization.save('{}/feature-filtered-table.qzv'.format(table_dir))"
   ]
  },
  {
   "cell_type": "code",
   "execution_count": 15,
   "metadata": {},
   "outputs": [],
   "source": [
    "filtered_table = feature_filter.filtered_table.view(qiime2.Metadata)\n",
    "filtered_ids = \"\\n\".join(filtered_table.to_dataframe().index) + \"\\n\"\n",
    "with open('{}/filtered.ids'.format(table_dir), 'w') as f:\n",
    "    f.write(filtered_ids)"
   ]
  },
  {
   "cell_type": "markdown",
   "metadata": {},
   "source": [
    "### Extract representive sequence from filtered feature table\n",
    " - Inputs: \n",
    "     - filtered-table.qza (FeatureTable[Frequency] artifact)\n",
    " - Outputs: \n",
    "     - rep_seqs.fna (DNAFasta file) \n",
    "     - rep-seqs.qza (FeatureTable[Sequences] artifact)\n",
    " - Plugins: \n",
    "     - feature-table\n",
    "     - Artifact API"
   ]
  },
  {
   "cell_type": "code",
   "execution_count": 16,
   "metadata": {},
   "outputs": [],
   "source": [
    "# Generate Fasta file\n",
    "with open('{}/rep_seqs.fna'.format(seq_dir), 'w') as f:\n",
    "    seqs = ''\n",
    "    for i,seq in enumerate(feature_filter.filtered_table.view(pd.DataFrame).columns):\n",
    "        seqs = seqs + '>' + seq + '\\n' + seq + '\\n'\n",
    "    f.write(seqs[:-1])"
   ]
  },
  {
   "cell_type": "code",
   "execution_count": 17,
   "metadata": {},
   "outputs": [],
   "source": [
    "# Import as a FeatureData[Sequence] artifact\n",
    "rep_seqs = qiime2.Artifact.import_data(type='FeatureData[Sequence]', view='{}/rep_seqs.fna'.format(seq_dir))"
   ]
  },
  {
   "cell_type": "code",
   "execution_count": 18,
   "metadata": {},
   "outputs": [],
   "source": [
    "# Visualize the sequences\n",
    "tabulate_seqs_vis = feature_table.visualizers.tabulate_seqs(data=rep_seqs)\n",
    "#tabulate_seqs_vis.visualization"
   ]
  },
  {
   "cell_type": "code",
   "execution_count": 19,
   "metadata": {},
   "outputs": [
    {
     "data": {
      "text/plain": [
       "'../results/test/2020_05_14/rep_seqs/rep-seqs.qzv'"
      ]
     },
     "execution_count": 19,
     "metadata": {},
     "output_type": "execute_result"
    }
   ],
   "source": [
    "# Save the sequences and visualization\n",
    "rep_seqs.save('{}/rep-seqs.qza'.format(seq_dir))\n",
    "tabulate_seqs_vis.visualization.save('{}/rep-seqs.qzv'.format(seq_dir))"
   ]
  },
  {
   "cell_type": "markdown",
   "metadata": {},
   "source": [
    "### Create a fragment insertion tree and filter table based on insertion tree\n",
    " - Inputs: \n",
    "     - rep-seqs.qza (FeatureTable[Sequence] artifact) \n",
    "     - ../data/sepp/sepp-refs-gg-13.8.qza (SeppReferenceDatabase)\n",
    "     - filtered-table.qza (FeatureTable[Frequency] artifact)\n",
    " - Outputs: \n",
    "     - sepp_tree (result.Artifact)\n",
    "         - sepp-tree.qza (Phylogeny[Rooted] artifact)\n",
    "         - sepp-placements.qza (Placements artifact)\n",
    "         - sepp-tree.qzv (Visuzlization)\n",
    "     - insertion_result (result.Artifact) \n",
    "         - insertion-table.qza (FeatureTable[Frequency] artifact)\n",
    "         - insertion-table.qzv (Visualization)\n",
    "         - removed-table.qza (FeatureTable[Frequency] artifact)\n",
    "         - removed-table.qzv (Visualization)\n",
    " - Plugins: \n",
    "     - feature-table\n",
    "     - Artifact API"
   ]
  },
  {
   "cell_type": "code",
   "execution_count": 20,
   "metadata": {},
   "outputs": [],
   "source": [
    "# Load the sepp database (see README for download instructions)\n",
    "sepp_db = qiime2.Artifact.load('../data/sepp/sepp-refs-gg-13-8.qza')"
   ]
  },
  {
   "cell_type": "code",
   "execution_count": 25,
   "metadata": {},
   "outputs": [
    {
     "ename": "FileNotFoundError",
     "evalue": "[Errno 2] No such file or directory: 'run-sepp.sh': 'run-sepp.sh'",
     "output_type": "error",
     "traceback": [
      "\u001b[0;31m---------------------------------------------------------------------------\u001b[0m",
      "\u001b[0;31mFileNotFoundError\u001b[0m                         Traceback (most recent call last)",
      "\u001b[0;32m<ipython-input-25-14fd55f4accc>\u001b[0m in \u001b[0;36m<module>\u001b[0;34m\u001b[0m\n\u001b[1;32m      2\u001b[0m sepp_result = fragment_insertion.methods.sepp(representative_sequences=rep_seqs,\n\u001b[1;32m      3\u001b[0m                                               \u001b[0mreference_database\u001b[0m\u001b[0;34m=\u001b[0m\u001b[0msepp_db\u001b[0m\u001b[0;34m,\u001b[0m\u001b[0;34m\u001b[0m\u001b[0;34m\u001b[0m\u001b[0m\n\u001b[0;32m----> 4\u001b[0;31m                                               threads=4)\n\u001b[0m",
      "\u001b[0;32m<decorator-gen-325>\u001b[0m in \u001b[0;36msepp\u001b[0;34m(representative_sequences, reference_database, alignment_subset_size, placement_subset_size, threads, debug)\u001b[0m\n",
      "\u001b[0;32m~/opt/miniconda3/envs/qiime2-2020.2/lib/python3.6/site-packages/qiime2/sdk/action.py\u001b[0m in \u001b[0;36mbound_callable\u001b[0;34m(*args, **kwargs)\u001b[0m\n\u001b[1;32m    243\u001b[0m                 \u001b[0;31m# Execute\u001b[0m\u001b[0;34m\u001b[0m\u001b[0;34m\u001b[0m\u001b[0;34m\u001b[0m\u001b[0m\n\u001b[1;32m    244\u001b[0m                 outputs = self._callable_executor_(scope, callable_args,\n\u001b[0;32m--> 245\u001b[0;31m                                                    output_types, provenance)\n\u001b[0m\u001b[1;32m    246\u001b[0m \u001b[0;34m\u001b[0m\u001b[0m\n\u001b[1;32m    247\u001b[0m                 \u001b[0;32mif\u001b[0m \u001b[0mlen\u001b[0m\u001b[0;34m(\u001b[0m\u001b[0moutputs\u001b[0m\u001b[0;34m)\u001b[0m \u001b[0;34m!=\u001b[0m \u001b[0mlen\u001b[0m\u001b[0;34m(\u001b[0m\u001b[0mself\u001b[0m\u001b[0;34m.\u001b[0m\u001b[0msignature\u001b[0m\u001b[0;34m.\u001b[0m\u001b[0moutputs\u001b[0m\u001b[0;34m)\u001b[0m\u001b[0;34m:\u001b[0m\u001b[0;34m\u001b[0m\u001b[0;34m\u001b[0m\u001b[0m\n",
      "\u001b[0;32m~/opt/miniconda3/envs/qiime2-2020.2/lib/python3.6/site-packages/qiime2/sdk/action.py\u001b[0m in \u001b[0;36m_callable_executor_\u001b[0;34m(self, scope, view_args, output_types, provenance)\u001b[0m\n\u001b[1;32m    388\u001b[0m \u001b[0;34m\u001b[0m\u001b[0m\n\u001b[1;32m    389\u001b[0m     \u001b[0;32mdef\u001b[0m \u001b[0m_callable_executor_\u001b[0m\u001b[0;34m(\u001b[0m\u001b[0mself\u001b[0m\u001b[0;34m,\u001b[0m \u001b[0mscope\u001b[0m\u001b[0;34m,\u001b[0m \u001b[0mview_args\u001b[0m\u001b[0;34m,\u001b[0m \u001b[0moutput_types\u001b[0m\u001b[0;34m,\u001b[0m \u001b[0mprovenance\u001b[0m\u001b[0;34m)\u001b[0m\u001b[0;34m:\u001b[0m\u001b[0;34m\u001b[0m\u001b[0;34m\u001b[0m\u001b[0m\n\u001b[0;32m--> 390\u001b[0;31m         \u001b[0moutput_views\u001b[0m \u001b[0;34m=\u001b[0m \u001b[0mself\u001b[0m\u001b[0;34m.\u001b[0m\u001b[0m_callable\u001b[0m\u001b[0;34m(\u001b[0m\u001b[0;34m**\u001b[0m\u001b[0mview_args\u001b[0m\u001b[0;34m)\u001b[0m\u001b[0;34m\u001b[0m\u001b[0;34m\u001b[0m\u001b[0m\n\u001b[0m\u001b[1;32m    391\u001b[0m         \u001b[0moutput_views\u001b[0m \u001b[0;34m=\u001b[0m \u001b[0mtuplize\u001b[0m\u001b[0;34m(\u001b[0m\u001b[0moutput_views\u001b[0m\u001b[0;34m)\u001b[0m\u001b[0;34m\u001b[0m\u001b[0;34m\u001b[0m\u001b[0m\n\u001b[1;32m    392\u001b[0m \u001b[0;34m\u001b[0m\u001b[0m\n",
      "\u001b[0;32m~/opt/miniconda3/envs/qiime2-2020.2/lib/python3.6/site-packages/q2_fragment_insertion/_insertion.py\u001b[0m in \u001b[0;36msepp\u001b[0;34m(representative_sequences, reference_database, alignment_subset_size, placement_subset_size, threads, debug)\u001b[0m\n\u001b[1;32m     75\u001b[0m              \u001b[0mstr\u001b[0m\u001b[0;34m(\u001b[0m\u001b[0mreference_database\u001b[0m\u001b[0;34m.\u001b[0m\u001b[0mphylogeny\u001b[0m\u001b[0;34m.\u001b[0m\u001b[0mpath_maker\u001b[0m\u001b[0;34m(\u001b[0m\u001b[0;34m)\u001b[0m\u001b[0;34m)\u001b[0m\u001b[0;34m,\u001b[0m\u001b[0;34m\u001b[0m\u001b[0;34m\u001b[0m\u001b[0m\n\u001b[1;32m     76\u001b[0m              \u001b[0mstr\u001b[0m\u001b[0;34m(\u001b[0m\u001b[0mreference_database\u001b[0m\u001b[0;34m.\u001b[0m\u001b[0mraxml_info\u001b[0m\u001b[0;34m.\u001b[0m\u001b[0mpath_maker\u001b[0m\u001b[0;34m(\u001b[0m\u001b[0;34m)\u001b[0m\u001b[0;34m)\u001b[0m\u001b[0;34m,\u001b[0m\u001b[0;34m\u001b[0m\u001b[0;34m\u001b[0m\u001b[0m\n\u001b[0;32m---> 77\u001b[0;31m              debug)\n\u001b[0m\u001b[1;32m     78\u001b[0m         \u001b[0mouttree\u001b[0m \u001b[0;34m=\u001b[0m \u001b[0mos\u001b[0m\u001b[0;34m.\u001b[0m\u001b[0mpath\u001b[0m\u001b[0;34m.\u001b[0m\u001b[0mjoin\u001b[0m\u001b[0;34m(\u001b[0m\u001b[0mtmp\u001b[0m\u001b[0;34m,\u001b[0m \u001b[0mtree\u001b[0m\u001b[0;34m)\u001b[0m\u001b[0;34m\u001b[0m\u001b[0;34m\u001b[0m\u001b[0m\n\u001b[1;32m     79\u001b[0m         \u001b[0moutplacements\u001b[0m \u001b[0;34m=\u001b[0m \u001b[0mos\u001b[0m\u001b[0;34m.\u001b[0m\u001b[0mpath\u001b[0m\u001b[0;34m.\u001b[0m\u001b[0mjoin\u001b[0m\u001b[0;34m(\u001b[0m\u001b[0mtmp\u001b[0m\u001b[0;34m,\u001b[0m \u001b[0mplacements\u001b[0m\u001b[0;34m)\u001b[0m\u001b[0;34m\u001b[0m\u001b[0;34m\u001b[0m\u001b[0m\n",
      "\u001b[0;32m~/opt/miniconda3/envs/qiime2-2020.2/lib/python3.6/site-packages/q2_fragment_insertion/_insertion.py\u001b[0m in \u001b[0;36m_run\u001b[0;34m(seqs_fp, threads, cwd, alignment_subset_size, placement_subset_size, reference_alignment, reference_phylogeny, reference_info, debug)\u001b[0m\n\u001b[1;32m     51\u001b[0m         \u001b[0mcmd\u001b[0m\u001b[0;34m.\u001b[0m\u001b[0mextend\u001b[0m\u001b[0;34m(\u001b[0m\u001b[0;34m[\u001b[0m\u001b[0;34m'-b'\u001b[0m\u001b[0;34m,\u001b[0m \u001b[0;34m'1'\u001b[0m\u001b[0;34m]\u001b[0m\u001b[0;34m)\u001b[0m\u001b[0;34m\u001b[0m\u001b[0;34m\u001b[0m\u001b[0m\n\u001b[1;32m     52\u001b[0m \u001b[0;34m\u001b[0m\u001b[0m\n\u001b[0;32m---> 53\u001b[0;31m     \u001b[0msubprocess\u001b[0m\u001b[0;34m.\u001b[0m\u001b[0mrun\u001b[0m\u001b[0;34m(\u001b[0m\u001b[0mcmd\u001b[0m\u001b[0;34m,\u001b[0m \u001b[0mcheck\u001b[0m\u001b[0;34m=\u001b[0m\u001b[0;32mTrue\u001b[0m\u001b[0;34m,\u001b[0m \u001b[0mcwd\u001b[0m\u001b[0;34m=\u001b[0m\u001b[0mcwd\u001b[0m\u001b[0;34m)\u001b[0m\u001b[0;34m\u001b[0m\u001b[0;34m\u001b[0m\u001b[0m\n\u001b[0m\u001b[1;32m     54\u001b[0m \u001b[0;34m\u001b[0m\u001b[0m\n\u001b[1;32m     55\u001b[0m \u001b[0;34m\u001b[0m\u001b[0m\n",
      "\u001b[0;32m~/opt/miniconda3/envs/qiime2-2020.2/lib/python3.6/subprocess.py\u001b[0m in \u001b[0;36mrun\u001b[0;34m(input, timeout, check, *popenargs, **kwargs)\u001b[0m\n\u001b[1;32m    401\u001b[0m         \u001b[0mkwargs\u001b[0m\u001b[0;34m[\u001b[0m\u001b[0;34m'stdin'\u001b[0m\u001b[0;34m]\u001b[0m \u001b[0;34m=\u001b[0m \u001b[0mPIPE\u001b[0m\u001b[0;34m\u001b[0m\u001b[0;34m\u001b[0m\u001b[0m\n\u001b[1;32m    402\u001b[0m \u001b[0;34m\u001b[0m\u001b[0m\n\u001b[0;32m--> 403\u001b[0;31m     \u001b[0;32mwith\u001b[0m \u001b[0mPopen\u001b[0m\u001b[0;34m(\u001b[0m\u001b[0;34m*\u001b[0m\u001b[0mpopenargs\u001b[0m\u001b[0;34m,\u001b[0m \u001b[0;34m**\u001b[0m\u001b[0mkwargs\u001b[0m\u001b[0;34m)\u001b[0m \u001b[0;32mas\u001b[0m \u001b[0mprocess\u001b[0m\u001b[0;34m:\u001b[0m\u001b[0;34m\u001b[0m\u001b[0;34m\u001b[0m\u001b[0m\n\u001b[0m\u001b[1;32m    404\u001b[0m         \u001b[0;32mtry\u001b[0m\u001b[0;34m:\u001b[0m\u001b[0;34m\u001b[0m\u001b[0;34m\u001b[0m\u001b[0m\n\u001b[1;32m    405\u001b[0m             \u001b[0mstdout\u001b[0m\u001b[0;34m,\u001b[0m \u001b[0mstderr\u001b[0m \u001b[0;34m=\u001b[0m \u001b[0mprocess\u001b[0m\u001b[0;34m.\u001b[0m\u001b[0mcommunicate\u001b[0m\u001b[0;34m(\u001b[0m\u001b[0minput\u001b[0m\u001b[0;34m,\u001b[0m \u001b[0mtimeout\u001b[0m\u001b[0;34m=\u001b[0m\u001b[0mtimeout\u001b[0m\u001b[0;34m)\u001b[0m\u001b[0;34m\u001b[0m\u001b[0;34m\u001b[0m\u001b[0m\n",
      "\u001b[0;32m~/opt/miniconda3/envs/qiime2-2020.2/lib/python3.6/subprocess.py\u001b[0m in \u001b[0;36m__init__\u001b[0;34m(self, args, bufsize, executable, stdin, stdout, stderr, preexec_fn, close_fds, shell, cwd, env, universal_newlines, startupinfo, creationflags, restore_signals, start_new_session, pass_fds, encoding, errors)\u001b[0m\n\u001b[1;32m    707\u001b[0m                                 \u001b[0mc2pread\u001b[0m\u001b[0;34m,\u001b[0m \u001b[0mc2pwrite\u001b[0m\u001b[0;34m,\u001b[0m\u001b[0;34m\u001b[0m\u001b[0;34m\u001b[0m\u001b[0m\n\u001b[1;32m    708\u001b[0m                                 \u001b[0merrread\u001b[0m\u001b[0;34m,\u001b[0m \u001b[0merrwrite\u001b[0m\u001b[0;34m,\u001b[0m\u001b[0;34m\u001b[0m\u001b[0;34m\u001b[0m\u001b[0m\n\u001b[0;32m--> 709\u001b[0;31m                                 restore_signals, start_new_session)\n\u001b[0m\u001b[1;32m    710\u001b[0m         \u001b[0;32mexcept\u001b[0m\u001b[0;34m:\u001b[0m\u001b[0;34m\u001b[0m\u001b[0;34m\u001b[0m\u001b[0m\n\u001b[1;32m    711\u001b[0m             \u001b[0;31m# Cleanup if the child failed starting.\u001b[0m\u001b[0;34m\u001b[0m\u001b[0;34m\u001b[0m\u001b[0;34m\u001b[0m\u001b[0m\n",
      "\u001b[0;32m~/opt/miniconda3/envs/qiime2-2020.2/lib/python3.6/subprocess.py\u001b[0m in \u001b[0;36m_execute_child\u001b[0;34m(self, args, executable, preexec_fn, close_fds, pass_fds, cwd, env, startupinfo, creationflags, shell, p2cread, p2cwrite, c2pread, c2pwrite, errread, errwrite, restore_signals, start_new_session)\u001b[0m\n\u001b[1;32m   1342\u001b[0m                         \u001b[0;32mif\u001b[0m \u001b[0merrno_num\u001b[0m \u001b[0;34m==\u001b[0m \u001b[0merrno\u001b[0m\u001b[0;34m.\u001b[0m\u001b[0mENOENT\u001b[0m\u001b[0;34m:\u001b[0m\u001b[0;34m\u001b[0m\u001b[0;34m\u001b[0m\u001b[0m\n\u001b[1;32m   1343\u001b[0m                             \u001b[0merr_msg\u001b[0m \u001b[0;34m+=\u001b[0m \u001b[0;34m': '\u001b[0m \u001b[0;34m+\u001b[0m \u001b[0mrepr\u001b[0m\u001b[0;34m(\u001b[0m\u001b[0merr_filename\u001b[0m\u001b[0;34m)\u001b[0m\u001b[0;34m\u001b[0m\u001b[0;34m\u001b[0m\u001b[0m\n\u001b[0;32m-> 1344\u001b[0;31m                     \u001b[0;32mraise\u001b[0m \u001b[0mchild_exception_type\u001b[0m\u001b[0;34m(\u001b[0m\u001b[0merrno_num\u001b[0m\u001b[0;34m,\u001b[0m \u001b[0merr_msg\u001b[0m\u001b[0;34m,\u001b[0m \u001b[0merr_filename\u001b[0m\u001b[0;34m)\u001b[0m\u001b[0;34m\u001b[0m\u001b[0;34m\u001b[0m\u001b[0m\n\u001b[0m\u001b[1;32m   1345\u001b[0m                 \u001b[0;32mraise\u001b[0m \u001b[0mchild_exception_type\u001b[0m\u001b[0;34m(\u001b[0m\u001b[0merr_msg\u001b[0m\u001b[0;34m)\u001b[0m\u001b[0;34m\u001b[0m\u001b[0;34m\u001b[0m\u001b[0m\n\u001b[1;32m   1346\u001b[0m \u001b[0;34m\u001b[0m\u001b[0m\n",
      "\u001b[0;31mFileNotFoundError\u001b[0m: [Errno 2] No such file or directory: 'run-sepp.sh': 'run-sepp.sh'"
     ]
    }
   ],
   "source": [
    "# Insert sequences into sepp tree (WARNING: This takes a while)\n",
    "sepp_result = fragment_insertion.methods.sepp(representative_sequences=rep_seqs,\n",
    "                                              reference_database=sepp_db,\n",
    "                                              threads=4)"
   ]
  },
  {
   "cell_type": "code",
   "execution_count": null,
   "metadata": {},
   "outputs": [],
   "source": [
    "# Save the tree and the placements of the sequences\n",
    "sepp_result.tree.save('{}/sepp-tree.qza'.format(tree_dir))\n",
    "sepp_result.placements.save('{}/sepp-placements.qza'.format(tree_dir))"
   ]
  },
  {
   "cell_type": "code",
   "execution_count": null,
   "metadata": {},
   "outputs": [],
   "source": [
    "# Filter our current table by those sequences actually placed in the tree\n",
    "insertion_result = fragment_insertion.methods.filter_features(table=filtered_result.filtered_table, \n",
    "                                                              tree=sepp_result.tree)"
   ]
  },
  {
   "cell_type": "code",
   "execution_count": null,
   "metadata": {},
   "outputs": [],
   "source": [
    "# Visualize the final filtered table\n",
    "insertion_table_vis = feature_table.visualizers.summarize(insertion_result.filtered_table)\n",
    "#insertion_table_vis.visualization"
   ]
  },
  {
   "cell_type": "code",
   "execution_count": null,
   "metadata": {},
   "outputs": [],
   "source": [
    "#Filter again on sequence numbers to see if some have dropped below threshold?"
   ]
  },
  {
   "cell_type": "code",
   "execution_count": null,
   "metadata": {},
   "outputs": [],
   "source": [
    "# Save the final table and the visualization\n",
    "insertion_result.filtered_table.save('{}/insertion-table.qza'.format(table_dir))\n",
    "insertion_table_vis.visualization.save('{}/insertion-table.qzv'.format(table_dir))"
   ]
  },
  {
   "cell_type": "code",
   "execution_count": null,
   "metadata": {},
   "outputs": [],
   "source": [
    "# Visualize tree\n",
    "tree_vis = empress.visualizers.plot(tree=sepp_result.tree, feature_table=insertion_result.filtered_table, sample_metadata=meta_data)"
   ]
  },
  {
   "cell_type": "code",
   "execution_count": null,
   "metadata": {},
   "outputs": [],
   "source": [
    "# Save tree\n",
    "tree_vis.visualization.save('{}/sepp-tree.qzv'.format(tree_dir))"
   ]
  },
  {
   "cell_type": "code",
   "execution_count": null,
   "metadata": {},
   "outputs": [],
   "source": [
    "# Visualize the removed feature table\n",
    "removed_table_vis = feature_table.visualizers.summarize(table = insertion_result.removed_table)\n",
    "#removed_table_vis.visualization"
   ]
  },
  {
   "cell_type": "code",
   "execution_count": null,
   "metadata": {},
   "outputs": [],
   "source": [
    "# Save the removed table and the visualization\n",
    "insertion_result.removed_table.save('{}/removed-table.qza'.format(table_dir))\n",
    "removed_table_vis.visualization.save('{}/removed-table.qzv'.format(table_dir))"
   ]
  },
  {
   "cell_type": "markdown",
   "metadata": {},
   "source": [
    "### Create a taxonomy classifier and perform classification on sequences\n",
    " - Inputs: \n",
    "     - ../data/taxonomy/human-stool.qza (FeatureTable[RelativeFrequency] artifact)\n",
    "     - ../data/taxonomy/ref-seqs-v4.qza (FeatureData[Sequence] artifact)\n",
    "     - ../data/taxonomy/ref-tax.qza (FeatureData[Taxonomy] artifact)\n",
    "     - rep-seqs.qza (FeatureData[Sequence] artifact)\n",
    " - Outputs: \n",
    "     - gg138_v4_human-stool_classifier.qza (TaxonomicClassifier artifact)     \n",
    "     - bespoke-taxonomy.qza (FeatureData[Taxonomy] artifact)\n",
    " - Plugins: \n",
    "     - feature-table\n",
    "     - Artifact API"
   ]
  },
  {
   "cell_type": "code",
   "execution_count": null,
   "metadata": {},
   "outputs": [],
   "source": [
    "# Load the Greengenes sequences and taxonomy and Clawback human stool weights (see README for download instructions and details)\n",
    "human_stool_weights = qiime2.Artifact.load('../data/taxonomy/human-stool.qza')\n",
    "ref_seqs_v4 = qiime2.Artifact.load('../data/taxonomy/ref-seqs-v4.qza')\n",
    "ref_tax = qiime2.Artifact.load('../data/taxonomy/ref-tax.qza')"
   ]
  },
  {
   "cell_type": "code",
   "execution_count": null,
   "metadata": {},
   "outputs": [],
   "source": [
    "# Generate a classifier with the loaded reference data\n",
    "human_stool_v4_result = feature_classifier.methods.fit_classifier_naive_bayes(reference_reads=ref_seqs_v4,\n",
    "                                                                              reference_taxonomy=ref_tax,\n",
    "                                                                              class_weight=human_stool_weights)"
   ]
  },
  {
   "cell_type": "code",
   "execution_count": null,
   "metadata": {},
   "outputs": [],
   "source": [
    "# Use classifier to classify sequences\n",
    "bespoke_taxonomy = feature_classifier.methods.classify_sklearn(reads=rep_seqs, \n",
    "                                                               classifier=human_stool_v4_result.classifier)"
   ]
  },
  {
   "cell_type": "code",
   "execution_count": null,
   "metadata": {},
   "outputs": [],
   "source": [
    "# Save the classifier and the classification\n",
    "human_stool_v4_result.classifier.save('{}/gg138-v4-human-stool_classifier.qza'.format(tax_dir))\n",
    "bespoke_taxonomy.classification.save('{}/bespoke-taxonomy.qza'.format(tax_dir))"
   ]
  },
  {
   "cell_type": "code",
   "execution_count": null,
   "metadata": {},
   "outputs": [],
   "source": [
    "# Visualize the classification as a table\n",
    "taxonomy_vis = metadata.visualizers.tabulate(bespoke_taxonomy.classification.view(qiime2.Metadata))\n",
    "taxonomy_vis.visualization"
   ]
  },
  {
   "cell_type": "code",
   "execution_count": null,
   "metadata": {},
   "outputs": [],
   "source": [
    "# Save the visualization\n",
    "taxonomy_vis.visualization.save('{}/bespoke-taxonomy.qzv'.format(tax_dir))"
   ]
  }
 ],
 "metadata": {
  "kernelspec": {
   "display_name": "qiime2-2020.2",
   "language": "python",
   "name": "qiime2-2020.2"
  },
  "language_info": {
   "codemirror_mode": {
    "name": "ipython",
    "version": 3
   },
   "file_extension": ".py",
   "mimetype": "text/x-python",
   "name": "python",
   "nbconvert_exporter": "python",
   "pygments_lexer": "ipython3",
   "version": "3.6.7"
  }
 },
 "nbformat": 4,
 "nbformat_minor": 4
}
