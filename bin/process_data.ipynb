{
 "cells": [
  {
   "cell_type": "markdown",
   "metadata": {},
   "source": [
    "#### Adam Klie<br>05/06/2020\n",
    "# Process downloaded data into necessary Qiime2 artifacts\n",
    "Create core qiime2 artifacts for 16S microbiome analysis\n",
    " - __Input__: \n",
    "     - ..data/.../samples.biom table : BIOMV210Format\n",
    "     - ../data/.../metadata.tsv : tab seperated table\n",
    " - __Output__\n",
    "     - _Artifacts_\n",
    "         - insertion-table.qza : FeatureTable[Frequency]\n",
    "         - rep-seqs.qza : FeatureData[Sequence]\n",
    "         - sepp-tree.qza : Phylogeny[Rooted]\n",
    "         - bespoke-taxonomy.qza : FeatureData[Taxonomy]\n",
    "     - _Visualizations_\n",
    "         - insertion-table.qzv\n",
    "         - rep-seqs.qzv\n",
    "         - sepp-tree.qzv\n",
    "         - bespoke-taxonomy.qzv"
   ]
  },
  {
   "cell_type": "markdown",
   "metadata": {},
   "source": [
    "## Requirements\n",
    " - Follow README.md to set-up qiime2-2020.2 environment "
   ]
  },
  {
   "cell_type": "code",
   "execution_count": 2,
   "metadata": {},
   "outputs": [],
   "source": [
    "import os\n",
    "import biom\n",
    "import qiime2\n",
    "import pandas as pd\n",
    "import warnings\n",
    "warnings.filterwarnings('ignore')\n",
    "from qiime2.plugins import feature_table, fragment_insertion, feature_classifier, metadata, empress"
   ]
  },
  {
   "cell_type": "markdown",
   "metadata": {},
   "source": [
    "### Define data results directories"
   ]
  },
  {
   "cell_type": "code",
   "execution_count": 1,
   "metadata": {},
   "outputs": [
    {
     "ename": "NameError",
     "evalue": "name 'os' is not defined",
     "output_type": "error",
     "traceback": [
      "\u001b[0;31m---------------------------------------------------------------------------\u001b[0m",
      "\u001b[0;31mNameError\u001b[0m                                 Traceback (most recent call last)",
      "\u001b[0;32m<ipython-input-1-7de3170a30a1>\u001b[0m in \u001b[0;36m<module>\u001b[0;34m\u001b[0m\n\u001b[1;32m      2\u001b[0m \u001b[0mdata_dir\u001b[0m \u001b[0;34m=\u001b[0m \u001b[0;34m'../data/full/2020_05_11'\u001b[0m\u001b[0;34m\u001b[0m\u001b[0;34m\u001b[0m\u001b[0m\n\u001b[1;32m      3\u001b[0m \u001b[0mresults_dir\u001b[0m \u001b[0;34m=\u001b[0m \u001b[0;34m'../results/full/2020_06_02'\u001b[0m\u001b[0;34m\u001b[0m\u001b[0;34m\u001b[0m\u001b[0m\n\u001b[0;32m----> 4\u001b[0;31m \u001b[0;32mif\u001b[0m \u001b[0;32mnot\u001b[0m \u001b[0mos\u001b[0m\u001b[0;34m.\u001b[0m\u001b[0mpath\u001b[0m\u001b[0;34m.\u001b[0m\u001b[0mexists\u001b[0m\u001b[0;34m(\u001b[0m\u001b[0mresults_dir\u001b[0m\u001b[0;34m)\u001b[0m\u001b[0;34m:\u001b[0m\u001b[0;34m\u001b[0m\u001b[0;34m\u001b[0m\u001b[0m\n\u001b[0m\u001b[1;32m      5\u001b[0m     \u001b[0mos\u001b[0m\u001b[0;34m.\u001b[0m\u001b[0mmakedirs\u001b[0m\u001b[0;34m(\u001b[0m\u001b[0mresults_dir\u001b[0m\u001b[0;34m)\u001b[0m\u001b[0;34m\u001b[0m\u001b[0;34m\u001b[0m\u001b[0m\n",
      "\u001b[0;31mNameError\u001b[0m: name 'os' is not defined"
     ]
    }
   ],
   "source": [
    "# Data and results directories\n",
    "data_dir = '../data/full/2020_05_11'\n",
    "results_dir = '../results/full/2020_06_02'\n",
    "if not os.path.exists(results_dir): \n",
    "    os.makedirs(results_dir)"
   ]
  },
  {
   "cell_type": "code",
   "execution_count": null,
   "metadata": {},
   "outputs": [],
   "source": [
    "# Specific results directories\n",
    "table_dir = '{}/feature_tables'.format(results_dir)\n",
    "if not os.path.exists(table_dir): \n",
    "    os.makedirs(table_dir)\n",
    "\n",
    "seq_dir = '{}/rep_seqs'.format(results_dir)\n",
    "if not os.path.exists(seq_dir): \n",
    "    os.makedirs(seq_dir)\n",
    "    \n",
    "tax_dir = '{}/taxonomy'.format(results_dir)\n",
    "if not os.path.exists(tax_dir): \n",
    "    os.makedirs(tax_dir)\n",
    "\n",
    "tree_dir = '{}/fragment_insertion'.format(results_dir)\n",
    "if not os.path.exists(tree_dir): \n",
    "    os.makedirs(tree_dir)"
   ]
  },
  {
   "cell_type": "markdown",
   "metadata": {},
   "source": [
    "### Import unfiltered feature table artifact and load Metadata\n",
    " - Inputs: \n",
    "     - samples.biom (BIOMV210Format file)\n",
    "     - metadata.tsv (tab seperated file)\n",
    " - Outputs: \n",
    "     - table.qza (FeatureTable[Frequency] artifact)\n",
    "     - table.qzv (Visualization)\n",
    " - Plugins: \n",
    "     - feature-table\n",
    "     - Artifact API"
   ]
  },
  {
   "cell_type": "code",
   "execution_count": null,
   "metadata": {},
   "outputs": [],
   "source": [
    "# Load data\n",
    "downloaded_table = qiime2.Artifact.import_data(type='FeatureTable[Frequency]', \n",
    "                                               view='{}/samples.biom'.format(data_dir), \n",
    "                                               view_type='BIOMV210Format')\n",
    "meta_data = qiime2.Metadata.load('{}/metadata.tsv'.format(data_dir))"
   ]
  },
  {
   "cell_type": "code",
   "execution_count": null,
   "metadata": {},
   "outputs": [],
   "source": [
    "# Visualize the unfiltered table\n",
    "downloaded_table_vis = feature_table.visualizers.summarize(table=downloaded_table, sample_metadata=meta_data)\n",
    "#downloaded_table_vis.visualization"
   ]
  },
  {
   "cell_type": "code",
   "execution_count": null,
   "metadata": {},
   "outputs": [],
   "source": [
    "# Save the table and visualization (optional)\n",
    "downloaded_table.save('{}/table.qza'.format(table_dir))\n",
    "downloaded_table_vis.visualization.save('{}/table.qzv'.format(table_dir))"
   ]
  },
  {
   "cell_type": "markdown",
   "metadata": {},
   "source": [
    "### Filter the feature table\n",
    " - Input: \n",
    "     - table.qza (FeatureTable[Frequency] artifact)\n",
    " - Output: \n",
    "     - sample-filtered-table.qza (FeatureTable[Frequency] artifact)\n",
    "     - sample-filtered-table.qzv (Visualization)\n",
    "     - feature-filtered-table.qza (FeatureTable[Frequency] artifact)\n",
    "     - feature-filtered-table.qzv (Visualization)\n",
    " - Plugins: \n",
    "     - feature-table\n",
    " - Notes: \n",
    "     - Filter based on minimum total feature frequency per sample\n",
    "     - Include stool samples and healthy individuals\n",
    "     - Keep first occurence of host_subject_id (1 sample per subject)\n",
    "     - Only keep features that are not singletons or doubletons"
   ]
  },
  {
   "cell_type": "code",
   "execution_count": null,
   "metadata": {},
   "outputs": [],
   "source": [
    "# Thresholds for filtering samples and features\n",
    "min_feature_per_sample= 1000\n",
    "min_per_feature = 3"
   ]
  },
  {
   "cell_type": "code",
   "execution_count": null,
   "metadata": {},
   "outputs": [],
   "source": [
    "# Inclusion criterion\n",
    "criterion = \"[body_site]='UBERON:feces'\"\\\n",
    "             \" AND [subset_healthy] IN ('true', 'True', 'TRUE')\"\\\n",
    "             \" AND [exercise_frequency] IN ('Never', 'Rarely (a few times/month)', 'Occasionally (1-2 times/week)', 'Regularly (3-5 times/week)', 'Daily')\""
   ]
  },
  {
   "cell_type": "code",
   "execution_count": null,
   "metadata": {},
   "outputs": [],
   "source": [
    "# Keep only one sample if multiple samples from same subject\n",
    "ids_to_keep = meta_data.get_column('host_subject_id').to_series().drop_duplicates().index\n",
    "filtered_meta_data = meta_data.filter_ids(ids_to_keep)"
   ]
  },
  {
   "cell_type": "code",
   "execution_count": null,
   "metadata": {},
   "outputs": [],
   "source": [
    "# Filter FeatureTable[Frequency] with feature-table filter-samples method\n",
    "sample_filter = feature_table.methods.filter_samples(table=downloaded_table, \n",
    "                                                     min_frequency=min_feature_per_sample,\n",
    "                                                     metadata=filtered_meta_data,\n",
    "                                                     where=criterion)"
   ]
  },
  {
   "cell_type": "code",
   "execution_count": null,
   "metadata": {},
   "outputs": [],
   "source": [
    "# Visualize the filtered table\n",
    "sample_filter_vis = feature_table.visualizers.summarize(table=sample_filter.filtered_table, \n",
    "                                                        sample_metadata=filtered_meta_data)\n",
    "#sample_filter_vis.visualization"
   ]
  },
  {
   "cell_type": "code",
   "execution_count": null,
   "metadata": {},
   "outputs": [],
   "source": [
    "# Filter FeatureTable[Frequency] with feature-table filter-features method\n",
    "feature_filter = feature_table.methods.filter_features(table=sample_filter.filtered_table,\n",
    "                                                       min_frequency=min_per_feature)"
   ]
  },
  {
   "cell_type": "code",
   "execution_count": null,
   "metadata": {},
   "outputs": [],
   "source": [
    "# Visualize the filtered table\n",
    "feature_filter_vis = feature_table.visualizers.summarize(table=feature_filter.filtered_table,\n",
    "                                                         sample_metadata=meta_data)\n",
    "#feature_filter_vis.visualization"
   ]
  },
  {
   "cell_type": "code",
   "execution_count": null,
   "metadata": {},
   "outputs": [],
   "source": [
    "# Save the tables and visualizations\n",
    "sample_filter.filtered_table.save('{}/sample-filtered-table.qza'.format(table_dir))\n",
    "sample_filter_vis.visualization.save('{}/sample-filtered-table.qzv'.format(table_dir))\n",
    "feature_filter.filtered_table.save('{}/feature-filtered-table.qza'.format(table_dir))\n",
    "feature_filter_vis.visualization.save('{}/feature-filtered-table.qzv'.format(table_dir))"
   ]
  },
  {
   "cell_type": "code",
   "execution_count": null,
   "metadata": {},
   "outputs": [],
   "source": [
    "# Save the ids of samples that meet filtering criteria\n",
    "filtered_table = feature_filter.filtered_table.view(qiime2.Metadata)\n",
    "filtered_ids = \"\\n\".join(filtered_table.to_dataframe().index) + \"\\n\"\n",
    "with open('{}/filtered.ids'.format(table_dir), 'w') as f:\n",
    "    f.write(filtered_ids)"
   ]
  },
  {
   "cell_type": "markdown",
   "metadata": {},
   "source": [
    "### Extract representive sequence from filtered feature table\n",
    " - Inputs: \n",
    "     - feature-filtered-table.qza (FeatureTable[Frequency] artifact)\n",
    " - Outputs: \n",
    "     - rep_seqs.fna (DNAFasta file) \n",
    "     - rep-seqs.qza (FeatureTable[Sequences] artifact)\n",
    " - Plugins: \n",
    "     - feature-table\n",
    "     - Artifact API"
   ]
  },
  {
   "cell_type": "code",
   "execution_count": null,
   "metadata": {},
   "outputs": [],
   "source": [
    "# Generate Fasta file\n",
    "with open('{}/rep_seqs.fna'.format(seq_dir), 'w') as f:\n",
    "    seqs = ''\n",
    "    for i,seq in enumerate(feature_filter.filtered_table.view(pd.DataFrame).columns):\n",
    "        seqs = seqs + '>' + seq + '\\n' + seq + '\\n'\n",
    "    f.write(seqs[:-1])"
   ]
  },
  {
   "cell_type": "code",
   "execution_count": null,
   "metadata": {},
   "outputs": [],
   "source": [
    "# Import as a FeatureData[Sequence] artifact\n",
    "rep_seqs = qiime2.Artifact.import_data(type='FeatureData[Sequence]', view='{}/rep_seqs.fna'.format(seq_dir))"
   ]
  },
  {
   "cell_type": "code",
   "execution_count": null,
   "metadata": {},
   "outputs": [],
   "source": [
    "# Visualize the sequences\n",
    "tabulate_seqs_vis = feature_table.visualizers.tabulate_seqs(data=rep_seqs)\n",
    "#tabulate_seqs_vis.visualization"
   ]
  },
  {
   "cell_type": "code",
   "execution_count": null,
   "metadata": {},
   "outputs": [],
   "source": [
    "# Save the sequences and visualization\n",
    "rep_seqs.save('{}/rep-seqs.qza'.format(seq_dir))\n",
    "tabulate_seqs_vis.visualization.save('{}/rep-seqs.qzv'.format(seq_dir))"
   ]
  },
  {
   "cell_type": "markdown",
   "metadata": {},
   "source": [
    "### Create a fragment insertion tree and filter table based on insertion tree\n",
    " - Inputs: \n",
    "     - rep-seqs.qza (FeatureTable[Sequence] artifact) \n",
    "     - ../data/sepp/sepp-refs-gg-13.8.qza (SeppReferenceDatabase)\n",
    "     - feature-filtered-table.qza (FeatureTable[Frequency] artifact)\n",
    " - Outputs: \n",
    "     - sepp_tree (result.Artifact)\n",
    "         - sepp-tree.qza (Phylogeny[Rooted] artifact)\n",
    "         - sepp-placements.qza (Placements artifact)\n",
    "         - sepp-tree.qzv (Visuzlization)\n",
    "     - insertion_result (result.Artifact) \n",
    "         - insertion-table.qza (FeatureTable[Frequency] artifact)\n",
    "         - insertion-table.qzv (Visualization)\n",
    "         - removed-table.qza (FeatureTable[Frequency] artifact)\n",
    "         - removed-table.qzv (Visualization)\n",
    " - Plugins: \n",
    "     - feature-table\n",
    "     - Artifact API"
   ]
  },
  {
   "cell_type": "code",
   "execution_count": null,
   "metadata": {},
   "outputs": [],
   "source": [
    "# Load the sepp database (see README for download instructions)\n",
    "sepp_db = qiime2.Artifact.load('../data/sepp/sepp-refs-gg-13-8.qza')"
   ]
  },
  {
   "cell_type": "code",
   "execution_count": null,
   "metadata": {},
   "outputs": [],
   "source": [
    "# Insert sequences into sepp tree (WARNING: This takes a while)\n",
    "sepp_result = fragment_insertion.methods.sepp(representative_sequences=rep_seqs,\n",
    "                                              reference_database=sepp_db,\n",
    "                                              threads=8,\n",
    "                                              debug=True)"
   ]
  },
  {
   "cell_type": "code",
   "execution_count": null,
   "metadata": {},
   "outputs": [],
   "source": [
    "# Save the tree and the placements of the sequences\n",
    "sepp_result.tree.save('{}/sepp-tree.qza'.format(tree_dir))\n",
    "sepp_result.placements.save('{}/sepp-placements.qza'.format(tree_dir))"
   ]
  },
  {
   "cell_type": "code",
   "execution_count": null,
   "metadata": {},
   "outputs": [],
   "source": [
    "sepp_tree = qiime2.Artifact.load('{}/sepp-tree.qza'.format(tree_dir))\n",
    "feature_filtered_table = qiime2.Artifact.load('{}/feature-filtered-table.qza'.format(table_dir))"
   ]
  },
  {
   "cell_type": "code",
   "execution_count": null,
   "metadata": {},
   "outputs": [],
   "source": [
    "# Filter our current table by those sequences actually placed in the tree\n",
    "insertion_result = fragment_insertion.methods.filter_features(table=feature_filtered_table, \n",
    "                                                              tree=sepp_tree)"
   ]
  },
  {
   "cell_type": "code",
   "execution_count": null,
   "metadata": {},
   "outputs": [],
   "source": [
    "# Visualize the final filtered table\n",
    "insertion_table_vis = feature_table.visualizers.summarize(insertion_result.filtered_table)\n",
    "#insertion_table_vis.visualization"
   ]
  },
  {
   "cell_type": "code",
   "execution_count": null,
   "metadata": {},
   "outputs": [],
   "source": [
    "# Save the final table and the visualization\n",
    "insertion_result.filtered_table.save('{}/insertion-table.qza'.format(table_dir))\n",
    "insertion_table_vis.visualization.save('{}/insertion-table.qzv'.format(table_dir))"
   ]
  },
  {
   "cell_type": "code",
   "execution_count": null,
   "metadata": {},
   "outputs": [],
   "source": [
    "# Visualize tree\n",
    "tree_vis = empress.visualizers.plot(tree=sepp_tree, feature_table=insertion_result.filtered_table, sample_metadata=meta_data)"
   ]
  },
  {
   "cell_type": "code",
   "execution_count": null,
   "metadata": {},
   "outputs": [],
   "source": [
    "# Save tree\n",
    "tree_vis.visualization.save('{}/sepp-tree.qzv'.format(tree_dir))"
   ]
  },
  {
   "cell_type": "code",
   "execution_count": null,
   "metadata": {},
   "outputs": [],
   "source": [
    "# Visualize the removed feature table\n",
    "removed_table_vis = feature_table.visualizers.summarize(table = insertion_result.removed_table)\n",
    "#removed_table_vis.visualization"
   ]
  },
  {
   "cell_type": "code",
   "execution_count": null,
   "metadata": {},
   "outputs": [],
   "source": [
    "# Save the removed table and the visualization\n",
    "insertion_result.removed_table.save('{}/removed-table.qza'.format(table_dir))\n",
    "removed_table_vis.visualization.save('{}/removed-table.qzv'.format(table_dir))"
   ]
  },
  {
   "cell_type": "markdown",
   "metadata": {},
   "source": [
    "### Create a taxonomy classifier and perform classification on sequences\n",
    " - Inputs: \n",
    "     - ../data/taxonomy/human-stool.qza (FeatureTable[RelativeFrequency] artifact)\n",
    "     - ../data/taxonomy/ref-seqs-v4.qza (FeatureData[Sequence] artifact)\n",
    "     - ../data/taxonomy/ref-tax.qza (FeatureData[Taxonomy] artifact)\n",
    "     - rep-seqs.qza (FeatureData[Sequence] artifact)\n",
    " - Outputs: \n",
    "     - gg138_v4_human-stool_classifier.qza (TaxonomicClassifier artifact)     \n",
    "     - bespoke-taxonomy.qza (FeatureData[Taxonomy] artifact)\n",
    " - Plugins: \n",
    "     - feature-table\n",
    "     - Artifact API"
   ]
  },
  {
   "cell_type": "code",
   "execution_count": null,
   "metadata": {},
   "outputs": [],
   "source": [
    "# Load the Greengenes sequences and taxonomy and Clawback human stool weights (see README for download instructions and details)\n",
    "human_stool_weights = qiime2.Artifact.load('../data/taxonomy/human-stool.qza')\n",
    "ref_seqs_v4 = qiime2.Artifact.load('../data/taxonomy/ref-seqs-v4.qza')\n",
    "ref_tax = qiime2.Artifact.load('../data/taxonomy/ref-tax.qza')"
   ]
  },
  {
   "cell_type": "code",
   "execution_count": null,
   "metadata": {},
   "outputs": [],
   "source": [
    "# Generate a classifier with the loaded reference data\n",
    "human_stool_v4_result = feature_classifier.methods.fit_classifier_naive_bayes(reference_reads=ref_seqs_v4,\n",
    "                                                                              reference_taxonomy=ref_tax,\n",
    "                                                                              class_weight=human_stool_weights)"
   ]
  },
  {
   "cell_type": "code",
   "execution_count": null,
   "metadata": {},
   "outputs": [],
   "source": [
    "# Use classifier to classify sequences\n",
    "bespoke_taxonomy = feature_classifier.methods.classify_sklearn(reads=rep_seqs, \n",
    "                                                               classifier=human_stool_v4_result.classifier,\n",
    "                                                               n_jobs=-1)"
   ]
  },
  {
   "cell_type": "code",
   "execution_count": null,
   "metadata": {},
   "outputs": [],
   "source": [
    "# Save the classifier and the classification\n",
    "human_stool_v4_result.classifier.save('{}/gg138-v4-human-stool_classifier.qza'.format(tax_dir))\n",
    "bespoke_taxonomy.classification.save('{}/bespoke-taxonomy.qza'.format(tax_dir))"
   ]
  },
  {
   "cell_type": "code",
   "execution_count": null,
   "metadata": {},
   "outputs": [],
   "source": [
    "# Visualize the classification as a table\n",
    "taxonomy_vis = metadata.visualizers.tabulate(bespoke_taxonomy.classification.view(qiime2.Metadata))\n",
    "#taxonomy_vis.visualization"
   ]
  },
  {
   "cell_type": "code",
   "execution_count": null,
   "metadata": {},
   "outputs": [],
   "source": [
    "# Save the visualization\n",
    "taxonomy_vis.visualization.save('{}/bespoke-taxonomy.qzv'.format(tax_dir))"
   ]
  }
 ],
 "metadata": {
  "kernelspec": {
   "display_name": "qiime2-2020.2",
   "language": "python",
   "name": "qiime2-2020.2"
  },
  "language_info": {
   "codemirror_mode": {
    "name": "ipython",
    "version": 3
   },
   "file_extension": ".py",
   "mimetype": "text/x-python",
   "name": "python",
   "nbconvert_exporter": "python",
   "pygments_lexer": "ipython3",
   "version": "3.6.7"
  }
 },
 "nbformat": 4,
 "nbformat_minor": 4
}
