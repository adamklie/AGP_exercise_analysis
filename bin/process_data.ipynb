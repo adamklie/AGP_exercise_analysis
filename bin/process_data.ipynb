{
 "cells": [
  {
   "cell_type": "markdown",
   "metadata": {},
   "source": [
    "#### Adam Klie<br>05/06/2020\n",
    "# Process downloaded data into necessary Qiime2 artifacts\n",
    " - __Input__: \n",
    "     - ..data/.../samples.biom table : BIOMV210Format\n",
    "     - ../data/.../metadata.tsv : tab seperated table\n",
    " - __Output__\n",
    "     - _Artifacts_\n",
    "         - insertion-table.qza : FeatureTable[Frequency]\n",
    "         - rep-seqs.qza : FeatureData[Sequence]\n",
    "         - sepp-tree.qza : Phylogeny[Rooted]\n",
    "         - bespoke-taxonomy.qza : FeatureData[Taxonomy]\n",
    "     - _Visualizations_\n",
    "         - insertion-table.qzv\n",
    "         - rep-seqs.qzv\n",
    "         - sepp-tree.qzv\n",
    "         - bespoke-taxonomy.qzv"
   ]
  },
  {
   "cell_type": "markdown",
   "metadata": {},
   "source": [
    "## Requirements\n",
    " - qiime2-2020.2 environment loaded as in README.md"
   ]
  },
  {
   "cell_type": "code",
   "execution_count": 1,
   "metadata": {},
   "outputs": [],
   "source": [
    "import os\n",
    "import biom\n",
    "import qiime2\n",
    "import pandas as pd\n",
    "import warnings\n",
    "warnings.filterwarnings('ignore')\n",
    "from qiime2.plugins import feature_table, fragment_insertion, feature_classifier, metadata, empress"
   ]
  },
  {
   "cell_type": "markdown",
   "metadata": {},
   "source": [
    "### Define data results directories"
   ]
  },
  {
   "cell_type": "code",
   "execution_count": 2,
   "metadata": {},
   "outputs": [],
   "source": [
    "# Data and results directories\n",
    "data_dir = '../data/test/2020_05_13'\n",
    "results_dir = '../results/test/2020_05_13'\n",
    "if not os.path.exists(results_dir): \n",
    "    os.makedirs(results_dir)"
   ]
  },
  {
   "cell_type": "code",
   "execution_count": 3,
   "metadata": {},
   "outputs": [],
   "source": [
    "# Specific results directories\n",
    "table_dir = '{}/feature_tables'.format(results_dir)\n",
    "if not os.path.exists(table_dir): \n",
    "    os.makedirs(table_dir)\n",
    "\n",
    "seq_dir = '{}/rep_seqs'.format(results_dir)\n",
    "if not os.path.exists(seq_dir): \n",
    "    os.makedirs(seq_dir)\n",
    "    \n",
    "tax_dir = '{}/taxonomy'.format(results_dir)\n",
    "if not os.path.exists(tax_dir): \n",
    "    os.makedirs(tax_dir)\n",
    "\n",
    "tree_dir = '{}/fragment_insertion'.format(results_dir)\n",
    "if not os.path.exists(tree_dir): \n",
    "    os.makedirs(tree_dir)"
   ]
  },
  {
   "cell_type": "markdown",
   "metadata": {},
   "source": [
    "### Import unfiltered feature table artifact and load Metadata\n",
    " - Inputs: \n",
    "     - samples.biom (BIOMV210Format file)\n",
    "     - metadata.tsv (tab seperated file)\n",
    " - Outputs: \n",
    "     - table.qza (FeatureTable[Frequency] artifact)\n",
    "     - table.qzv (Visualization)\n",
    " - Plugins: \n",
    "     - feature-table\n",
    "     - Artifact API"
   ]
  },
  {
   "cell_type": "code",
   "execution_count": 4,
   "metadata": {},
   "outputs": [],
   "source": [
    "# Load data\n",
    "table = qiime2.Artifact.import_data(type='FeatureTable[Frequency]', \n",
    "                                    view='{}/samples.biom'.format(data_dir), \n",
    "                                    view_type='BIOMV210Format')\n",
    "meta_data = qiime2.Metadata.load('{}/metadata.tsv'.format(data_dir))"
   ]
  },
  {
   "cell_type": "code",
   "execution_count": 5,
   "metadata": {},
   "outputs": [],
   "source": [
    "# Visualize the unfiltered table\n",
    "table_vis = feature_table.visualizers.summarize(table=table, sample_metadata=meta_data)\n",
    "#table_vis.visualization"
   ]
  },
  {
   "cell_type": "code",
   "execution_count": 6,
   "metadata": {},
   "outputs": [
    {
     "data": {
      "text/plain": [
       "'../results/test/2020_05_13/feature_tables/table.qzv'"
      ]
     },
     "execution_count": 6,
     "metadata": {},
     "output_type": "execute_result"
    }
   ],
   "source": [
    "# Save the table and visualization (optional)\n",
    "table.save('{}/table.qza'.format(table_dir))\n",
    "table_vis.visualization.save('{}/table.qzv'.format(table_dir))"
   ]
  },
  {
   "cell_type": "markdown",
   "metadata": {},
   "source": [
    "### Filter the feature table\n",
    " - Input: \n",
    "     - table.qza (FeatureTable[Frequency] artifact)\n",
    " - Output: \n",
    "     - filtered-table.qza (FeatureTable[Frequency] artifact)\n",
    "     - filtered-table.qzv (Visualization)\n",
    " - Plugins: \n",
    "     - feature-table\n",
    " - Notes: \n",
    "     - Filter based on minimum total feature frequency pre sample defined by threshold\n",
    "     - Include stool samples and healthy individuals\n",
    "     - Keep first occurence of host_subject_id (1 sample per subject)"
   ]
  },
  {
   "cell_type": "code",
   "execution_count": 32,
   "metadata": {},
   "outputs": [],
   "source": [
    "# Min number of features, decide based on table_vis feature counts per sample \n",
    "threshold = 1000"
   ]
  },
  {
   "cell_type": "code",
   "execution_count": 33,
   "metadata": {},
   "outputs": [],
   "source": [
    "# Inclusion criterion\n",
    "criterion = \"[body_site]='UBERON:feces'\"\\\n",
    "             \" AND [subset_healthy] IN ('true', 'True', 'TRUE')\"\\\n",
    "             \" AND [exercise_frequency] IN ('Never', 'Rarely (a few times/month)', 'Occasionally (1-2 times/week)', 'Regularly (3-5 times/week)', 'Daily')\""
   ]
  },
  {
   "cell_type": "code",
   "execution_count": 34,
   "metadata": {},
   "outputs": [],
   "source": [
    "# Keep only one sample if multiple samples from same subject\n",
    "ids_to_keep = meta_data.get_column('host_subject_id').to_series().drop_duplicates().index\n",
    "filtered_meta_data = meta_data.filter_ids(ids_to_keep)"
   ]
  },
  {
   "cell_type": "code",
   "execution_count": 35,
   "metadata": {},
   "outputs": [],
   "source": [
    "# Filter FeatureTable[Frequency] with feature-table filter-samples method\n",
    "filtered_result = feature_table.methods.filter_samples(table=table, \n",
    "                                                       min_frequency=threshold,\n",
    "                                                       metadata=filtered_meta_data,\n",
    "                                                       where=criterion)"
   ]
  },
  {
   "cell_type": "code",
   "execution_count": 30,
   "metadata": {},
   "outputs": [],
   "source": [
    "# filtered_table = filtered_result.filtered_table.view(qiime2.Metadata)\n",
    "# filtered_ids = \"\\n\".join(filtered_table.to_dataframe().index) + \"\\n\"\n",
    "# with open('{}/filtered.ids'.format(table_dir), 'w') as f:\n",
    "#         f.write(filtered_ids)"
   ]
  },
  {
   "cell_type": "code",
   "execution_count": 36,
   "metadata": {},
   "outputs": [],
   "source": [
    "# Visualize the filtered table\n",
    "filtered_table_vis = feature_table.visualizers.summarize(table=filtered_result.filtered_table, sample_metadata=dedup_meta_data)\n",
    "#filtered_table_vis.visualization"
   ]
  },
  {
   "cell_type": "code",
   "execution_count": 37,
   "metadata": {},
   "outputs": [
    {
     "data": {
      "text/plain": [
       "'../results/test/2020_05_13/feature_tables/filtered-table.qzv'"
      ]
     },
     "execution_count": 37,
     "metadata": {},
     "output_type": "execute_result"
    }
   ],
   "source": [
    "# Save the table and visualization (optional)\n",
    "filtered_result.filtered_table.save('{}/filtered-table.qza'.format(table_dir))\n",
    "filtered_table_vis.visualization.save('{}/filtered-table.qzv'.format(table_dir))"
   ]
  },
  {
   "cell_type": "markdown",
   "metadata": {},
   "source": [
    "### Extract representive sequence from filtered feature table\n",
    " - Inputs: \n",
    "     - filtered-table.qza (FeatureTable[Frequency] artifact)\n",
    " - Outputs: \n",
    "     - rep_seqs.fna (DNAFasta file) \n",
    "     - rep-seqs.qza (FeatureTable[Sequences] artifact)\n",
    " - Plugins: \n",
    "     - feature-table\n",
    "     - Artifact API"
   ]
  },
  {
   "cell_type": "code",
   "execution_count": 38,
   "metadata": {},
   "outputs": [],
   "source": [
    "# Generate Fasta file\n",
    "with open('{}/rep_seqs.fna'.format(seq_dir), 'w') as f:\n",
    "    seqs = ''\n",
    "    for i,seq in enumerate(filtered_result.filtered_table.view(pd.DataFrame).columns):\n",
    "        seqs = seqs + '>' + seq + '\\n' + seq + '\\n'\n",
    "    f.write(seqs[:-1])"
   ]
  },
  {
   "cell_type": "code",
   "execution_count": 39,
   "metadata": {},
   "outputs": [],
   "source": [
    "# Import as a FeatureData[Sequence] artifact\n",
    "rep_seqs = qiime2.Artifact.import_data(type='FeatureData[Sequence]', view='{}/rep_seqs.fna'.format(seq_dir))"
   ]
  },
  {
   "cell_type": "code",
   "execution_count": 40,
   "metadata": {},
   "outputs": [],
   "source": [
    "# Visualize the sequences\n",
    "tabulate_seqs_vis = feature_table.visualizers.tabulate_seqs(data=rep_seqs)\n",
    "#tabulate_seqs_vis.visualization"
   ]
  },
  {
   "cell_type": "code",
   "execution_count": 41,
   "metadata": {},
   "outputs": [
    {
     "data": {
      "text/plain": [
       "'../results/test/2020_05_13/rep_seqs/rep-seqs.qzv'"
      ]
     },
     "execution_count": 41,
     "metadata": {},
     "output_type": "execute_result"
    }
   ],
   "source": [
    "# Save the sequences and visualization\n",
    "rep_seqs.save('{}/rep-seqs.qza'.format(seq_dir))\n",
    "tabulate_seqs_vis.visualization.save('{}/rep-seqs.qzv'.format(seq_dir))"
   ]
  },
  {
   "cell_type": "markdown",
   "metadata": {},
   "source": [
    "### Create a fragment insertion tree and filter table based on insertion tree\n",
    " - Inputs: \n",
    "     - rep-seqs.qza (FeatureTable[Sequence] artifact) \n",
    "     - ../data/sepp/sepp-refs-gg-13.8.qza (SeppReferenceDatabase)\n",
    "     - filtered-table.qza (FeatureTable[Frequency] artifact)\n",
    " - Outputs: \n",
    "     - sepp_tree (result.Artifact)\n",
    "         - sepp-tree.qza (Phylogeny[Rooted] artifact)\n",
    "         - sepp-placements.qza (Placements artifact)\n",
    "         - sepp-tree.qzv (Visuzlization)\n",
    "     - insertion_result (result.Artifact) \n",
    "         - insertion-table.qza (FeatureTable[Frequency] artifact)\n",
    "         - insertion-table.qzv (Visualization)\n",
    "         - removed-table.qza (FeatureTable[Frequency] artifact)\n",
    "         - removed-table.qzv (Visualization)\n",
    " - Plugins: \n",
    "     - feature-table\n",
    "     - Artifact API"
   ]
  },
  {
   "cell_type": "code",
   "execution_count": 42,
   "metadata": {},
   "outputs": [],
   "source": [
    "# Load the sepp database (see README for download instructions)\n",
    "sepp_db= qiime2.Artifact.load('../data/sepp/sepp-refs-gg-13.8.qza')"
   ]
  },
  {
   "cell_type": "code",
   "execution_count": 42,
   "metadata": {},
   "outputs": [],
   "source": [
    "# Insert sequences into sepp tree (WARNING: This takes a while)\n",
    "sepp_result = fragment_insertion.methods.sepp(representative_sequences=rep_seqs,\n",
    "                                              reference_database=sepp_db,\n",
    "                                              threads=4)"
   ]
  },
  {
   "cell_type": "code",
   "execution_count": 85,
   "metadata": {},
   "outputs": [
    {
     "data": {
      "text/plain": [
       "'../results/test/2020_05_06/fragment_insertion/sepp-placements.qza'"
      ]
     },
     "execution_count": 85,
     "metadata": {},
     "output_type": "execute_result"
    }
   ],
   "source": [
    "# Save the tree and the placements of the sequences\n",
    "sepp_result.tree.save('{}/sepp-tree.qza'.format(tree_dir))\n",
    "sepp_result.placements.save('{}/sepp-placements.qza'.format(tree_dir))"
   ]
  },
  {
   "cell_type": "code",
   "execution_count": 43,
   "metadata": {},
   "outputs": [],
   "source": [
    "# Filter our current table by those sequences actually placed in the tree\n",
    "insertion_result = fragment_insertion.methods.filter_features(table=filtered_result.filtered_table, \n",
    "                                                              tree=sepp_result.tree)"
   ]
  },
  {
   "cell_type": "code",
   "execution_count": null,
   "metadata": {},
   "outputs": [],
   "source": [
    "# Visualize the final filtered table\n",
    "insertion_table_vis = feature_table.visualizers.summarize(insertion_result.filtered_table)\n",
    "#insertion_table_vis.visualization"
   ]
  },
  {
   "cell_type": "code",
   "execution_count": null,
   "metadata": {},
   "outputs": [],
   "source": [
    "#Filter again on sequence numbers to see if some have dropped below threshold?"
   ]
  },
  {
   "cell_type": "code",
   "execution_count": 86,
   "metadata": {},
   "outputs": [
    {
     "data": {
      "text/plain": [
       "'../results/test/2020_05_06/feature_tables/insertion-table.qzv'"
      ]
     },
     "execution_count": 86,
     "metadata": {},
     "output_type": "execute_result"
    }
   ],
   "source": [
    "# Save the final table and the visualization\n",
    "insertion_result.filtered_table.save('{}/insertion-table.qza'.format(table_dir))\n",
    "insertion_table_vis.visualization.save('{}/insertion-table.qzv'.format(table_dir))"
   ]
  },
  {
   "cell_type": "code",
   "execution_count": 132,
   "metadata": {},
   "outputs": [],
   "source": [
    "# Visualize tree\n",
    "tree_vis = empress.visualizers.plot(tree=sepp_result.tree, feature_table=insertion_result.filtered_table, sample_metadata=meta_data)"
   ]
  },
  {
   "cell_type": "code",
   "execution_count": 133,
   "metadata": {},
   "outputs": [
    {
     "data": {
      "text/plain": [
       "'../results/test/2020_05_06/fragment_insertion/sepp-tree.qzv'"
      ]
     },
     "execution_count": 133,
     "metadata": {},
     "output_type": "execute_result"
    }
   ],
   "source": [
    "# Save tree\n",
    "tree_vis.visualization.save('{}/sepp-tree.qzv'.format(tree_dir))"
   ]
  },
  {
   "cell_type": "code",
   "execution_count": 102,
   "metadata": {},
   "outputs": [],
   "source": [
    "# Visualize the removed feature table\n",
    "removed_table_vis = feature_table.visualizers.summarize(table = insertion_result.removed_table)\n",
    "#removed_table_vis.visualization"
   ]
  },
  {
   "cell_type": "code",
   "execution_count": 103,
   "metadata": {},
   "outputs": [
    {
     "data": {
      "text/plain": [
       "'../results/test/2020_05_06/feature_tables/removed-table.qzv'"
      ]
     },
     "execution_count": 103,
     "metadata": {},
     "output_type": "execute_result"
    }
   ],
   "source": [
    "# Save the removed table and the visualization\n",
    "insertion_result.removed_table.save('{}/removed-table.qza'.format(table_dir))\n",
    "removed_table_vis.visualization.save('{}/removed-table.qzv'.format(table_dir))"
   ]
  },
  {
   "cell_type": "markdown",
   "metadata": {},
   "source": [
    "### Create a taxonomy classifier and perform classification on sequences\n",
    " - Inputs: \n",
    "     - ../data/taxonomy/human-stool.qza (FeatureTable[RelativeFrequency] artifact)\n",
    "     - ../data/taxonomy/ref-seqs-v4.qza (FeatureData[Sequence] artifact)\n",
    "     - ../data/taxonomy/ref-tax.qza (FeatureData[Taxonomy] artifact)\n",
    "     - rep-seqs.qza (FeatureData[Sequence] artifact)\n",
    " - Outputs: \n",
    "     - gg138_v4_human-stool_classifier.qza (TaxonomicClassifier artifact)     \n",
    "     - bespoke-taxonomy.qza (FeatureData[Taxonomy] artifact)\n",
    " - Plugins: \n",
    "     - feature-table\n",
    "     - Artifact API"
   ]
  },
  {
   "cell_type": "code",
   "execution_count": 15,
   "metadata": {},
   "outputs": [],
   "source": [
    "# Load the Greengenes sequences and taxonomy and Clawback human stool weights (see README for download instructions and details)\n",
    "human_stool_weights = qiime2.Artifact.load('../data/taxonomy/human-stool.qza')\n",
    "ref_seqs_v4 = qiime2.Artifact.load('../data/taxonomy/ref-seqs-v4.qza')\n",
    "ref_tax = qiime2.Artifact.load('../data/taxonomy/ref-tax.qza')"
   ]
  },
  {
   "cell_type": "code",
   "execution_count": 16,
   "metadata": {},
   "outputs": [],
   "source": [
    "# Generate a classifier with the loaded reference data\n",
    "human_stool_v4_result = feature_classifier.methods.fit_classifier_naive_bayes(reference_reads=ref_seqs_v4,\n",
    "                                                                              reference_taxonomy=ref_tax,\n",
    "                                                                              class_weight=human_stool_weights)"
   ]
  },
  {
   "cell_type": "code",
   "execution_count": 138,
   "metadata": {},
   "outputs": [],
   "source": [
    "# Use classifier to classify sequences\n",
    "bespoke_taxonomy = feature_classifier.methods.classify_sklearn(reads=rep_seqs, \n",
    "                                                               classifier=human_stool_v4_result.classifier)"
   ]
  },
  {
   "cell_type": "code",
   "execution_count": 139,
   "metadata": {},
   "outputs": [
    {
     "data": {
      "text/plain": [
       "'../results/test/2020_05_06/taxonomy/bespoke-taxonomy.qza'"
      ]
     },
     "execution_count": 139,
     "metadata": {},
     "output_type": "execute_result"
    }
   ],
   "source": [
    "# Save the classifier and the classification\n",
    "human_stool_v4_result.classifier.save('{}/gg138-v4-human-stool_classifier.qza'.format(tax_dir))\n",
    "bespoke_taxonomy.classification.save('{}/bespoke-taxonomy.qza'.format(tax_dir))"
   ]
  },
  {
   "cell_type": "code",
   "execution_count": 1,
   "metadata": {},
   "outputs": [
    {
     "ename": "NameError",
     "evalue": "name 'metadata' is not defined",
     "output_type": "error",
     "traceback": [
      "\u001b[0;31m---------------------------------------------------------------------------\u001b[0m",
      "\u001b[0;31mNameError\u001b[0m                                 Traceback (most recent call last)",
      "\u001b[0;32m<ipython-input-1-49a938c44e7a>\u001b[0m in \u001b[0;36m<module>\u001b[0;34m\u001b[0m\n\u001b[1;32m      1\u001b[0m \u001b[0;31m# Visualize the classification as a table\u001b[0m\u001b[0;34m\u001b[0m\u001b[0;34m\u001b[0m\u001b[0;34m\u001b[0m\u001b[0m\n\u001b[0;32m----> 2\u001b[0;31m \u001b[0mtaxonomy_vis\u001b[0m \u001b[0;34m=\u001b[0m \u001b[0mmetadata\u001b[0m\u001b[0;34m.\u001b[0m\u001b[0mvisualizers\u001b[0m\u001b[0;34m.\u001b[0m\u001b[0mtabulate\u001b[0m\u001b[0;34m(\u001b[0m\u001b[0mbespoke_taxonomy\u001b[0m\u001b[0;34m.\u001b[0m\u001b[0mclassification\u001b[0m\u001b[0;34m.\u001b[0m\u001b[0mview\u001b[0m\u001b[0;34m(\u001b[0m\u001b[0mqiime2\u001b[0m\u001b[0;34m.\u001b[0m\u001b[0mMetadata\u001b[0m\u001b[0;34m)\u001b[0m\u001b[0;34m)\u001b[0m\u001b[0;34m\u001b[0m\u001b[0;34m\u001b[0m\u001b[0m\n\u001b[0m\u001b[1;32m      3\u001b[0m \u001b[0mtaxonomy_vis\u001b[0m\u001b[0;34m.\u001b[0m\u001b[0mvisualization\u001b[0m\u001b[0;34m\u001b[0m\u001b[0;34m\u001b[0m\u001b[0m\n",
      "\u001b[0;31mNameError\u001b[0m: name 'metadata' is not defined"
     ]
    }
   ],
   "source": [
    "# Visualize the classification as a table\n",
    "taxonomy_vis = metadata.visualizers.tabulate(bespoke_taxonomy.classification.view(qiime2.Metadata))\n",
    "taxonomy_vis.visualization"
   ]
  },
  {
   "cell_type": "code",
   "execution_count": 144,
   "metadata": {},
   "outputs": [
    {
     "data": {
      "text/plain": [
       "'../results/test/2020_05_06/taxonomy/bespoke-taxonomy.qzv'"
      ]
     },
     "execution_count": 144,
     "metadata": {},
     "output_type": "execute_result"
    }
   ],
   "source": [
    "# Save the visualization\n",
    "taxonomy_vis.visualization.save('{}/bespoke-taxonomy.qzv'.format(tax_dir))"
   ]
  }
 ],
 "metadata": {
  "kernelspec": {
   "display_name": "qiime2-2020.2",
   "language": "python",
   "name": "qiime2-2020.2"
  },
  "language_info": {
   "codemirror_mode": {
    "name": "ipython",
    "version": 3
   },
   "file_extension": ".py",
   "mimetype": "text/x-python",
   "name": "python",
   "nbconvert_exporter": "python",
   "pygments_lexer": "ipython3",
   "version": "3.6.7"
  }
 },
 "nbformat": 4,
 "nbformat_minor": 4
}
