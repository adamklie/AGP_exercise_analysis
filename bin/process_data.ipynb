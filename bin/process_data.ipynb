{
 "cells": [
  {
   "cell_type": "markdown",
   "metadata": {},
   "source": [
    "#### Adam Klie<br>05/06/2020\n",
    "# Process downloaded data into necessary Qiime2 artifacts\n",
    "Create core qiime2 artifacts for 16S microbiome analysis\n",
    " - __Input__: \n",
    "     - ..data/.../samples.biom table : BIOMV210Format\n",
    "     - ../data/.../metadata.tsv : tab seperated table\n",
    " - __Output__\n",
    "     - _Artifacts_\n",
    "         - insertion-table.qza : FeatureTable[Frequency]\n",
    "         - rep-seqs.qza : FeatureData[Sequence]\n",
    "         - sepp-tree.qza : Phylogeny[Rooted]\n",
    "         - bespoke-taxonomy.qza : FeatureData[Taxonomy]\n",
    "     - _Visualizations_\n",
    "         - insertion-table.qzv\n",
    "         - rep-seqs.qzv\n",
    "         - sepp-tree.qzv\n",
    "         - bespoke-taxonomy.qzv"
   ]
  },
  {
   "cell_type": "markdown",
   "metadata": {},
   "source": [
    "## Requirements\n",
    " - Follow README.md to set-up qiime2-2020.2 environment "
   ]
  },
  {
   "cell_type": "code",
   "execution_count": 2,
   "metadata": {},
   "outputs": [],
   "source": [
    "import os\n",
    "import biom\n",
    "import qiime2\n",
    "import pandas as pd\n",
    "import warnings\n",
    "warnings.filterwarnings('ignore')\n",
    "from qiime2.plugins import feature_table, fragment_insertion, feature_classifier, metadata, empress"
   ]
  },
  {
   "cell_type": "markdown",
   "metadata": {},
   "source": [
    "### Define data results directories"
   ]
  },
  {
   "cell_type": "code",
   "execution_count": 3,
   "metadata": {},
   "outputs": [],
   "source": [
    "# Data and results directories\n",
    "data_dir = '../data/full/2020_05_15'\n",
    "results_dir = '../results/full/2020_05_15'\n",
    "if not os.path.exists(results_dir): \n",
    "    os.makedirs(results_dir)"
   ]
  },
  {
   "cell_type": "code",
   "execution_count": 4,
   "metadata": {},
   "outputs": [],
   "source": [
    "# Specific results directories\n",
    "table_dir = '{}/feature_tables'.format(results_dir)\n",
    "if not os.path.exists(table_dir): \n",
    "    os.makedirs(table_dir)\n",
    "\n",
    "seq_dir = '{}/rep_seqs'.format(results_dir)\n",
    "if not os.path.exists(seq_dir): \n",
    "    os.makedirs(seq_dir)\n",
    "    \n",
    "tax_dir = '{}/taxonomy'.format(results_dir)\n",
    "if not os.path.exists(tax_dir): \n",
    "    os.makedirs(tax_dir)\n",
    "\n",
    "tree_dir = '{}/fragment_insertion'.format(results_dir)\n",
    "if not os.path.exists(tree_dir): \n",
    "    os.makedirs(tree_dir)"
   ]
  },
  {
   "cell_type": "markdown",
   "metadata": {},
   "source": [
    "### Import unfiltered feature table artifact and load Metadata\n",
    " - Inputs: \n",
    "     - samples.biom (BIOMV210Format file)\n",
    "     - metadata.tsv (tab seperated file)\n",
    " - Outputs: \n",
    "     - table.qza (FeatureTable[Frequency] artifact)\n",
    "     - table.qzv (Visualization)\n",
    " - Plugins: \n",
    "     - feature-table\n",
    "     - Artifact API"
   ]
  },
  {
   "cell_type": "code",
   "execution_count": 10,
   "metadata": {},
   "outputs": [],
   "source": [
    "# Load data\n",
    "downloaded_table = qiime2.Artifact.import_data(type='FeatureTable[Frequency]', \n",
    "                                               view='{}/samples.biom'.format(data_dir), \n",
    "                                               view_type='BIOMV210Format')\n",
    "meta_data = qiime2.Metadata.load('{}/metadata.tsv'.format(data_dir))"
   ]
  },
  {
   "cell_type": "code",
   "execution_count": 5,
   "metadata": {},
   "outputs": [
    {
     "data": {
      "image/png": "[encoded data removed]",
      "text/plain": [
       "<Figure size 432x288 with 1 Axes>"
      ]
     },
     "metadata": {
      "needs_background": "light"
     },
     "output_type": "display_data"
    }
   ],
   "source": [
    "# Visualize the unfiltered table\n",
    "downloaded_table_vis = feature_table.visualizers.summarize(table=downloaded_table, sample_metadata=meta_data)\n",
    "#downloaded_table_vis.visualization"
   ]
  },
  {
   "cell_type": "code",
   "execution_count": 6,
   "metadata": {},
   "outputs": [
    {
     "data": {
      "text/plain": [
       "'../results/full/2020_05_15/feature_tables/table.qzv'"
      ]
     },
     "execution_count": 6,
     "metadata": {},
     "output_type": "execute_result"
    }
   ],
   "source": [
    "# Save the table and visualization (optional)\n",
    "downloaded_table.save('{}/table.qza'.format(table_dir))\n",
    "downloaded_table_vis.visualization.save('{}/table.qzv'.format(table_dir))"
   ]
  },
  {
   "cell_type": "markdown",
   "metadata": {},
   "source": [
    "### Filter the feature table\n",
    " - Input: \n",
    "     - table.qza (FeatureTable[Frequency] artifact)\n",
    " - Output: \n",
    "     - sample-filtered-table.qza (FeatureTable[Frequency] artifact)\n",
    "     - sample-filtered-table.qzv (Visualization)\n",
    "     - feature-filtered-table.qza (FeatureTable[Frequency] artifact)\n",
    "     - feature-filtered-table.qzv (Visualization)\n",
    " - Plugins: \n",
    "     - feature-table\n",
    " - Notes: \n",
    "     - Filter based on minimum total feature frequency per sample\n",
    "     - Include stool samples and healthy individuals\n",
    "     - Keep first occurence of host_subject_id (1 sample per subject)\n",
    "     - Only keep features that are not singletons or doubletons"
   ]
  },
  {
   "cell_type": "code",
   "execution_count": 7,
   "metadata": {},
   "outputs": [],
   "source": [
    "# Thresholds for filtering samples and features\n",
    "min_feature_per_sample= 1000\n",
    "min_per_feature = 3"
   ]
  },
  {
   "cell_type": "code",
   "execution_count": 8,
   "metadata": {},
   "outputs": [],
   "source": [
    "# Inclusion criterion\n",
    "criterion = \"[body_site]='UBERON:feces'\"\\\n",
    "             \" AND [subset_healthy] IN ('true', 'True', 'TRUE')\"\\\n",
    "             \" AND [exercise_frequency] IN ('Never', 'Rarely (a few times/month)', 'Occasionally (1-2 times/week)', 'Regularly (3-5 times/week)', 'Daily')\""
   ]
  },
  {
   "cell_type": "code",
   "execution_count": 9,
   "metadata": {},
   "outputs": [],
   "source": [
    "# Keep only one sample if multiple samples from same subject\n",
    "ids_to_keep = meta_data.get_column('host_subject_id').to_series().drop_duplicates().index\n",
    "filtered_meta_data = meta_data.filter_ids(ids_to_keep)"
   ]
  },
  {
   "cell_type": "code",
   "execution_count": 10,
   "metadata": {},
   "outputs": [],
   "source": [
    "# Filter FeatureTable[Frequency] with feature-table filter-samples method\n",
    "sample_filter = feature_table.methods.filter_samples(table=downloaded_table, \n",
    "                                                     min_frequency=min_feature_per_sample,\n",
    "                                                     metadata=filtered_meta_data,\n",
    "                                                     where=criterion)"
   ]
  },
  {
   "cell_type": "code",
   "execution_count": 11,
   "metadata": {},
   "outputs": [
    {
     "data": {
      "image/png": "[encoded data removed]",
      "text/plain": [
       "<Figure size 432x288 with 1 Axes>"
      ]
     },
     "metadata": {
      "needs_background": "light"
     },
     "output_type": "display_data"
    }
   ],
   "source": [
    "# Visualize the filtered table\n",
    "sample_filter_vis = feature_table.visualizers.summarize(table=sample_filter.filtered_table, \n",
    "                                                        sample_metadata=filtered_meta_data)\n",
    "#sample_filter_vis.visualization"
   ]
  },
  {
   "cell_type": "code",
   "execution_count": 12,
   "metadata": {},
   "outputs": [],
   "source": [
    "# Filter FeatureTable[Frequency] with feature-table filter-features method\n",
    "feature_filter = feature_table.methods.filter_features(table=sample_filter.filtered_table,\n",
    "                                                       min_frequency=min_per_feature)"
   ]
  },
  {
   "cell_type": "code",
   "execution_count": 13,
   "metadata": {},
   "outputs": [
    {
     "data": {
      "image/png": "[encoded data removed]",
      "text/plain": [
       "<Figure size 432x288 with 1 Axes>"
      ]
     },
     "metadata": {
      "needs_background": "light"
     },
     "output_type": "display_data"
    }
   ],
   "source": [
    "# Visualize the filtered table\n",
    "feature_filter_vis = feature_table.visualizers.summarize(table=feature_filter.filtered_table,\n",
    "                                                         sample_metadata=meta_data)\n",
    "#feature_filter_vis.visualization"
   ]
  },
  {
   "cell_type": "code",
   "execution_count": 14,
   "metadata": {},
   "outputs": [
    {
     "data": {
      "text/plain": [
       "'../results/full/2020_05_15/feature_tables/feature-filtered-table.qzv'"
      ]
     },
     "execution_count": 14,
     "metadata": {},
     "output_type": "execute_result"
    }
   ],
   "source": [
    "# Save the tables and visualizations\n",
    "sample_filter.filtered_table.save('{}/sample-filtered-table.qza'.format(table_dir))\n",
    "sample_filter_vis.visualization.save('{}/sample-filtered-table.qzv'.format(table_dir))\n",
    "feature_filter.filtered_table.save('{}/feature-filtered-table.qza'.format(table_dir))\n",
    "feature_filter_vis.visualization.save('{}/feature-filtered-table.qzv'.format(table_dir))"
   ]
  },
  {
   "cell_type": "code",
   "execution_count": 15,
   "metadata": {},
   "outputs": [],
   "source": [
    "# Save the ids of samples that meet filtering criteria\n",
    "filtered_table = feature_filter.filtered_table.view(qiime2.Metadata)\n",
    "filtered_ids = \"\\n\".join(filtered_table.to_dataframe().index) + \"\\n\"\n",
    "with open('{}/filtered.ids'.format(table_dir), 'w') as f:\n",
    "    f.write(filtered_ids)"
   ]
  },
  {
   "cell_type": "markdown",
   "metadata": {},
   "source": [
    "### Extract representive sequence from filtered feature table\n",
    " - Inputs: \n",
    "     - feature-filtered-table.qza (FeatureTable[Frequency] artifact)\n",
    " - Outputs: \n",
    "     - rep_seqs.fna (DNAFasta file) \n",
    "     - rep-seqs.qza (FeatureTable[Sequences] artifact)\n",
    " - Plugins: \n",
    "     - feature-table\n",
    "     - Artifact API"
   ]
  },
  {
   "cell_type": "code",
   "execution_count": 16,
   "metadata": {},
   "outputs": [],
   "source": [
    "# Generate Fasta file\n",
    "with open('{}/rep_seqs.fna'.format(seq_dir), 'w') as f:\n",
    "    seqs = ''\n",
    "    for i,seq in enumerate(feature_filter.filtered_table.view(pd.DataFrame).columns):\n",
    "        seqs = seqs + '>' + seq + '\\n' + seq + '\\n'\n",
    "    f.write(seqs[:-1])"
   ]
  },
  {
   "cell_type": "code",
   "execution_count": 18,
   "metadata": {},
   "outputs": [],
   "source": [
    "# Import as a FeatureData[Sequence] artifact\n",
    "rep_seqs = qiime2.Artifact.import_data(type='FeatureData[Sequence]', view='{}/rep_seqs.fna'.format(seq_dir))"
   ]
  },
  {
   "cell_type": "code",
   "execution_count": 18,
   "metadata": {},
   "outputs": [],
   "source": [
    "# Visualize the sequences\n",
    "tabulate_seqs_vis = feature_table.visualizers.tabulate_seqs(data=rep_seqs)\n",
    "#tabulate_seqs_vis.visualization"
   ]
  },
  {
   "cell_type": "code",
   "execution_count": 19,
   "metadata": {},
   "outputs": [
    {
     "data": {
      "text/plain": [
       "'../results/full/2020_05_15/rep_seqs/rep-seqs.qzv'"
      ]
     },
     "execution_count": 19,
     "metadata": {},
     "output_type": "execute_result"
    }
   ],
   "source": [
    "# Save the sequences and visualization\n",
    "rep_seqs.save('{}/rep-seqs.qza'.format(seq_dir))\n",
    "tabulate_seqs_vis.visualization.save('{}/rep-seqs.qzv'.format(seq_dir))"
   ]
  },
  {
   "cell_type": "markdown",
   "metadata": {},
   "source": [
    "### Create a fragment insertion tree and filter table based on insertion tree\n",
    " - Inputs: \n",
    "     - rep-seqs.qza (FeatureTable[Sequence] artifact) \n",
    "     - ../data/sepp/sepp-refs-gg-13.8.qza (SeppReferenceDatabase)\n",
    "     - feature-filtered-table.qza (FeatureTable[Frequency] artifact)\n",
    " - Outputs: \n",
    "     - sepp_tree (result.Artifact)\n",
    "         - sepp-tree.qza (Phylogeny[Rooted] artifact)\n",
    "         - sepp-placements.qza (Placements artifact)\n",
    "         - sepp-tree.qzv (Visuzlization)\n",
    "     - insertion_result (result.Artifact) \n",
    "         - insertion-table.qza (FeatureTable[Frequency] artifact)\n",
    "         - insertion-table.qzv (Visualization)\n",
    "         - removed-table.qza (FeatureTable[Frequency] artifact)\n",
    "         - removed-table.qzv (Visualization)\n",
    " - Plugins: \n",
    "     - feature-table\n",
    "     - Artifact API"
   ]
  },
  {
   "cell_type": "code",
   "execution_count": 24,
   "metadata": {},
   "outputs": [],
   "source": [
    "# Load the sepp database (see README for download instructions)\n",
    "sepp_db = qiime2.Artifact.load('../data/sepp/sepp-refs-gg-13-8.qza')"
   ]
  },
  {
   "cell_type": "code",
   "execution_count": 27,
   "metadata": {},
   "outputs": [
    {
     "ename": "KeyboardInterrupt",
     "evalue": "",
     "output_type": "error",
     "traceback": [
      "\u001b[0;31m---------------------------------------------------------------------------\u001b[0m",
      "\u001b[0;31mKeyboardInterrupt\u001b[0m                         Traceback (most recent call last)",
      "\u001b[0;32m<ipython-input-27-85426b5101c4>\u001b[0m in \u001b[0;36m<module>\u001b[0;34m\u001b[0m\n\u001b[1;32m      3\u001b[0m                                               \u001b[0mreference_database\u001b[0m\u001b[0;34m=\u001b[0m\u001b[0msepp_db\u001b[0m\u001b[0;34m,\u001b[0m\u001b[0;34m\u001b[0m\u001b[0;34m\u001b[0m\u001b[0m\n\u001b[1;32m      4\u001b[0m                                               \u001b[0mthreads\u001b[0m\u001b[0;34m=\u001b[0m\u001b[0;36m8\u001b[0m\u001b[0;34m,\u001b[0m\u001b[0;34m\u001b[0m\u001b[0;34m\u001b[0m\u001b[0m\n\u001b[0;32m----> 5\u001b[0;31m                                               debug=True)\n\u001b[0m",
      "\u001b[0;32m<decorator-gen-325>\u001b[0m in \u001b[0;36msepp\u001b[0;34m(representative_sequences, reference_database, alignment_subset_size, placement_subset_size, threads, debug)\u001b[0m\n",
      "\u001b[0;32m~/opt/miniconda3/envs/qiime2-2020.2/lib/python3.6/site-packages/qiime2/sdk/action.py\u001b[0m in \u001b[0;36mbound_callable\u001b[0;34m(*args, **kwargs)\u001b[0m\n\u001b[1;32m    232\u001b[0m                         \u001b[0;32melse\u001b[0m\u001b[0;34m:\u001b[0m\u001b[0;34m\u001b[0m\u001b[0;34m\u001b[0m\u001b[0m\n\u001b[1;32m    233\u001b[0m                             callable_args[name] = artifact._view(\n\u001b[0;32m--> 234\u001b[0;31m                                 spec.view_type, recorder)\n\u001b[0m\u001b[1;32m    235\u001b[0m                     \u001b[0;32melse\u001b[0m\u001b[0;34m:\u001b[0m\u001b[0;34m\u001b[0m\u001b[0;34m\u001b[0m\u001b[0m\n\u001b[1;32m    236\u001b[0m                         \u001b[0mcallable_args\u001b[0m\u001b[0;34m[\u001b[0m\u001b[0mname\u001b[0m\u001b[0;34m]\u001b[0m \u001b[0;34m=\u001b[0m \u001b[0martifact\u001b[0m\u001b[0;34m\u001b[0m\u001b[0;34m\u001b[0m\u001b[0m\n",
      "\u001b[0;32m~/opt/miniconda3/envs/qiime2-2020.2/lib/python3.6/site-packages/qiime2/sdk/result.py\u001b[0m in \u001b[0;36m_view\u001b[0;34m(self, view_type, recorder)\u001b[0m\n\u001b[1;32m    287\u001b[0m         transformation = from_type.make_transformation(to_type,\n\u001b[1;32m    288\u001b[0m                                                        recorder=recorder)\n\u001b[0;32m--> 289\u001b[0;31m         \u001b[0mresult\u001b[0m \u001b[0;34m=\u001b[0m \u001b[0mtransformation\u001b[0m\u001b[0;34m(\u001b[0m\u001b[0mself\u001b[0m\u001b[0;34m.\u001b[0m\u001b[0m_archiver\u001b[0m\u001b[0;34m.\u001b[0m\u001b[0mdata_dir\u001b[0m\u001b[0;34m)\u001b[0m\u001b[0;34m\u001b[0m\u001b[0;34m\u001b[0m\u001b[0m\n\u001b[0m\u001b[1;32m    290\u001b[0m \u001b[0;34m\u001b[0m\u001b[0m\n\u001b[1;32m    291\u001b[0m         \u001b[0;32mif\u001b[0m \u001b[0mview_type\u001b[0m \u001b[0;32mis\u001b[0m \u001b[0mqiime2\u001b[0m\u001b[0;34m.\u001b[0m\u001b[0mMetadata\u001b[0m\u001b[0;34m:\u001b[0m\u001b[0;34m\u001b[0m\u001b[0;34m\u001b[0m\u001b[0m\n",
      "\u001b[0;32m~/opt/miniconda3/envs/qiime2-2020.2/lib/python3.6/site-packages/qiime2/core/transform.py\u001b[0m in \u001b[0;36mtransformation\u001b[0;34m(view, validate_level)\u001b[0m\n\u001b[1;32m     66\u001b[0m         \u001b[0;32mdef\u001b[0m \u001b[0mtransformation\u001b[0m\u001b[0;34m(\u001b[0m\u001b[0mview\u001b[0m\u001b[0;34m,\u001b[0m \u001b[0mvalidate_level\u001b[0m\u001b[0;34m=\u001b[0m\u001b[0;34m'min'\u001b[0m\u001b[0;34m)\u001b[0m\u001b[0;34m:\u001b[0m\u001b[0;34m\u001b[0m\u001b[0;34m\u001b[0m\u001b[0m\n\u001b[1;32m     67\u001b[0m             \u001b[0mview\u001b[0m \u001b[0;34m=\u001b[0m \u001b[0mself\u001b[0m\u001b[0;34m.\u001b[0m\u001b[0mcoerce_view\u001b[0m\u001b[0;34m(\u001b[0m\u001b[0mview\u001b[0m\u001b[0;34m)\u001b[0m\u001b[0;34m\u001b[0m\u001b[0;34m\u001b[0m\u001b[0m\n\u001b[0;32m---> 68\u001b[0;31m             \u001b[0mself\u001b[0m\u001b[0;34m.\u001b[0m\u001b[0mvalidate\u001b[0m\u001b[0;34m(\u001b[0m\u001b[0mview\u001b[0m\u001b[0;34m,\u001b[0m \u001b[0mvalidate_level\u001b[0m\u001b[0;34m)\u001b[0m\u001b[0;34m\u001b[0m\u001b[0;34m\u001b[0m\u001b[0m\n\u001b[0m\u001b[1;32m     69\u001b[0m \u001b[0;34m\u001b[0m\u001b[0m\n\u001b[1;32m     70\u001b[0m             \u001b[0mnew_view\u001b[0m \u001b[0;34m=\u001b[0m \u001b[0mtransformer\u001b[0m\u001b[0;34m(\u001b[0m\u001b[0mview\u001b[0m\u001b[0;34m)\u001b[0m\u001b[0;34m\u001b[0m\u001b[0;34m\u001b[0m\u001b[0m\n",
      "\u001b[0;32m~/opt/miniconda3/envs/qiime2-2020.2/lib/python3.6/site-packages/qiime2/core/transform.py\u001b[0m in \u001b[0;36mvalidate\u001b[0;34m(self, view, level)\u001b[0m\n\u001b[1;32m    141\u001b[0m                             % (view, self._view_type))\n\u001b[1;32m    142\u001b[0m         \u001b[0;31m# Formats have a validate method, so defer to it\u001b[0m\u001b[0;34m\u001b[0m\u001b[0;34m\u001b[0m\u001b[0;34m\u001b[0m\u001b[0m\n\u001b[0;32m--> 143\u001b[0;31m         \u001b[0mview\u001b[0m\u001b[0;34m.\u001b[0m\u001b[0mvalidate\u001b[0m\u001b[0;34m(\u001b[0m\u001b[0mlevel\u001b[0m\u001b[0;34m)\u001b[0m\u001b[0;34m\u001b[0m\u001b[0;34m\u001b[0m\u001b[0m\n\u001b[0m\u001b[1;32m    144\u001b[0m \u001b[0;34m\u001b[0m\u001b[0m\n\u001b[1;32m    145\u001b[0m     \u001b[0;32mdef\u001b[0m \u001b[0mset_user_owned\u001b[0m\u001b[0;34m(\u001b[0m\u001b[0mself\u001b[0m\u001b[0;34m,\u001b[0m \u001b[0mview\u001b[0m\u001b[0;34m,\u001b[0m \u001b[0mvalue\u001b[0m\u001b[0;34m)\u001b[0m\u001b[0;34m:\u001b[0m\u001b[0;34m\u001b[0m\u001b[0;34m\u001b[0m\u001b[0m\n",
      "\u001b[0;32m~/opt/miniconda3/envs/qiime2-2020.2/lib/python3.6/site-packages/qiime2/plugin/model/directory_format.py\u001b[0m in \u001b[0;36mvalidate\u001b[0;34m(self, level)\u001b[0m\n\u001b[1;32m    179\u001b[0m         \u001b[0;32mif\u001b[0m \u001b[0mhasattr\u001b[0m\u001b[0;34m(\u001b[0m\u001b[0mself\u001b[0m\u001b[0;34m,\u001b[0m \u001b[0;34m'_validate_'\u001b[0m\u001b[0;34m)\u001b[0m\u001b[0;34m:\u001b[0m\u001b[0;34m\u001b[0m\u001b[0;34m\u001b[0m\u001b[0m\n\u001b[1;32m    180\u001b[0m             \u001b[0;32mtry\u001b[0m\u001b[0;34m:\u001b[0m\u001b[0;34m\u001b[0m\u001b[0;34m\u001b[0m\u001b[0m\n\u001b[0;32m--> 181\u001b[0;31m                 \u001b[0mself\u001b[0m\u001b[0;34m.\u001b[0m\u001b[0m_validate_\u001b[0m\u001b[0;34m(\u001b[0m\u001b[0mlevel\u001b[0m\u001b[0;34m)\u001b[0m\u001b[0;34m\u001b[0m\u001b[0;34m\u001b[0m\u001b[0m\n\u001b[0m\u001b[1;32m    182\u001b[0m             \u001b[0;32mexcept\u001b[0m \u001b[0mValidationError\u001b[0m \u001b[0;32mas\u001b[0m \u001b[0me\u001b[0m\u001b[0;34m:\u001b[0m\u001b[0;34m\u001b[0m\u001b[0;34m\u001b[0m\u001b[0m\n\u001b[1;32m    183\u001b[0m                 raise ValidationError(\n",
      "\u001b[0;32m~/opt/miniconda3/envs/qiime2-2020.2/lib/python3.6/site-packages/q2_fragment_insertion/_format.py\u001b[0m in \u001b[0;36m_validate_\u001b[0;34m(self, level)\u001b[0m\n\u001b[1;32m     78\u001b[0m     \u001b[0;32mdef\u001b[0m \u001b[0m_validate_\u001b[0m\u001b[0;34m(\u001b[0m\u001b[0mself\u001b[0m\u001b[0;34m,\u001b[0m \u001b[0mlevel\u001b[0m\u001b[0;34m)\u001b[0m\u001b[0;34m:\u001b[0m\u001b[0;34m\u001b[0m\u001b[0;34m\u001b[0m\u001b[0m\n\u001b[1;32m     79\u001b[0m         \u001b[0mseqs\u001b[0m \u001b[0;34m=\u001b[0m \u001b[0mself\u001b[0m\u001b[0;34m.\u001b[0m\u001b[0malignment\u001b[0m\u001b[0;34m.\u001b[0m\u001b[0mview\u001b[0m\u001b[0;34m(\u001b[0m\u001b[0mskbio\u001b[0m\u001b[0;34m.\u001b[0m\u001b[0mTabularMSA\u001b[0m\u001b[0;34m)\u001b[0m\u001b[0;34m\u001b[0m\u001b[0;34m\u001b[0m\u001b[0m\n\u001b[0;32m---> 80\u001b[0;31m         \u001b[0mtree\u001b[0m \u001b[0;34m=\u001b[0m \u001b[0mself\u001b[0m\u001b[0;34m.\u001b[0m\u001b[0mphylogeny\u001b[0m\u001b[0;34m.\u001b[0m\u001b[0mview\u001b[0m\u001b[0;34m(\u001b[0m\u001b[0mskbio\u001b[0m\u001b[0;34m.\u001b[0m\u001b[0mTreeNode\u001b[0m\u001b[0;34m)\u001b[0m\u001b[0;34m\u001b[0m\u001b[0;34m\u001b[0m\u001b[0m\n\u001b[0m\u001b[1;32m     81\u001b[0m \u001b[0;34m\u001b[0m\u001b[0m\n\u001b[1;32m     82\u001b[0m         \u001b[0mseqs\u001b[0m\u001b[0;34m.\u001b[0m\u001b[0mreassign_index\u001b[0m\u001b[0;34m(\u001b[0m\u001b[0mminter\u001b[0m\u001b[0;34m=\u001b[0m\u001b[0;34m'id'\u001b[0m\u001b[0;34m)\u001b[0m\u001b[0;34m\u001b[0m\u001b[0;34m\u001b[0m\u001b[0m\n",
      "\u001b[0;32m~/opt/miniconda3/envs/qiime2-2020.2/lib/python3.6/site-packages/qiime2/plugin/model/directory_format.py\u001b[0m in \u001b[0;36mview\u001b[0;34m(self, view_type)\u001b[0m\n\u001b[1;32m     74\u001b[0m \u001b[0;34m\u001b[0m\u001b[0m\n\u001b[1;32m     75\u001b[0m         \u001b[0mtransformation\u001b[0m \u001b[0;34m=\u001b[0m \u001b[0mfrom_type\u001b[0m\u001b[0;34m.\u001b[0m\u001b[0mmake_transformation\u001b[0m\u001b[0;34m(\u001b[0m\u001b[0mto_type\u001b[0m\u001b[0;34m)\u001b[0m\u001b[0;34m\u001b[0m\u001b[0;34m\u001b[0m\u001b[0m\n\u001b[0;32m---> 76\u001b[0;31m         \u001b[0;32mreturn\u001b[0m \u001b[0mtransformation\u001b[0m\u001b[0;34m(\u001b[0m\u001b[0mself\u001b[0m\u001b[0;34m.\u001b[0m\u001b[0mpath_maker\u001b[0m\u001b[0;34m(\u001b[0m\u001b[0;34m)\u001b[0m\u001b[0;34m)\u001b[0m\u001b[0;34m\u001b[0m\u001b[0;34m\u001b[0m\u001b[0m\n\u001b[0m\u001b[1;32m     77\u001b[0m \u001b[0;34m\u001b[0m\u001b[0m\n\u001b[1;32m     78\u001b[0m     \u001b[0;32mdef\u001b[0m \u001b[0mwrite_data\u001b[0m\u001b[0;34m(\u001b[0m\u001b[0mself\u001b[0m\u001b[0;34m,\u001b[0m \u001b[0mview\u001b[0m\u001b[0;34m,\u001b[0m \u001b[0mview_type\u001b[0m\u001b[0;34m,\u001b[0m \u001b[0;34m**\u001b[0m\u001b[0mkwargs\u001b[0m\u001b[0;34m)\u001b[0m\u001b[0;34m:\u001b[0m\u001b[0;34m\u001b[0m\u001b[0;34m\u001b[0m\u001b[0m\n",
      "\u001b[0;32m~/opt/miniconda3/envs/qiime2-2020.2/lib/python3.6/site-packages/qiime2/core/transform.py\u001b[0m in \u001b[0;36mtransformation\u001b[0;34m(view, validate_level)\u001b[0m\n\u001b[1;32m     68\u001b[0m             \u001b[0mself\u001b[0m\u001b[0;34m.\u001b[0m\u001b[0mvalidate\u001b[0m\u001b[0;34m(\u001b[0m\u001b[0mview\u001b[0m\u001b[0;34m,\u001b[0m \u001b[0mvalidate_level\u001b[0m\u001b[0;34m)\u001b[0m\u001b[0;34m\u001b[0m\u001b[0;34m\u001b[0m\u001b[0m\n\u001b[1;32m     69\u001b[0m \u001b[0;34m\u001b[0m\u001b[0m\n\u001b[0;32m---> 70\u001b[0;31m             \u001b[0mnew_view\u001b[0m \u001b[0;34m=\u001b[0m \u001b[0mtransformer\u001b[0m\u001b[0;34m(\u001b[0m\u001b[0mview\u001b[0m\u001b[0;34m)\u001b[0m\u001b[0;34m\u001b[0m\u001b[0;34m\u001b[0m\u001b[0m\n\u001b[0m\u001b[1;32m     71\u001b[0m \u001b[0;34m\u001b[0m\u001b[0m\n\u001b[1;32m     72\u001b[0m             \u001b[0mnew_view\u001b[0m \u001b[0;34m=\u001b[0m \u001b[0mother\u001b[0m\u001b[0;34m.\u001b[0m\u001b[0mcoerce_view\u001b[0m\u001b[0;34m(\u001b[0m\u001b[0mnew_view\u001b[0m\u001b[0;34m)\u001b[0m\u001b[0;34m\u001b[0m\u001b[0;34m\u001b[0m\u001b[0m\n",
      "\u001b[0;32m~/opt/miniconda3/envs/qiime2-2020.2/lib/python3.6/site-packages/q2_types/tree/_transformer.py\u001b[0m in \u001b[0;36m_2\u001b[0;34m(ff)\u001b[0m\n\u001b[1;32m     24\u001b[0m \u001b[0;32mdef\u001b[0m \u001b[0m_2\u001b[0m\u001b[0;34m(\u001b[0m\u001b[0mff\u001b[0m\u001b[0;34m:\u001b[0m \u001b[0mNewickFormat\u001b[0m\u001b[0;34m)\u001b[0m \u001b[0;34m->\u001b[0m \u001b[0mskbio\u001b[0m\u001b[0;34m.\u001b[0m\u001b[0mTreeNode\u001b[0m\u001b[0;34m:\u001b[0m\u001b[0;34m\u001b[0m\u001b[0;34m\u001b[0m\u001b[0m\n\u001b[1;32m     25\u001b[0m     \u001b[0;32mwith\u001b[0m \u001b[0mff\u001b[0m\u001b[0;34m.\u001b[0m\u001b[0mopen\u001b[0m\u001b[0;34m(\u001b[0m\u001b[0;34m)\u001b[0m \u001b[0;32mas\u001b[0m \u001b[0mfh\u001b[0m\u001b[0;34m:\u001b[0m\u001b[0;34m\u001b[0m\u001b[0;34m\u001b[0m\u001b[0m\n\u001b[0;32m---> 26\u001b[0;31m         \u001b[0;32mreturn\u001b[0m \u001b[0mskbio\u001b[0m\u001b[0;34m.\u001b[0m\u001b[0mTreeNode\u001b[0m\u001b[0;34m.\u001b[0m\u001b[0mread\u001b[0m\u001b[0;34m(\u001b[0m\u001b[0mfh\u001b[0m\u001b[0;34m,\u001b[0m \u001b[0mformat\u001b[0m\u001b[0;34m=\u001b[0m\u001b[0;34m'newick'\u001b[0m\u001b[0;34m,\u001b[0m \u001b[0mverify\u001b[0m\u001b[0;34m=\u001b[0m\u001b[0;32mFalse\u001b[0m\u001b[0;34m)\u001b[0m\u001b[0;34m\u001b[0m\u001b[0;34m\u001b[0m\u001b[0m\n\u001b[0m",
      "\u001b[0;32m~/opt/miniconda3/envs/qiime2-2020.2/lib/python3.6/site-packages/skbio/io/registry.py\u001b[0m in \u001b[0;36mread\u001b[0;34m(cls, file, format, **kwargs)\u001b[0m\n\u001b[1;32m    650\u001b[0m         \u001b[0;34m@\u001b[0m\u001b[0mclassonlymethod\u001b[0m\u001b[0;34m\u001b[0m\u001b[0;34m\u001b[0m\u001b[0m\n\u001b[1;32m    651\u001b[0m         \u001b[0;32mdef\u001b[0m \u001b[0mread\u001b[0m\u001b[0;34m(\u001b[0m\u001b[0mcls\u001b[0m\u001b[0;34m,\u001b[0m \u001b[0mfile\u001b[0m\u001b[0;34m,\u001b[0m \u001b[0mformat\u001b[0m\u001b[0;34m=\u001b[0m\u001b[0;32mNone\u001b[0m\u001b[0;34m,\u001b[0m \u001b[0;34m**\u001b[0m\u001b[0mkwargs\u001b[0m\u001b[0;34m)\u001b[0m\u001b[0;34m:\u001b[0m\u001b[0;34m\u001b[0m\u001b[0;34m\u001b[0m\u001b[0m\n\u001b[0;32m--> 652\u001b[0;31m             \u001b[0;32mreturn\u001b[0m \u001b[0mregistry\u001b[0m\u001b[0;34m.\u001b[0m\u001b[0mread\u001b[0m\u001b[0;34m(\u001b[0m\u001b[0mfile\u001b[0m\u001b[0;34m,\u001b[0m \u001b[0minto\u001b[0m\u001b[0;34m=\u001b[0m\u001b[0mcls\u001b[0m\u001b[0;34m,\u001b[0m \u001b[0mformat\u001b[0m\u001b[0;34m=\u001b[0m\u001b[0mformat\u001b[0m\u001b[0;34m,\u001b[0m \u001b[0;34m**\u001b[0m\u001b[0mkwargs\u001b[0m\u001b[0;34m)\u001b[0m\u001b[0;34m\u001b[0m\u001b[0;34m\u001b[0m\u001b[0m\n\u001b[0m\u001b[1;32m    653\u001b[0m \u001b[0;34m\u001b[0m\u001b[0m\n\u001b[1;32m    654\u001b[0m         \u001b[0mimports\u001b[0m \u001b[0;34m=\u001b[0m \u001b[0mregistry\u001b[0m\u001b[0;34m.\u001b[0m\u001b[0m_import_paths\u001b[0m\u001b[0;34m(\u001b[0m\u001b[0mread_formats\u001b[0m\u001b[0;34m)\u001b[0m\u001b[0;34m\u001b[0m\u001b[0;34m\u001b[0m\u001b[0m\n",
      "\u001b[0;32m~/opt/miniconda3/envs/qiime2-2020.2/lib/python3.6/site-packages/skbio/io/registry.py\u001b[0m in \u001b[0;36mread\u001b[0;34m(self, file, format, into, verify, **kwargs)\u001b[0m\n\u001b[1;32m    511\u001b[0m                 \u001b[0;32mreturn\u001b[0m \u001b[0;34m(\u001b[0m\u001b[0mx\u001b[0m \u001b[0;32mfor\u001b[0m \u001b[0mx\u001b[0m \u001b[0;32min\u001b[0m \u001b[0;34m[\u001b[0m\u001b[0;34m]\u001b[0m\u001b[0;34m)\u001b[0m\u001b[0;34m\u001b[0m\u001b[0;34m\u001b[0m\u001b[0m\n\u001b[1;32m    512\u001b[0m         \u001b[0;32melse\u001b[0m\u001b[0;34m:\u001b[0m\u001b[0;34m\u001b[0m\u001b[0;34m\u001b[0m\u001b[0m\n\u001b[0;32m--> 513\u001b[0;31m             \u001b[0;32mreturn\u001b[0m \u001b[0mself\u001b[0m\u001b[0;34m.\u001b[0m\u001b[0m_read_ret\u001b[0m\u001b[0;34m(\u001b[0m\u001b[0mfile\u001b[0m\u001b[0;34m,\u001b[0m \u001b[0mformat\u001b[0m\u001b[0;34m,\u001b[0m \u001b[0minto\u001b[0m\u001b[0;34m,\u001b[0m \u001b[0mverify\u001b[0m\u001b[0;34m,\u001b[0m \u001b[0mkwargs\u001b[0m\u001b[0;34m)\u001b[0m\u001b[0;34m\u001b[0m\u001b[0;34m\u001b[0m\u001b[0m\n\u001b[0m\u001b[1;32m    514\u001b[0m \u001b[0;34m\u001b[0m\u001b[0m\n\u001b[1;32m    515\u001b[0m     \u001b[0;32mdef\u001b[0m \u001b[0m_read_ret\u001b[0m\u001b[0;34m(\u001b[0m\u001b[0mself\u001b[0m\u001b[0;34m,\u001b[0m \u001b[0mfile\u001b[0m\u001b[0;34m,\u001b[0m \u001b[0mfmt\u001b[0m\u001b[0;34m,\u001b[0m \u001b[0minto\u001b[0m\u001b[0;34m,\u001b[0m \u001b[0mverify\u001b[0m\u001b[0;34m,\u001b[0m \u001b[0mkwargs\u001b[0m\u001b[0;34m)\u001b[0m\u001b[0;34m:\u001b[0m\u001b[0;34m\u001b[0m\u001b[0;34m\u001b[0m\u001b[0m\n",
      "\u001b[0;32m~/opt/miniconda3/envs/qiime2-2020.2/lib/python3.6/site-packages/skbio/io/registry.py\u001b[0m in \u001b[0;36m_read_ret\u001b[0;34m(self, file, fmt, into, verify, kwargs)\u001b[0m\n\u001b[1;32m    518\u001b[0m             reader, kwargs = self._init_reader(file, fmt, into, verify, kwargs,\n\u001b[1;32m    519\u001b[0m                                                io_kwargs)\n\u001b[0;32m--> 520\u001b[0;31m             \u001b[0;32mreturn\u001b[0m \u001b[0mreader\u001b[0m\u001b[0;34m(\u001b[0m\u001b[0mfile\u001b[0m\u001b[0;34m,\u001b[0m \u001b[0;34m**\u001b[0m\u001b[0mkwargs\u001b[0m\u001b[0;34m)\u001b[0m\u001b[0;34m\u001b[0m\u001b[0;34m\u001b[0m\u001b[0m\n\u001b[0m\u001b[1;32m    521\u001b[0m \u001b[0;34m\u001b[0m\u001b[0m\n\u001b[1;32m    522\u001b[0m     \u001b[0;32mdef\u001b[0m \u001b[0m_read_gen\u001b[0m\u001b[0;34m(\u001b[0m\u001b[0mself\u001b[0m\u001b[0;34m,\u001b[0m \u001b[0mfile\u001b[0m\u001b[0;34m,\u001b[0m \u001b[0mfmt\u001b[0m\u001b[0;34m,\u001b[0m \u001b[0minto\u001b[0m\u001b[0;34m,\u001b[0m \u001b[0mverify\u001b[0m\u001b[0;34m,\u001b[0m \u001b[0mkwargs\u001b[0m\u001b[0;34m)\u001b[0m\u001b[0;34m:\u001b[0m\u001b[0;34m\u001b[0m\u001b[0;34m\u001b[0m\u001b[0m\n",
      "\u001b[0;32m~/opt/miniconda3/envs/qiime2-2020.2/lib/python3.6/site-packages/skbio/io/registry.py\u001b[0m in \u001b[0;36mwrapped_reader\u001b[0;34m(file, encoding, newline, **kwargs)\u001b[0m\n\u001b[1;32m    996\u001b[0m                         \u001b[0;31m# is cheaper than insert\u001b[0m\u001b[0;34m\u001b[0m\u001b[0;34m\u001b[0m\u001b[0;34m\u001b[0m\u001b[0m\n\u001b[1;32m    997\u001b[0m                         \u001b[0mkwargs\u001b[0m\u001b[0;34m.\u001b[0m\u001b[0mupdate\u001b[0m\u001b[0;34m(\u001b[0m\u001b[0mzip\u001b[0m\u001b[0;34m(\u001b[0m\u001b[0mfile_keys\u001b[0m\u001b[0;34m,\u001b[0m \u001b[0mfhs\u001b[0m\u001b[0;34m[\u001b[0m\u001b[0;34m:\u001b[0m\u001b[0;34m-\u001b[0m\u001b[0;36m1\u001b[0m\u001b[0;34m]\u001b[0m\u001b[0;34m)\u001b[0m\u001b[0;34m)\u001b[0m\u001b[0;34m\u001b[0m\u001b[0;34m\u001b[0m\u001b[0m\n\u001b[0;32m--> 998\u001b[0;31m                         \u001b[0;32mreturn\u001b[0m \u001b[0mreader_function\u001b[0m\u001b[0;34m(\u001b[0m\u001b[0mfhs\u001b[0m\u001b[0;34m[\u001b[0m\u001b[0;34m-\u001b[0m\u001b[0;36m1\u001b[0m\u001b[0;34m]\u001b[0m\u001b[0;34m,\u001b[0m \u001b[0;34m**\u001b[0m\u001b[0mkwargs\u001b[0m\u001b[0;34m)\u001b[0m\u001b[0;34m\u001b[0m\u001b[0;34m\u001b[0m\u001b[0m\n\u001b[0m\u001b[1;32m    999\u001b[0m             \u001b[0;32melse\u001b[0m\u001b[0;34m:\u001b[0m\u001b[0;34m\u001b[0m\u001b[0;34m\u001b[0m\u001b[0m\n\u001b[1;32m   1000\u001b[0m \u001b[0;34m\u001b[0m\u001b[0m\n",
      "\u001b[0;32m~/opt/miniconda3/envs/qiime2-2020.2/lib/python3.6/site-packages/skbio/io/format/newick.py\u001b[0m in \u001b[0;36m_newick_to_tree_node\u001b[0;34m(fh, convert_underscores)\u001b[0m\n\u001b[1;32m    295\u001b[0m         \u001b[0;32melif\u001b[0m \u001b[0mtoken\u001b[0m \u001b[0;34m==\u001b[0m \u001b[0;34m'('\u001b[0m\u001b[0;34m:\u001b[0m\u001b[0;34m\u001b[0m\u001b[0;34m\u001b[0m\u001b[0m\n\u001b[1;32m    296\u001b[0m             \u001b[0mcurrent_depth\u001b[0m \u001b[0;34m+=\u001b[0m \u001b[0;36m1\u001b[0m\u001b[0;34m\u001b[0m\u001b[0;34m\u001b[0m\u001b[0m\n\u001b[0;32m--> 297\u001b[0;31m             \u001b[0mtree_stack\u001b[0m\u001b[0;34m.\u001b[0m\u001b[0mappend\u001b[0m\u001b[0;34m(\u001b[0m\u001b[0;34m(\u001b[0m\u001b[0mTreeNode\u001b[0m\u001b[0;34m(\u001b[0m\u001b[0;34m)\u001b[0m\u001b[0;34m,\u001b[0m \u001b[0mcurrent_depth\u001b[0m\u001b[0;34m)\u001b[0m\u001b[0;34m)\u001b[0m\u001b[0;34m\u001b[0m\u001b[0;34m\u001b[0m\u001b[0m\n\u001b[0m\u001b[1;32m    298\u001b[0m         \u001b[0;32melif\u001b[0m \u001b[0mtoken\u001b[0m \u001b[0;34m==\u001b[0m \u001b[0;34m','\u001b[0m\u001b[0;34m:\u001b[0m\u001b[0;34m\u001b[0m\u001b[0;34m\u001b[0m\u001b[0m\n\u001b[1;32m    299\u001b[0m             \u001b[0mtree_stack\u001b[0m\u001b[0;34m.\u001b[0m\u001b[0mappend\u001b[0m\u001b[0;34m(\u001b[0m\u001b[0;34m(\u001b[0m\u001b[0mTreeNode\u001b[0m\u001b[0;34m(\u001b[0m\u001b[0;34m)\u001b[0m\u001b[0;34m,\u001b[0m \u001b[0mcurrent_depth\u001b[0m\u001b[0;34m)\u001b[0m\u001b[0;34m)\u001b[0m\u001b[0;34m\u001b[0m\u001b[0;34m\u001b[0m\u001b[0m\n",
      "\u001b[0;32m~/opt/miniconda3/envs/qiime2-2020.2/lib/python3.6/site-packages/skbio/tree/_tree.py\u001b[0m in \u001b[0;36m__init__\u001b[0;34m(self, name, length, parent, children)\u001b[0m\n\u001b[1;32m     72\u001b[0m                               '_non_tip_cache'])\n\u001b[1;32m     73\u001b[0m \u001b[0;34m\u001b[0m\u001b[0m\n\u001b[0;32m---> 74\u001b[0;31m     \u001b[0;34m@\u001b[0m\u001b[0mexperimental\u001b[0m\u001b[0;34m(\u001b[0m\u001b[0mas_of\u001b[0m\u001b[0;34m=\u001b[0m\u001b[0;34m\"0.4.0\"\u001b[0m\u001b[0;34m)\u001b[0m\u001b[0;34m\u001b[0m\u001b[0;34m\u001b[0m\u001b[0m\n\u001b[0m\u001b[1;32m     75\u001b[0m     \u001b[0;32mdef\u001b[0m \u001b[0m__init__\u001b[0m\u001b[0;34m(\u001b[0m\u001b[0mself\u001b[0m\u001b[0;34m,\u001b[0m \u001b[0mname\u001b[0m\u001b[0;34m=\u001b[0m\u001b[0;32mNone\u001b[0m\u001b[0;34m,\u001b[0m \u001b[0mlength\u001b[0m\u001b[0;34m=\u001b[0m\u001b[0;32mNone\u001b[0m\u001b[0;34m,\u001b[0m \u001b[0mparent\u001b[0m\u001b[0;34m=\u001b[0m\u001b[0;32mNone\u001b[0m\u001b[0;34m,\u001b[0m \u001b[0mchildren\u001b[0m\u001b[0;34m=\u001b[0m\u001b[0;32mNone\u001b[0m\u001b[0;34m)\u001b[0m\u001b[0;34m:\u001b[0m\u001b[0;34m\u001b[0m\u001b[0;34m\u001b[0m\u001b[0m\n\u001b[1;32m     76\u001b[0m         \u001b[0mself\u001b[0m\u001b[0;34m.\u001b[0m\u001b[0mname\u001b[0m \u001b[0;34m=\u001b[0m \u001b[0mname\u001b[0m\u001b[0;34m\u001b[0m\u001b[0;34m\u001b[0m\u001b[0m\n",
      "\u001b[0;31mKeyboardInterrupt\u001b[0m: "
     ]
    }
   ],
   "source": [
    "# Insert sequences into sepp tree (WARNING: This takes a while)\n",
    "sepp_result = fragment_insertion.methods.sepp(representative_sequences=rep_seqs,\n",
    "                                              reference_database=sepp_db,\n",
    "                                              threads=8,\n",
    "                                              debug=True)"
   ]
  },
  {
   "cell_type": "code",
   "execution_count": null,
   "metadata": {},
   "outputs": [],
   "source": [
    "# Save the tree and the placements of the sequences\n",
    "sepp_result.tree.save('{}/sepp-tree.qza'.format(tree_dir))\n",
    "sepp_result.placements.save('{}/sepp-placements.qza'.format(tree_dir))"
   ]
  },
  {
   "cell_type": "code",
   "execution_count": 6,
   "metadata": {},
   "outputs": [],
   "source": [
    "sepp_tree = qiime2.Artifact.load('{}/sepp-tree.qza'.format(tree_dir))\n",
    "feature_filtered_table = qiime2.Artifact.load('{}/feature-filtered-table.qza'.format(table_dir))"
   ]
  },
  {
   "cell_type": "code",
   "execution_count": 7,
   "metadata": {},
   "outputs": [],
   "source": [
    "# Filter our current table by those sequences actually placed in the tree\n",
    "insertion_result = fragment_insertion.methods.filter_features(table=feature_filtered_table, \n",
    "                                                              tree=sepp_tree)"
   ]
  },
  {
   "cell_type": "code",
   "execution_count": 8,
   "metadata": {},
   "outputs": [
    {
     "data": {
      "image/png": "[encoded data removed]",
      "text/plain": [
       "<Figure size 432x288 with 1 Axes>"
      ]
     },
     "metadata": {
      "needs_background": "light"
     },
     "output_type": "display_data"
    }
   ],
   "source": [
    "# Visualize the final filtered table\n",
    "insertion_table_vis = feature_table.visualizers.summarize(insertion_result.filtered_table)\n",
    "#insertion_table_vis.visualization"
   ]
  },
  {
   "cell_type": "code",
   "execution_count": 9,
   "metadata": {},
   "outputs": [
    {
     "data": {
      "text/plain": [
       "'../results/full/2020_05_15/feature_tables/insertion-table.qzv'"
      ]
     },
     "execution_count": 9,
     "metadata": {},
     "output_type": "execute_result"
    }
   ],
   "source": [
    "# Save the final table and the visualization\n",
    "insertion_result.filtered_table.save('{}/insertion-table.qza'.format(table_dir))\n",
    "insertion_table_vis.visualization.save('{}/insertion-table.qzv'.format(table_dir))"
   ]
  },
  {
   "cell_type": "code",
   "execution_count": 11,
   "metadata": {},
   "outputs": [],
   "source": [
    "# Visualize tree\n",
    "tree_vis = empress.visualizers.plot(tree=sepp_tree, feature_table=insertion_result.filtered_table, sample_metadata=meta_data)"
   ]
  },
  {
   "cell_type": "code",
   "execution_count": 12,
   "metadata": {},
   "outputs": [
    {
     "data": {
      "text/plain": [
       "'../results/full/2020_05_15/fragment_insertion/sepp-tree.qzv'"
      ]
     },
     "execution_count": 12,
     "metadata": {},
     "output_type": "execute_result"
    }
   ],
   "source": [
    "# Save tree\n",
    "tree_vis.visualization.save('{}/sepp-tree.qzv'.format(tree_dir))"
   ]
  },
  {
   "cell_type": "code",
   "execution_count": 13,
   "metadata": {},
   "outputs": [
    {
     "data": {
      "text/plain": [
       "<Figure size 432x288 with 0 Axes>"
      ]
     },
     "metadata": {},
     "output_type": "display_data"
    }
   ],
   "source": [
    "# Visualize the removed feature table\n",
    "removed_table_vis = feature_table.visualizers.summarize(table = insertion_result.removed_table)\n",
    "#removed_table_vis.visualization"
   ]
  },
  {
   "cell_type": "code",
   "execution_count": 14,
   "metadata": {},
   "outputs": [
    {
     "data": {
      "text/plain": [
       "'../results/full/2020_05_15/feature_tables/removed-table.qzv'"
      ]
     },
     "execution_count": 14,
     "metadata": {},
     "output_type": "execute_result"
    }
   ],
   "source": [
    "# Save the removed table and the visualization\n",
    "insertion_result.removed_table.save('{}/removed-table.qza'.format(table_dir))\n",
    "removed_table_vis.visualization.save('{}/removed-table.qzv'.format(table_dir))"
   ]
  },
  {
   "cell_type": "markdown",
   "metadata": {},
   "source": [
    "### Create a taxonomy classifier and perform classification on sequences\n",
    " - Inputs: \n",
    "     - ../data/taxonomy/human-stool.qza (FeatureTable[RelativeFrequency] artifact)\n",
    "     - ../data/taxonomy/ref-seqs-v4.qza (FeatureData[Sequence] artifact)\n",
    "     - ../data/taxonomy/ref-tax.qza (FeatureData[Taxonomy] artifact)\n",
    "     - rep-seqs.qza (FeatureData[Sequence] artifact)\n",
    " - Outputs: \n",
    "     - gg138_v4_human-stool_classifier.qza (TaxonomicClassifier artifact)     \n",
    "     - bespoke-taxonomy.qza (FeatureData[Taxonomy] artifact)\n",
    " - Plugins: \n",
    "     - feature-table\n",
    "     - Artifact API"
   ]
  },
  {
   "cell_type": "code",
   "execution_count": 15,
   "metadata": {},
   "outputs": [],
   "source": [
    "# Load the Greengenes sequences and taxonomy and Clawback human stool weights (see README for download instructions and details)\n",
    "human_stool_weights = qiime2.Artifact.load('../data/taxonomy/human-stool.qza')\n",
    "ref_seqs_v4 = qiime2.Artifact.load('../data/taxonomy/ref-seqs-v4.qza')\n",
    "ref_tax = qiime2.Artifact.load('../data/taxonomy/ref-tax.qza')"
   ]
  },
  {
   "cell_type": "code",
   "execution_count": 16,
   "metadata": {},
   "outputs": [],
   "source": [
    "# Generate a classifier with the loaded reference data\n",
    "human_stool_v4_result = feature_classifier.methods.fit_classifier_naive_bayes(reference_reads=ref_seqs_v4,\n",
    "                                                                              reference_taxonomy=ref_tax,\n",
    "                                                                              class_weight=human_stool_weights)"
   ]
  },
  {
   "cell_type": "code",
   "execution_count": 19,
   "metadata": {},
   "outputs": [],
   "source": [
    "# Use classifier to classify sequences\n",
    "bespoke_taxonomy = feature_classifier.methods.classify_sklearn(reads=rep_seqs, \n",
    "                                                               classifier=human_stool_v4_result.classifier,\n",
    "                                                               n_jobs=-1)"
   ]
  },
  {
   "cell_type": "code",
   "execution_count": 20,
   "metadata": {},
   "outputs": [
    {
     "data": {
      "text/plain": [
       "'../results/full/2020_05_15/taxonomy/bespoke-taxonomy.qza'"
      ]
     },
     "execution_count": 20,
     "metadata": {},
     "output_type": "execute_result"
    }
   ],
   "source": [
    "# Save the classifier and the classification\n",
    "human_stool_v4_result.classifier.save('{}/gg138-v4-human-stool_classifier.qza'.format(tax_dir))\n",
    "bespoke_taxonomy.classification.save('{}/bespoke-taxonomy.qza'.format(tax_dir))"
   ]
  },
  {
   "cell_type": "code",
   "execution_count": 21,
   "metadata": {},
   "outputs": [],
   "source": [
    "# Visualize the classification as a table\n",
    "taxonomy_vis = metadata.visualizers.tabulate(bespoke_taxonomy.classification.view(qiime2.Metadata))\n",
    "#taxonomy_vis.visualization"
   ]
  },
  {
   "cell_type": "code",
   "execution_count": 22,
   "metadata": {},
   "outputs": [
    {
     "data": {
      "text/plain": [
       "'../results/full/2020_05_15/taxonomy/bespoke-taxonomy.qzv'"
      ]
     },
     "execution_count": 22,
     "metadata": {},
     "output_type": "execute_result"
    }
   ],
   "source": [
    "# Save the visualization\n",
    "taxonomy_vis.visualization.save('{}/bespoke-taxonomy.qzv'.format(tax_dir))"
   ]
  }
 ],
 "metadata": {
  "kernelspec": {
   "display_name": "qiime2-2020.2",
   "language": "python",
   "name": "qiime2-2020.2"
  },
  "language_info": {
   "codemirror_mode": {
    "name": "ipython",
    "version": 3
   },
   "file_extension": ".py",
   "mimetype": "text/x-python",
   "name": "python",
   "nbconvert_exporter": "python",
   "pygments_lexer": "ipython3",
   "version": "3.6.7"
  }
 },
 "nbformat": 4,
 "nbformat_minor": 4
}
