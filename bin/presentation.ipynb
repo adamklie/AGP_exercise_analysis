{
 "cells": [
  {
   "cell_type": "markdown",
   "metadata": {},
   "source": [
    "# Presentation analyses"
   ]
  },
  {
   "cell_type": "code",
   "execution_count": 126,
   "metadata": {},
   "outputs": [],
   "source": [
    "import qiime2\n",
    "import pandas as pd\n",
    "import warnings\n",
    "warnings.filterwarnings('ignore')\n",
    "from qiime2.plugins import feature_table, fragment_insertion, feature_classifier, metadata, empress, songbird\n",
    "\n",
    "import matplotlib.pyplot as plt\n",
    "from matplotlib import cm\n",
    "from matplotlib.colors import ListedColormap, LinearSegmentedColormap\n",
    "import numpy as np\n",
    "import seaborn as sns\n",
    "%matplotlib inline"
   ]
  },
  {
   "cell_type": "code",
   "execution_count": 127,
   "metadata": {},
   "outputs": [],
   "source": [
    "# Data and results directories\n",
    "data_dir = '../data/full/2020_05_11'\n",
    "results_dir = '../results/full/2020_05_15'\n",
    "tax_dir = '{}/taxonomy'.format(results_dir)\n",
    "table_dir = '{}/feature_tables'.format(results_dir)\n",
    "tree_dir = '{}/fragment_insertion'.format(results_dir)\n",
    "diversity_dir = '{}/diversity'.format(results_dir)\n",
    "diff_dir = '{}/differential_abundance'.format(results_dir)\n",
    "tree_dir = '{}/fragment_insertion'.format(results_dir)"
   ]
  },
  {
   "cell_type": "markdown",
   "metadata": {},
   "source": [
    "# Fine-tun feature table"
   ]
  },
  {
   "cell_type": "markdown",
   "metadata": {},
   "source": [
    "### Load feature table and metadata"
   ]
  },
  {
   "cell_type": "code",
   "execution_count": 128,
   "metadata": {},
   "outputs": [],
   "source": [
    "filtered_table = qiime2.Artifact.load('{}/insertion-table.qza'.format(table_dir))"
   ]
  },
  {
   "cell_type": "code",
   "execution_count": 133,
   "metadata": {},
   "outputs": [],
   "source": [
    "meta_data = qiime2.Metadata.load('{}/filtered-metadata.tsv'.format(data_dir))"
   ]
  },
  {
   "cell_type": "markdown",
   "metadata": {},
   "source": [
    "### Filter out \"Never\" samples"
   ]
  },
  {
   "cell_type": "code",
   "execution_count": 145,
   "metadata": {},
   "outputs": [],
   "source": [
    "criterion = \"[exercise_frequency] IN ('Rarely (a few times/month)', 'Occasionally (1-2 times/week)', 'Regularly (3-5 times/week)', 'Daily')\"\n",
    "min_per_feature = 3"
   ]
  },
  {
   "cell_type": "code",
   "execution_count": 137,
   "metadata": {},
   "outputs": [],
   "source": [
    "# Filter FeatureTable[Frequency] with feature-table filter-samples method\n",
    "sample_filter = feature_table.methods.filter_samples(table=filtered_table, \n",
    "                                                     metadata=meta_data,\n",
    "                                                     where=criterion)"
   ]
  },
  {
   "cell_type": "code",
   "execution_count": 146,
   "metadata": {},
   "outputs": [],
   "source": [
    "# Filter FeatureTable[Frequency] with feature-table filter-features method\n",
    "feature_filter = feature_table.methods.filter_features(table=sample_filter.filtered_table,\n",
    "                                                       min_frequency=min_per_feature)"
   ]
  },
  {
   "cell_type": "code",
   "execution_count": 147,
   "metadata": {},
   "outputs": [
    {
     "data": {
      "image/png": "[encoded data removed]",
      "text/plain": [
       "<Figure size 432x288 with 1 Axes>"
      ]
     },
     "metadata": {
      "needs_background": "light"
     },
     "output_type": "display_data"
    }
   ],
   "source": [
    "# Visualize the filtered table\n",
    "feature_filter_vis = feature_table.visualizers.summarize(table=feature_filter.filtered_table,\n",
    "                                                         sample_metadata=meta_data)"
   ]
  },
  {
   "cell_type": "code",
   "execution_count": 149,
   "metadata": {},
   "outputs": [],
   "source": [
    "#feature_filter_vis.visualization"
   ]
  },
  {
   "cell_type": "markdown",
   "metadata": {},
   "source": [
    "#### Get counts"
   ]
  },
  {
   "cell_type": "code",
   "execution_count": null,
   "metadata": {},
   "outputs": [],
   "source": [
    "filtered_df = feature_filter.filtered_table.view(pd.DataFrame)"
   ]
  },
  {
   "cell_type": "code",
   "execution_count": 151,
   "metadata": {},
   "outputs": [],
   "source": [
    "counts = filtered_df.sum(axis=0)"
   ]
  },
  {
   "cell_type": "code",
   "execution_count": 152,
   "metadata": {},
   "outputs": [
    {
     "name": "stdout",
     "output_type": "stream",
     "text": [
      "Number of zero count features 0\n",
      "Number of singleton features 0\n",
      "Number of doubleton features 0\n",
      "Number of features with a count of >2 85716\n"
     ]
    }
   ],
   "source": [
    "print(\"Number of zero count features %d\" % (counts == 0).sum())\n",
    "print(\"Number of singleton features %d\" % (counts == 1).sum())\n",
    "print(\"Number of doubleton features %d\" % (counts == 2).sum())\n",
    "print(\"Number of features with a count of >2 %d\" % (counts > 2).sum())"
   ]
  },
  {
   "cell_type": "code",
   "execution_count": 154,
   "metadata": {},
   "outputs": [
    {
     "data": {
      "text/plain": [
       "Index(['10317.000020104.56754', '10317.000028711.57900',\n",
       "       '10317.000013255.60418', '10317.000068081.60111',\n",
       "       '10317.000022101.58699'],\n",
       "      dtype='object')"
      ]
     },
     "execution_count": 154,
     "metadata": {},
     "output_type": "execute_result"
    }
   ],
   "source": [
    "sample_ids = filtered_df.index\n",
    "sample_ids[0:5]"
   ]
  },
  {
   "cell_type": "code",
   "execution_count": 235,
   "metadata": {},
   "outputs": [],
   "source": [
    "meta_data_df = meta_data.to_dataframe().loc[sample_ids]"
   ]
  },
  {
   "cell_type": "code",
   "execution_count": 236,
   "metadata": {},
   "outputs": [
    {
     "data": {
      "text/plain": [
       "Regularly (3-5 times/week)       2886\n",
       "Occasionally (1-2 times/week)    1705\n",
       "Daily                            1458\n",
       "Rarely (a few times/month)        716\n",
       "Name: exercise_frequency, dtype: int64"
      ]
     },
     "execution_count": 236,
     "metadata": {},
     "output_type": "execute_result"
    }
   ],
   "source": [
    "meta_data_df[\"exercise_frequency\"].value_counts()"
   ]
  },
  {
   "cell_type": "code",
   "execution_count": 237,
   "metadata": {},
   "outputs": [
    {
     "data": {
      "text/plain": [
       "[Text(0, 0, 'Rarely (n=716)'),\n",
       " Text(0, 0, 'Occasionally (n=1705)'),\n",
       " Text(0, 0, 'Regularly (n=2886)'),\n",
       " Text(0, 0, 'Daily (n=1458)')]"
      ]
     },
     "execution_count": 237,
     "metadata": {},
     "output_type": "execute_result"
    },
    {
     "data": {
      "image/png": "[encoded data removed]",
      "text/plain": [
       "<Figure size 432x288 with 1 Axes>"
      ]
     },
     "metadata": {
      "needs_background": "light"
     },
     "output_type": "display_data"
    }
   ],
   "source": [
    "ax = sns.countplot(x='exercise_frequency', data=meta_data_df, order=['Rarely (a few times/month)', 'Occasionally (1-2 times/week)', \n",
    "                                                                       'Regularly (3-5 times/week)', 'Daily'])\n",
    "ax.set_xticklabels([\"Rarely (n=716)\", \"Occasionally (n=1705)\", \"Regularly (n=2886)\", \"Daily (n=1458)\"], rotation=45)\n",
    "ax.set_ylabel(ax.get_ylabel(), fontsize=18)\n",
    "ax.set_xlabel(ax.get_xlabel(), fontsize=18)\n",
    "ax.set_xticklabels(ax.get_xticklabels(), fontsize=14)"
   ]
  },
  {
   "cell_type": "code",
   "execution_count": 238,
   "metadata": {},
   "outputs": [],
   "source": [
    "meta_data_df[\"bmi_corrected\"].replace(\"Not provided\", np.nan, inplace=True)\n",
    "meta_data_df[\"age_corrected\"].replace(\"Not provided\", np.nan, inplace=True)"
   ]
  },
  {
   "cell_type": "code",
   "execution_count": 239,
   "metadata": {},
   "outputs": [],
   "source": [
    "mean_bmi = int((meta_data_df[\"bmi_corrected\"].replace(\"\", np.nan)).astype('float64').mean())\n",
    "mean_age = int((meta_data_df[\"age_corrected\"].replace(\"\", np.nan)).astype('float64').mean())"
   ]
  },
  {
   "cell_type": "code",
   "execution_count": 240,
   "metadata": {},
   "outputs": [],
   "source": [
    "meta_data_df[\"bmi_corrected\"].replace(np.nan, mean_bmi, inplace=True)\n",
    "meta_data_df[\"age_corrected\"].replace(np.nan, mean_age, inplace=True)"
   ]
  },
  {
   "cell_type": "code",
   "execution_count": 248,
   "metadata": {},
   "outputs": [],
   "source": [
    "meta_data_df.index.rename('#SampleID', inplace=True)\n",
    "meta_data_df = meta_data_df.astype({'age_corrected': 'float64', 'bmi_corrected':'float64'})\n",
    "meta_data_df = meta_data_df.astype({'age_corrected': 'int64', 'bmi_corrected':'int64'})"
   ]
  },
  {
   "cell_type": "code",
   "execution_count": 250,
   "metadata": {},
   "outputs": [],
   "source": [
    "m_data = qiime2.Metadata(meta_data_df)"
   ]
  },
  {
   "cell_type": "code",
   "execution_count": 251,
   "metadata": {},
   "outputs": [
    {
     "data": {
      "image/png": "[encoded data removed]",
      "text/plain": [
       "<Figure size 432x288 with 1 Axes>"
      ]
     },
     "metadata": {
      "needs_background": "light"
     },
     "output_type": "display_data"
    }
   ],
   "source": [
    "# Visualize the filtered table\n",
    "feature_filter_vis = feature_table.visualizers.summarize(table=feature_filter.filtered_table,\n",
    "                                                         sample_metadata=m_data)"
   ]
  },
  {
   "cell_type": "code",
   "execution_count": 253,
   "metadata": {},
   "outputs": [],
   "source": [
    "#feature_filter_vis.visualization"
   ]
  },
  {
   "cell_type": "code",
   "execution_count": 258,
   "metadata": {},
   "outputs": [
    {
     "data": {
      "text/plain": [
       "'../results/full/2020_05_15/feature_tables/never-removed-table.qzv'"
      ]
     },
     "execution_count": 258,
     "metadata": {},
     "output_type": "execute_result"
    }
   ],
   "source": [
    "m_data.save('{}/cleaned-metadata.tsv'.format(data_dir))\n",
    "feature_filter.filtered_table.save('{}/never-removed-table'.format(table_dir))\n",
    "feature_filter_vis.visualization.save('{}/never-removed-table.qzv'.format(table_dir))"
   ]
  },
  {
   "cell_type": "markdown",
   "metadata": {},
   "source": [
    "# Taxonomic classification details"
   ]
  },
  {
   "cell_type": "code",
   "execution_count": 76,
   "metadata": {},
   "outputs": [],
   "source": [
    "bespoke_taxonomy = qiime2.Artifact.load('{}/bespoke-taxonomy.qza'.format(tax_dir))"
   ]
  },
  {
   "cell_type": "code",
   "execution_count": 77,
   "metadata": {},
   "outputs": [],
   "source": [
    "taxonomy_df = bespoke_taxonomy.view(pd.DataFrame)"
   ]
  },
  {
   "cell_type": "code",
   "execution_count": 78,
   "metadata": {},
   "outputs": [],
   "source": [
    "taxonomy_df[\"Confidence\"] = taxonomy_df[\"Confidence\"].astype(float)"
   ]
  },
  {
   "cell_type": "code",
   "execution_count": 79,
   "metadata": {},
   "outputs": [
    {
     "name": "stdout",
     "output_type": "stream",
     "text": [
      "Percentage of features classified with > 90% confidence: 80.57%\n"
     ]
    }
   ],
   "source": [
    "print(\"Percentage of features classified with > 90%% confidence: %.2f%%\" % (100*(taxonomy_df[\"Confidence\"] > 0.90).sum()/len(taxonomy_df)))"
   ]
  },
  {
   "cell_type": "code",
   "execution_count": 80,
   "metadata": {},
   "outputs": [
    {
     "data": {
      "text/plain": [
       "Text(0.5, 0, 'Confidence')"
      ]
     },
     "execution_count": 80,
     "metadata": {},
     "output_type": "execute_result"
    },
    {
     "data": {
      "image/png": "[encoded data removed]",
      "text/plain": [
       "<Figure size 432x288 with 1 Axes>"
      ]
     },
     "metadata": {
      "needs_background": "light"
     },
     "output_type": "display_data"
    }
   ],
   "source": [
    "ax = taxonomy_df.plot.hist(\"Confidence\")\n",
    "ax.set_xlabel(\"Confidence\")"
   ]
  },
  {
   "cell_type": "code",
   "execution_count": 81,
   "metadata": {},
   "outputs": [],
   "source": [
    "taxon_counts = {\"k\":0, \"p\":0, \"c\":0, \"o\":0, \"f\":0, \"g\":0, \"s\":0}\n",
    "for classification in taxonomy_df[\"Taxon\"].values:\n",
    "    taxons = classification.split('; ')\n",
    "    for i, cl in enumerate(taxons):\n",
    "        if i > 0 and len(cl) < 4:\n",
    "            taxon_counts[taxons[i-1][0]] += 1\n",
    "            break\n",
    "        if i == len(taxons)-1:\n",
    "            taxon_counts[taxons[len(taxons)-1][0]] += 1"
   ]
  },
  {
   "cell_type": "code",
   "execution_count": 82,
   "metadata": {},
   "outputs": [],
   "source": [
    "taxon_counts = pd.Series(taxon_counts)"
   ]
  },
  {
   "cell_type": "code",
   "execution_count": 83,
   "metadata": {},
   "outputs": [],
   "source": [
    "taxon_frac = taxon_counts/taxon_counts.sum()"
   ]
  },
  {
   "cell_type": "code",
   "execution_count": 126,
   "metadata": {},
   "outputs": [],
   "source": [
    "viridis = cm.get_cmap('viridis', 12)\n",
    "set_three = cm.get_cmap('Set3', 20)"
   ]
  },
  {
   "cell_type": "code",
   "execution_count": 130,
   "metadata": {},
   "outputs": [
    {
     "data": {
      "text/plain": [
       "[Text(0, 0, 'Kingdom'),\n",
       " Text(0, 0, 'Phylum'),\n",
       " Text(0, 0, 'Class'),\n",
       " Text(0, 0, 'Order'),\n",
       " Text(0, 0, 'Family'),\n",
       " Text(0, 0, 'Genus'),\n",
       " Text(0, 0, 'Species')]"
      ]
     },
     "execution_count": 130,
     "metadata": {},
     "output_type": "execute_result"
    },
    {
     "data": {
      "image/png": "[encoded data removed]",
      "text/plain": [
       "<Figure size 864x576 with 1 Axes>"
      ]
     },
     "metadata": {
      "needs_background": "light"
     },
     "output_type": "display_data"
    }
   ],
   "source": [
    "ax = plt.figure(figsize=(12,8))\n",
    "ax = taxon_frac.plot.bar(color=[set_three(np.random.random()) for i in range(len(taxon_frac))], width=0.8)\n",
    "ax.set_xlabel(\"Taxonomic Group\", fontsize=18)\n",
    "ax.set_ylabel(\"Fraction of total\", fontsize=18)\n",
    "ax.set_xticklabels([\"Kingdom\", \"Phylum\", \"Class\", \"Order\", \"Family\", \"Genus\", \"Species\"], fontsize=18)"
   ]
  },
  {
   "cell_type": "markdown",
   "metadata": {},
   "source": [
    "# Alpha rarefaction details"
   ]
  },
  {
   "cell_type": "code",
   "execution_count": 144,
   "metadata": {},
   "outputs": [],
   "source": [
    "plot_dir = '{}/plotting'.format(results_dir)"
   ]
  },
  {
   "cell_type": "code",
   "execution_count": 145,
   "metadata": {},
   "outputs": [],
   "source": [
    "shannon_df = pd.read_csv('{}/shannon.csv'.format(plot_dir))"
   ]
  },
  {
   "cell_type": "code",
   "execution_count": 146,
   "metadata": {},
   "outputs": [
    {
     "data": {
      "text/html": [
       "<div>\n",
       "<style scoped>\n",
       "    .dataframe tbody tr th:only-of-type {\n",
       "        vertical-align: middle;\n",
       "    }\n",
       "\n",
       "    .dataframe tbody tr th {\n",
       "        vertical-align: top;\n",
       "    }\n",
       "\n",
       "    .dataframe thead th {\n",
       "        text-align: right;\n",
       "    }\n",
       "</style>\n",
       "<table border=\"1\" class=\"dataframe\">\n",
       "  <thead>\n",
       "    <tr style=\"text-align: right;\">\n",
       "      <th></th>\n",
       "      <th>sample-id</th>\n",
       "      <th>depth-1_iter-1</th>\n",
       "      <th>depth-1_iter-2</th>\n",
       "      <th>depth-1_iter-3</th>\n",
       "      <th>depth-1_iter-4</th>\n",
       "      <th>depth-1_iter-5</th>\n",
       "      <th>depth-1_iter-6</th>\n",
       "      <th>depth-1_iter-7</th>\n",
       "      <th>depth-1_iter-8</th>\n",
       "      <th>depth-1_iter-9</th>\n",
       "      <th>...</th>\n",
       "      <th>depth-10000_iter-10</th>\n",
       "      <th>age_corrected</th>\n",
       "      <th>sex</th>\n",
       "      <th>body_site</th>\n",
       "      <th>sample_type</th>\n",
       "      <th>bmi_corrected</th>\n",
       "      <th>exercise_frequency</th>\n",
       "      <th>country</th>\n",
       "      <th>race</th>\n",
       "      <th>diet_type</th>\n",
       "    </tr>\n",
       "  </thead>\n",
       "  <tbody>\n",
       "    <tr>\n",
       "      <th>0</th>\n",
       "      <td>10317.000020104.56754</td>\n",
       "      <td>-0.0</td>\n",
       "      <td>-0.0</td>\n",
       "      <td>-0.0</td>\n",
       "      <td>-0.0</td>\n",
       "      <td>-0.0</td>\n",
       "      <td>-0.0</td>\n",
       "      <td>-0.0</td>\n",
       "      <td>-0.0</td>\n",
       "      <td>-0.0</td>\n",
       "      <td>...</td>\n",
       "      <td>1.515963</td>\n",
       "      <td>38.0</td>\n",
       "      <td>male</td>\n",
       "      <td>UBERON:feces</td>\n",
       "      <td>Stool</td>\n",
       "      <td>Not provided</td>\n",
       "      <td>Regularly (3-5 times/week)</td>\n",
       "      <td>USA</td>\n",
       "      <td>Caucasian</td>\n",
       "      <td>Omnivore</td>\n",
       "    </tr>\n",
       "    <tr>\n",
       "      <th>1</th>\n",
       "      <td>10317.000028711.57900</td>\n",
       "      <td>-0.0</td>\n",
       "      <td>-0.0</td>\n",
       "      <td>-0.0</td>\n",
       "      <td>-0.0</td>\n",
       "      <td>-0.0</td>\n",
       "      <td>-0.0</td>\n",
       "      <td>-0.0</td>\n",
       "      <td>-0.0</td>\n",
       "      <td>-0.0</td>\n",
       "      <td>...</td>\n",
       "      <td>4.588041</td>\n",
       "      <td>49.0</td>\n",
       "      <td>female</td>\n",
       "      <td>UBERON:feces</td>\n",
       "      <td>Stool</td>\n",
       "      <td>Not provided</td>\n",
       "      <td>Occasionally (1-2 times/week)</td>\n",
       "      <td>USA</td>\n",
       "      <td>Caucasian</td>\n",
       "      <td>Omnivore</td>\n",
       "    </tr>\n",
       "    <tr>\n",
       "      <th>2</th>\n",
       "      <td>10317.000013255.60418</td>\n",
       "      <td>-0.0</td>\n",
       "      <td>-0.0</td>\n",
       "      <td>-0.0</td>\n",
       "      <td>-0.0</td>\n",
       "      <td>-0.0</td>\n",
       "      <td>-0.0</td>\n",
       "      <td>-0.0</td>\n",
       "      <td>-0.0</td>\n",
       "      <td>-0.0</td>\n",
       "      <td>...</td>\n",
       "      <td>5.048281</td>\n",
       "      <td>61.0</td>\n",
       "      <td>female</td>\n",
       "      <td>UBERON:feces</td>\n",
       "      <td>Stool</td>\n",
       "      <td>Not provided</td>\n",
       "      <td>Daily</td>\n",
       "      <td>USA</td>\n",
       "      <td>Caucasian</td>\n",
       "      <td>Omnivore</td>\n",
       "    </tr>\n",
       "    <tr>\n",
       "      <th>3</th>\n",
       "      <td>10317.000068081.60111</td>\n",
       "      <td>-0.0</td>\n",
       "      <td>-0.0</td>\n",
       "      <td>-0.0</td>\n",
       "      <td>-0.0</td>\n",
       "      <td>-0.0</td>\n",
       "      <td>-0.0</td>\n",
       "      <td>-0.0</td>\n",
       "      <td>-0.0</td>\n",
       "      <td>-0.0</td>\n",
       "      <td>...</td>\n",
       "      <td>5.714992</td>\n",
       "      <td>50.0</td>\n",
       "      <td>female</td>\n",
       "      <td>UBERON:feces</td>\n",
       "      <td>Stool</td>\n",
       "      <td>25.85</td>\n",
       "      <td>Occasionally (1-2 times/week)</td>\n",
       "      <td>USA</td>\n",
       "      <td>Caucasian</td>\n",
       "      <td>Vegetarian</td>\n",
       "    </tr>\n",
       "    <tr>\n",
       "      <th>4</th>\n",
       "      <td>10317.000022101.58699</td>\n",
       "      <td>-0.0</td>\n",
       "      <td>-0.0</td>\n",
       "      <td>-0.0</td>\n",
       "      <td>-0.0</td>\n",
       "      <td>-0.0</td>\n",
       "      <td>-0.0</td>\n",
       "      <td>-0.0</td>\n",
       "      <td>-0.0</td>\n",
       "      <td>-0.0</td>\n",
       "      <td>...</td>\n",
       "      <td>NaN</td>\n",
       "      <td>34.0</td>\n",
       "      <td>male</td>\n",
       "      <td>UBERON:feces</td>\n",
       "      <td>Stool</td>\n",
       "      <td>Not provided</td>\n",
       "      <td>Occasionally (1-2 times/week)</td>\n",
       "      <td>Australia</td>\n",
       "      <td>Caucasian</td>\n",
       "      <td>Omnivore</td>\n",
       "    </tr>\n",
       "  </tbody>\n",
       "</table>\n",
       "<p>5 rows × 110 columns</p>\n",
       "</div>"
      ],
      "text/plain": [
       "               sample-id  depth-1_iter-1  depth-1_iter-2  depth-1_iter-3  \\\n",
       "0  10317.000020104.56754            -0.0            -0.0            -0.0   \n",
       "1  10317.000028711.57900            -0.0            -0.0            -0.0   \n",
       "2  10317.000013255.60418            -0.0            -0.0            -0.0   \n",
       "3  10317.000068081.60111            -0.0            -0.0            -0.0   \n",
       "4  10317.000022101.58699            -0.0            -0.0            -0.0   \n",
       "\n",
       "   depth-1_iter-4  depth-1_iter-5  depth-1_iter-6  depth-1_iter-7  \\\n",
       "0            -0.0            -0.0            -0.0            -0.0   \n",
       "1            -0.0            -0.0            -0.0            -0.0   \n",
       "2            -0.0            -0.0            -0.0            -0.0   \n",
       "3            -0.0            -0.0            -0.0            -0.0   \n",
       "4            -0.0            -0.0            -0.0            -0.0   \n",
       "\n",
       "   depth-1_iter-8  depth-1_iter-9  ...  depth-10000_iter-10  age_corrected  \\\n",
       "0            -0.0            -0.0  ...             1.515963           38.0   \n",
       "1            -0.0            -0.0  ...             4.588041           49.0   \n",
       "2            -0.0            -0.0  ...             5.048281           61.0   \n",
       "3            -0.0            -0.0  ...             5.714992           50.0   \n",
       "4            -0.0            -0.0  ...                  NaN           34.0   \n",
       "\n",
       "      sex     body_site  sample_type  bmi_corrected  \\\n",
       "0    male  UBERON:feces        Stool   Not provided   \n",
       "1  female  UBERON:feces        Stool   Not provided   \n",
       "2  female  UBERON:feces        Stool   Not provided   \n",
       "3  female  UBERON:feces        Stool          25.85   \n",
       "4    male  UBERON:feces        Stool   Not provided   \n",
       "\n",
       "              exercise_frequency    country       race   diet_type  \n",
       "0     Regularly (3-5 times/week)        USA  Caucasian    Omnivore  \n",
       "1  Occasionally (1-2 times/week)        USA  Caucasian    Omnivore  \n",
       "2                          Daily        USA  Caucasian    Omnivore  \n",
       "3  Occasionally (1-2 times/week)        USA  Caucasian  Vegetarian  \n",
       "4  Occasionally (1-2 times/week)  Australia  Caucasian    Omnivore  \n",
       "\n",
       "[5 rows x 110 columns]"
      ]
     },
     "execution_count": 146,
     "metadata": {},
     "output_type": "execute_result"
    }
   ],
   "source": [
    "shannon_df.head()"
   ]
  },
  {
   "cell_type": "code",
   "execution_count": 148,
   "metadata": {},
   "outputs": [
    {
     "data": {
      "text/plain": [
       "[Text(0, 0, '0'),\n",
       " Text(0, 0, '1000'),\n",
       " Text(0, 0, '2000'),\n",
       " Text(0, 0, '3000'),\n",
       " Text(0, 0, '4000'),\n",
       " Text(0, 0, '5000')]"
      ]
     },
     "execution_count": 148,
     "metadata": {},
     "output_type": "execute_result"
    },
    {
     "data": {
      "image/png": "[encoded data removed]",
      "text/plain": [
       "<Figure size 432x288 with 1 Axes>"
      ]
     },
     "metadata": {
      "needs_background": "light"
     },
     "output_type": "display_data"
    }
   ],
   "source": [
    "ax = shannon_df.groupby(\"exercise_frequency\").mean().T.plot.line()\n",
    "ax.set_xticklabels(np.arange(0, 10000, 1000))"
   ]
  },
  {
   "cell_type": "markdown",
   "metadata": {},
   "source": [
    "# Diversity"
   ]
  },
  {
   "cell_type": "code",
   "execution_count": 152,
   "metadata": {},
   "outputs": [],
   "source": [
    "shannon_vec = qiime2.Artifact.load('{}/shannon-vector.qza'.format(diversity_dir))"
   ]
  },
  {
   "cell_type": "code",
   "execution_count": 163,
   "metadata": {},
   "outputs": [],
   "source": [
    "shannon_df = pd.DataFrame(shannon_vec.view(pd.Series))"
   ]
  },
  {
   "cell_type": "code",
   "execution_count": 173,
   "metadata": {},
   "outputs": [],
   "source": [
    "shannon_meta_df = shannon_df.join(meta_data_df, how='inner')"
   ]
  },
  {
   "cell_type": "code",
   "execution_count": 186,
   "metadata": {},
   "outputs": [
    {
     "data": {
      "text/plain": [
       "Regularly (3-5 times/week)       2726\n",
       "Occasionally (1-2 times/week)    1615\n",
       "Daily                            1378\n",
       "Rarely (a few times/month)        681\n",
       "Never                             160\n",
       "Name: exercise_frequency, dtype: int64"
      ]
     },
     "execution_count": 186,
     "metadata": {},
     "output_type": "execute_result"
    }
   ],
   "source": [
    "shannon_meta_df[\"exercise_frequency\"].value_counts()"
   ]
  },
  {
   "cell_type": "code",
   "execution_count": 185,
   "metadata": {},
   "outputs": [],
   "source": [
    "import seaborn as sns"
   ]
  },
  {
   "cell_type": "code",
   "execution_count": 236,
   "metadata": {},
   "outputs": [
    {
     "data": {
      "text/html": [
       "<div>\n",
       "<style scoped>\n",
       "    .dataframe tbody tr th:only-of-type {\n",
       "        vertical-align: middle;\n",
       "    }\n",
       "\n",
       "    .dataframe tbody tr th {\n",
       "        vertical-align: top;\n",
       "    }\n",
       "\n",
       "    .dataframe thead th {\n",
       "        text-align: right;\n",
       "    }\n",
       "</style>\n",
       "<table border=\"1\" class=\"dataframe\">\n",
       "  <thead>\n",
       "    <tr style=\"text-align: right;\">\n",
       "      <th></th>\n",
       "      <th>shannon</th>\n",
       "    </tr>\n",
       "    <tr>\n",
       "      <th>exercise_frequency</th>\n",
       "      <th></th>\n",
       "    </tr>\n",
       "  </thead>\n",
       "  <tbody>\n",
       "    <tr>\n",
       "      <th>Daily</th>\n",
       "      <td>4.656783</td>\n",
       "    </tr>\n",
       "    <tr>\n",
       "      <th>Never</th>\n",
       "      <td>4.614764</td>\n",
       "    </tr>\n",
       "    <tr>\n",
       "      <th>Occasionally (1-2 times/week)</th>\n",
       "      <td>4.623732</td>\n",
       "    </tr>\n",
       "    <tr>\n",
       "      <th>Rarely (a few times/month)</th>\n",
       "      <td>4.657309</td>\n",
       "    </tr>\n",
       "    <tr>\n",
       "      <th>Regularly (3-5 times/week)</th>\n",
       "      <td>4.700750</td>\n",
       "    </tr>\n",
       "  </tbody>\n",
       "</table>\n",
       "</div>"
      ],
      "text/plain": [
       "                                shannon\n",
       "exercise_frequency                     \n",
       "Daily                          4.656783\n",
       "Never                          4.614764\n",
       "Occasionally (1-2 times/week)  4.623732\n",
       "Rarely (a few times/month)     4.657309\n",
       "Regularly (3-5 times/week)     4.700750"
      ]
     },
     "execution_count": 236,
     "metadata": {},
     "output_type": "execute_result"
    }
   ],
   "source": [
    "shannon_meta_df.groupby(\"exercise_frequency\").median()"
   ]
  },
  {
   "cell_type": "code",
   "execution_count": 235,
   "metadata": {},
   "outputs": [
    {
     "data": {
      "text/plain": [
       "[Text(0, 0, 'Never (n=160)'),\n",
       " Text(0, 0, 'Rarely (n=681)'),\n",
       " Text(0, 0, 'Occasionally (n=1615)'),\n",
       " Text(0, 0, 'Regularly (n=2726)'),\n",
       " Text(0, 0, 'Daily (n=1378)')]"
      ]
     },
     "execution_count": 235,
     "metadata": {},
     "output_type": "execute_result"
    },
    {
     "data": {
      "image/png": "[encoded data removed]",
      "text/plain": [
       "<Figure size 864x576 with 1 Axes>"
      ]
     },
     "metadata": {
      "needs_background": "light"
     },
     "output_type": "display_data"
    }
   ],
   "source": [
    "ax = plt.figure(figsize=(12,8))\n",
    "ax = sns.boxplot(x='exercise_frequency', y='shannon', data=shannon_meta_df, order=[\"Never\", \"Rarely (a few times/month)\", \"Occasionally (1-2 times/week)\",\n",
    "                                                                                 \"Regularly (3-5 times/week)\", \"Daily\"])\n",
    "ax.set_xticklabels([\"Never (n=160)\", \"Rarely (n=681)\", \"Occasionally (n=1615)\", \"Regularly (n=2726)\", \"Daily (n=1378)\"], rotation=45)\n",
    "ax.set_ylabel(ax.get_ylabel(), fontsize=18)\n",
    "ax.set_xlabel(ax.get_xlabel(), fontsize=18)\n",
    "ax.set_xticklabels(ax.get_xticklabels(), fontsize=14)"
   ]
  },
  {
   "cell_type": "code",
   "execution_count": 219,
   "metadata": {},
   "outputs": [],
   "source": [
    "shannon_kruskal = stats.kruskal(*[group[\"shannon\"].values for name, group in shannon_meta_df.groupby(\"exercise_frequency\")])"
   ]
  },
  {
   "cell_type": "code",
   "execution_count": 224,
   "metadata": {},
   "outputs": [
    {
     "data": {
      "text/plain": [
       "5.193694174278789"
      ]
     },
     "execution_count": 224,
     "metadata": {},
     "output_type": "execute_result"
    }
   ],
   "source": [
    "shannon_kruskal.statistic"
   ]
  },
  {
   "cell_type": "code",
   "execution_count": 196,
   "metadata": {},
   "outputs": [],
   "source": [
    "faiths_vec = qiime2.Artifact.load('{}/faith-pd-vector.qza'.format(diversity_dir))"
   ]
  },
  {
   "cell_type": "code",
   "execution_count": 197,
   "metadata": {},
   "outputs": [],
   "source": [
    "faiths_df = pd.DataFrame(faiths_vec.view(pd.Series))"
   ]
  },
  {
   "cell_type": "code",
   "execution_count": 200,
   "metadata": {},
   "outputs": [],
   "source": [
    "faiths_meta_df = faiths_df.join(meta_data_df, how='inner')"
   ]
  },
  {
   "cell_type": "code",
   "execution_count": 206,
   "metadata": {},
   "outputs": [
    {
     "data": {
      "text/html": [
       "<div>\n",
       "<style scoped>\n",
       "    .dataframe tbody tr th:only-of-type {\n",
       "        vertical-align: middle;\n",
       "    }\n",
       "\n",
       "    .dataframe tbody tr th {\n",
       "        vertical-align: top;\n",
       "    }\n",
       "\n",
       "    .dataframe thead th {\n",
       "        text-align: right;\n",
       "    }\n",
       "</style>\n",
       "<table border=\"1\" class=\"dataframe\">\n",
       "  <thead>\n",
       "    <tr style=\"text-align: right;\">\n",
       "      <th></th>\n",
       "      <th>faith_pd</th>\n",
       "      <th>age_corrected</th>\n",
       "      <th>sex</th>\n",
       "      <th>body_site</th>\n",
       "      <th>sample_type</th>\n",
       "      <th>bmi_corrected</th>\n",
       "      <th>exercise_frequency</th>\n",
       "      <th>country</th>\n",
       "      <th>race</th>\n",
       "      <th>diet_type</th>\n",
       "    </tr>\n",
       "  </thead>\n",
       "  <tbody>\n",
       "    <tr>\n",
       "      <th>10317.000020104.56754</th>\n",
       "      <td>8.465714</td>\n",
       "      <td>38.0</td>\n",
       "      <td>male</td>\n",
       "      <td>UBERON:feces</td>\n",
       "      <td>Stool</td>\n",
       "      <td>Not provided</td>\n",
       "      <td>Regularly (3-5 times/week)</td>\n",
       "      <td>USA</td>\n",
       "      <td>Caucasian</td>\n",
       "      <td>Omnivore</td>\n",
       "    </tr>\n",
       "    <tr>\n",
       "      <th>10317.000028711.57900</th>\n",
       "      <td>20.746500</td>\n",
       "      <td>49.0</td>\n",
       "      <td>female</td>\n",
       "      <td>UBERON:feces</td>\n",
       "      <td>Stool</td>\n",
       "      <td>Not provided</td>\n",
       "      <td>Occasionally (1-2 times/week)</td>\n",
       "      <td>USA</td>\n",
       "      <td>Caucasian</td>\n",
       "      <td>Omnivore</td>\n",
       "    </tr>\n",
       "    <tr>\n",
       "      <th>10317.000013255.60418</th>\n",
       "      <td>22.817671</td>\n",
       "      <td>61.0</td>\n",
       "      <td>female</td>\n",
       "      <td>UBERON:feces</td>\n",
       "      <td>Stool</td>\n",
       "      <td>Not provided</td>\n",
       "      <td>Daily</td>\n",
       "      <td>USA</td>\n",
       "      <td>Caucasian</td>\n",
       "      <td>Omnivore</td>\n",
       "    </tr>\n",
       "    <tr>\n",
       "      <th>10317.000068081.60111</th>\n",
       "      <td>24.646709</td>\n",
       "      <td>50.0</td>\n",
       "      <td>female</td>\n",
       "      <td>UBERON:feces</td>\n",
       "      <td>Stool</td>\n",
       "      <td>25.85</td>\n",
       "      <td>Occasionally (1-2 times/week)</td>\n",
       "      <td>USA</td>\n",
       "      <td>Caucasian</td>\n",
       "      <td>Vegetarian</td>\n",
       "    </tr>\n",
       "    <tr>\n",
       "      <th>10317.000022101.58699</th>\n",
       "      <td>10.913315</td>\n",
       "      <td>34.0</td>\n",
       "      <td>male</td>\n",
       "      <td>UBERON:feces</td>\n",
       "      <td>Stool</td>\n",
       "      <td>Not provided</td>\n",
       "      <td>Occasionally (1-2 times/week)</td>\n",
       "      <td>Australia</td>\n",
       "      <td>Caucasian</td>\n",
       "      <td>Omnivore</td>\n",
       "    </tr>\n",
       "  </tbody>\n",
       "</table>\n",
       "</div>"
      ],
      "text/plain": [
       "                        faith_pd age_corrected     sex     body_site  \\\n",
       "10317.000020104.56754   8.465714          38.0    male  UBERON:feces   \n",
       "10317.000028711.57900  20.746500          49.0  female  UBERON:feces   \n",
       "10317.000013255.60418  22.817671          61.0  female  UBERON:feces   \n",
       "10317.000068081.60111  24.646709          50.0  female  UBERON:feces   \n",
       "10317.000022101.58699  10.913315          34.0    male  UBERON:feces   \n",
       "\n",
       "                      sample_type bmi_corrected  \\\n",
       "10317.000020104.56754       Stool  Not provided   \n",
       "10317.000028711.57900       Stool  Not provided   \n",
       "10317.000013255.60418       Stool  Not provided   \n",
       "10317.000068081.60111       Stool         25.85   \n",
       "10317.000022101.58699       Stool  Not provided   \n",
       "\n",
       "                                  exercise_frequency    country       race  \\\n",
       "10317.000020104.56754     Regularly (3-5 times/week)        USA  Caucasian   \n",
       "10317.000028711.57900  Occasionally (1-2 times/week)        USA  Caucasian   \n",
       "10317.000013255.60418                          Daily        USA  Caucasian   \n",
       "10317.000068081.60111  Occasionally (1-2 times/week)        USA  Caucasian   \n",
       "10317.000022101.58699  Occasionally (1-2 times/week)  Australia  Caucasian   \n",
       "\n",
       "                        diet_type  \n",
       "10317.000020104.56754    Omnivore  \n",
       "10317.000028711.57900    Omnivore  \n",
       "10317.000013255.60418    Omnivore  \n",
       "10317.000068081.60111  Vegetarian  \n",
       "10317.000022101.58699    Omnivore  "
      ]
     },
     "execution_count": 206,
     "metadata": {},
     "output_type": "execute_result"
    }
   ],
   "source": [
    "faiths_meta_df.head()"
   ]
  },
  {
   "cell_type": "code",
   "execution_count": 201,
   "metadata": {},
   "outputs": [
    {
     "data": {
      "text/plain": [
       "Regularly (3-5 times/week)       2726\n",
       "Occasionally (1-2 times/week)    1615\n",
       "Daily                            1378\n",
       "Rarely (a few times/month)        681\n",
       "Never                             160\n",
       "Name: exercise_frequency, dtype: int64"
      ]
     },
     "execution_count": 201,
     "metadata": {},
     "output_type": "execute_result"
    }
   ],
   "source": [
    "faiths_meta_df[\"exercise_frequency\"].value_counts()"
   ]
  },
  {
   "cell_type": "code",
   "execution_count": 237,
   "metadata": {},
   "outputs": [
    {
     "data": {
      "text/plain": [
       "[Text(0, 0, 'Never (n=160)'),\n",
       " Text(0, 0, 'Rarely (n=681)'),\n",
       " Text(0, 0, 'Occasionally (n=1615)'),\n",
       " Text(0, 0, 'Regularly (n=2726)'),\n",
       " Text(0, 0, 'Daily (n=1378)')]"
      ]
     },
     "execution_count": 237,
     "metadata": {},
     "output_type": "execute_result"
    },
    {
     "data": {
      "image/png": "[encoded data removed]",
      "text/plain": [
       "<Figure size 864x576 with 1 Axes>"
      ]
     },
     "metadata": {
      "needs_background": "light"
     },
     "output_type": "display_data"
    }
   ],
   "source": [
    "ax = plt.figure(figsize=(12,8))\n",
    "ax = sns.boxplot(x='exercise_frequency', y='faith_pd', data=faith_meta_df, order=[\"Never\", \"Rarely (a few times/month)\", \"Occasionally (1-2 times/week)\",\n",
    "                                                                                 \"Regularly (3-5 times/week)\", \"Daily\"])\n",
    "ax.set_xticklabels([\"Never (n=160)\", \"Rarely (n=681)\", \"Occasionally (n=1615)\", \"Regularly (n=2726)\", \"Daily (n=1378)\"], rotation=45)\n",
    "ax.set_ylabel(ax.get_ylabel(), fontsize=18)\n",
    "ax.set_xlabel(ax.get_xlabel(), fontsize=18)\n",
    "ax.set_xticklabels(ax.get_xticklabels(), fontsize=14)"
   ]
  },
  {
   "cell_type": "code",
   "execution_count": 217,
   "metadata": {},
   "outputs": [],
   "source": [
    "from scipy import stats\n",
    "faiths_kruskal = stats.kruskal(*[group[\"faith_pd\"].values for name, group in faith_meta_df.groupby(\"exercise_frequency\")])"
   ]
  },
  {
   "cell_type": "code",
   "execution_count": null,
   "metadata": {},
   "outputs": [],
   "source": [
    "faiths_kruskal"
   ]
  },
  {
   "cell_type": "markdown",
   "metadata": {},
   "source": [
    "# Beta diversity"
   ]
  },
  {
   "cell_type": "code",
   "execution_count": 250,
   "metadata": {},
   "outputs": [],
   "source": [
    "from skbio import DistanceMatrix\n",
    "\n",
    "uw_dm = qiime2.Artifact.load('{}/uw-unifrac-distance-matrix.qza'.format(diversity_dir)).view(DistanceMatrix)\n",
    "uw_df = uw_dm.to_data_frame()"
   ]
  },
  {
   "cell_type": "code",
   "execution_count": 251,
   "metadata": {},
   "outputs": [
    {
     "data": {
      "text/html": [
       "<div>\n",
       "<style scoped>\n",
       "    .dataframe tbody tr th:only-of-type {\n",
       "        vertical-align: middle;\n",
       "    }\n",
       "\n",
       "    .dataframe tbody tr th {\n",
       "        vertical-align: top;\n",
       "    }\n",
       "\n",
       "    .dataframe thead th {\n",
       "        text-align: right;\n",
       "    }\n",
       "</style>\n",
       "<table border=\"1\" class=\"dataframe\">\n",
       "  <thead>\n",
       "    <tr style=\"text-align: right;\">\n",
       "      <th></th>\n",
       "      <th>10317.000020104.56754</th>\n",
       "      <th>10317.000028711.57900</th>\n",
       "      <th>10317.000013255.60418</th>\n",
       "      <th>10317.000068081.60111</th>\n",
       "      <th>10317.000022101.58699</th>\n",
       "      <th>10317.000052018.58828</th>\n",
       "      <th>10317.000011143.57854</th>\n",
       "      <th>10317.000011036.56878</th>\n",
       "      <th>10317.000105301.66110</th>\n",
       "      <th>10317.000002202.60204</th>\n",
       "      <th>...</th>\n",
       "      <th>10317.000108647.79396</th>\n",
       "      <th>10317.000013614.59891</th>\n",
       "      <th>10317.000068527.59891</th>\n",
       "      <th>10317.000020655.67836</th>\n",
       "      <th>10317.000107550.74745</th>\n",
       "      <th>10317.000047574.60472</th>\n",
       "      <th>10317.000026504.56754</th>\n",
       "      <th>10317.000035441.57180</th>\n",
       "      <th>10317.000009392.60204</th>\n",
       "      <th>10317.000063585.58828</th>\n",
       "    </tr>\n",
       "  </thead>\n",
       "  <tbody>\n",
       "    <tr>\n",
       "      <th>10317.000020104.56754</th>\n",
       "      <td>0.000000</td>\n",
       "      <td>0.724843</td>\n",
       "      <td>0.747448</td>\n",
       "      <td>0.758872</td>\n",
       "      <td>0.582593</td>\n",
       "      <td>0.630135</td>\n",
       "      <td>0.653458</td>\n",
       "      <td>0.638541</td>\n",
       "      <td>0.729428</td>\n",
       "      <td>0.620893</td>\n",
       "      <td>...</td>\n",
       "      <td>0.730217</td>\n",
       "      <td>0.558377</td>\n",
       "      <td>0.576355</td>\n",
       "      <td>0.692950</td>\n",
       "      <td>0.714567</td>\n",
       "      <td>0.575546</td>\n",
       "      <td>0.678564</td>\n",
       "      <td>0.687699</td>\n",
       "      <td>0.637420</td>\n",
       "      <td>0.724836</td>\n",
       "    </tr>\n",
       "    <tr>\n",
       "      <th>10317.000028711.57900</th>\n",
       "      <td>0.724843</td>\n",
       "      <td>0.000000</td>\n",
       "      <td>0.591309</td>\n",
       "      <td>0.634243</td>\n",
       "      <td>0.698776</td>\n",
       "      <td>0.681914</td>\n",
       "      <td>0.623563</td>\n",
       "      <td>0.613800</td>\n",
       "      <td>0.563026</td>\n",
       "      <td>0.627500</td>\n",
       "      <td>...</td>\n",
       "      <td>0.599503</td>\n",
       "      <td>0.637126</td>\n",
       "      <td>0.618874</td>\n",
       "      <td>0.602819</td>\n",
       "      <td>0.580733</td>\n",
       "      <td>0.655002</td>\n",
       "      <td>0.620935</td>\n",
       "      <td>0.576550</td>\n",
       "      <td>0.760828</td>\n",
       "      <td>0.637254</td>\n",
       "    </tr>\n",
       "    <tr>\n",
       "      <th>10317.000013255.60418</th>\n",
       "      <td>0.747448</td>\n",
       "      <td>0.591309</td>\n",
       "      <td>0.000000</td>\n",
       "      <td>0.612443</td>\n",
       "      <td>0.700068</td>\n",
       "      <td>0.688240</td>\n",
       "      <td>0.587071</td>\n",
       "      <td>0.627214</td>\n",
       "      <td>0.575878</td>\n",
       "      <td>0.648272</td>\n",
       "      <td>...</td>\n",
       "      <td>0.631921</td>\n",
       "      <td>0.659665</td>\n",
       "      <td>0.589456</td>\n",
       "      <td>0.544385</td>\n",
       "      <td>0.554187</td>\n",
       "      <td>0.656549</td>\n",
       "      <td>0.600384</td>\n",
       "      <td>0.540497</td>\n",
       "      <td>0.786709</td>\n",
       "      <td>0.641814</td>\n",
       "    </tr>\n",
       "    <tr>\n",
       "      <th>10317.000068081.60111</th>\n",
       "      <td>0.758872</td>\n",
       "      <td>0.634243</td>\n",
       "      <td>0.612443</td>\n",
       "      <td>0.000000</td>\n",
       "      <td>0.715458</td>\n",
       "      <td>0.710801</td>\n",
       "      <td>0.615191</td>\n",
       "      <td>0.631147</td>\n",
       "      <td>0.559342</td>\n",
       "      <td>0.670715</td>\n",
       "      <td>...</td>\n",
       "      <td>0.551506</td>\n",
       "      <td>0.684322</td>\n",
       "      <td>0.609642</td>\n",
       "      <td>0.581300</td>\n",
       "      <td>0.559490</td>\n",
       "      <td>0.671520</td>\n",
       "      <td>0.557909</td>\n",
       "      <td>0.550991</td>\n",
       "      <td>0.789359</td>\n",
       "      <td>0.608086</td>\n",
       "    </tr>\n",
       "    <tr>\n",
       "      <th>10317.000022101.58699</th>\n",
       "      <td>0.582593</td>\n",
       "      <td>0.698776</td>\n",
       "      <td>0.700068</td>\n",
       "      <td>0.715458</td>\n",
       "      <td>0.000000</td>\n",
       "      <td>0.549705</td>\n",
       "      <td>0.614751</td>\n",
       "      <td>0.592336</td>\n",
       "      <td>0.691009</td>\n",
       "      <td>0.595650</td>\n",
       "      <td>...</td>\n",
       "      <td>0.721467</td>\n",
       "      <td>0.580172</td>\n",
       "      <td>0.567738</td>\n",
       "      <td>0.617233</td>\n",
       "      <td>0.621976</td>\n",
       "      <td>0.541556</td>\n",
       "      <td>0.641770</td>\n",
       "      <td>0.688962</td>\n",
       "      <td>0.664610</td>\n",
       "      <td>0.705721</td>\n",
       "    </tr>\n",
       "  </tbody>\n",
       "</table>\n",
       "<p>5 rows × 6560 columns</p>\n",
       "</div>"
      ],
      "text/plain": [
       "                       10317.000020104.56754  10317.000028711.57900  \\\n",
       "10317.000020104.56754               0.000000               0.724843   \n",
       "10317.000028711.57900               0.724843               0.000000   \n",
       "10317.000013255.60418               0.747448               0.591309   \n",
       "10317.000068081.60111               0.758872               0.634243   \n",
       "10317.000022101.58699               0.582593               0.698776   \n",
       "\n",
       "                       10317.000013255.60418  10317.000068081.60111  \\\n",
       "10317.000020104.56754               0.747448               0.758872   \n",
       "10317.000028711.57900               0.591309               0.634243   \n",
       "10317.000013255.60418               0.000000               0.612443   \n",
       "10317.000068081.60111               0.612443               0.000000   \n",
       "10317.000022101.58699               0.700068               0.715458   \n",
       "\n",
       "                       10317.000022101.58699  10317.000052018.58828  \\\n",
       "10317.000020104.56754               0.582593               0.630135   \n",
       "10317.000028711.57900               0.698776               0.681914   \n",
       "10317.000013255.60418               0.700068               0.688240   \n",
       "10317.000068081.60111               0.715458               0.710801   \n",
       "10317.000022101.58699               0.000000               0.549705   \n",
       "\n",
       "                       10317.000011143.57854  10317.000011036.56878  \\\n",
       "10317.000020104.56754               0.653458               0.638541   \n",
       "10317.000028711.57900               0.623563               0.613800   \n",
       "10317.000013255.60418               0.587071               0.627214   \n",
       "10317.000068081.60111               0.615191               0.631147   \n",
       "10317.000022101.58699               0.614751               0.592336   \n",
       "\n",
       "                       10317.000105301.66110  10317.000002202.60204  ...  \\\n",
       "10317.000020104.56754               0.729428               0.620893  ...   \n",
       "10317.000028711.57900               0.563026               0.627500  ...   \n",
       "10317.000013255.60418               0.575878               0.648272  ...   \n",
       "10317.000068081.60111               0.559342               0.670715  ...   \n",
       "10317.000022101.58699               0.691009               0.595650  ...   \n",
       "\n",
       "                       10317.000108647.79396  10317.000013614.59891  \\\n",
       "10317.000020104.56754               0.730217               0.558377   \n",
       "10317.000028711.57900               0.599503               0.637126   \n",
       "10317.000013255.60418               0.631921               0.659665   \n",
       "10317.000068081.60111               0.551506               0.684322   \n",
       "10317.000022101.58699               0.721467               0.580172   \n",
       "\n",
       "                       10317.000068527.59891  10317.000020655.67836  \\\n",
       "10317.000020104.56754               0.576355               0.692950   \n",
       "10317.000028711.57900               0.618874               0.602819   \n",
       "10317.000013255.60418               0.589456               0.544385   \n",
       "10317.000068081.60111               0.609642               0.581300   \n",
       "10317.000022101.58699               0.567738               0.617233   \n",
       "\n",
       "                       10317.000107550.74745  10317.000047574.60472  \\\n",
       "10317.000020104.56754               0.714567               0.575546   \n",
       "10317.000028711.57900               0.580733               0.655002   \n",
       "10317.000013255.60418               0.554187               0.656549   \n",
       "10317.000068081.60111               0.559490               0.671520   \n",
       "10317.000022101.58699               0.621976               0.541556   \n",
       "\n",
       "                       10317.000026504.56754  10317.000035441.57180  \\\n",
       "10317.000020104.56754               0.678564               0.687699   \n",
       "10317.000028711.57900               0.620935               0.576550   \n",
       "10317.000013255.60418               0.600384               0.540497   \n",
       "10317.000068081.60111               0.557909               0.550991   \n",
       "10317.000022101.58699               0.641770               0.688962   \n",
       "\n",
       "                       10317.000009392.60204  10317.000063585.58828  \n",
       "10317.000020104.56754               0.637420               0.724836  \n",
       "10317.000028711.57900               0.760828               0.637254  \n",
       "10317.000013255.60418               0.786709               0.641814  \n",
       "10317.000068081.60111               0.789359               0.608086  \n",
       "10317.000022101.58699               0.664610               0.705721  \n",
       "\n",
       "[5 rows x 6560 columns]"
      ]
     },
     "execution_count": 251,
     "metadata": {},
     "output_type": "execute_result"
    }
   ],
   "source": [
    "uw_df.head()"
   ]
  },
  {
   "cell_type": "code",
   "execution_count": 255,
   "metadata": {},
   "outputs": [],
   "source": [
    "cat = meta_data_df[\"exercise_frequency\"].loc[uw_df.index]"
   ]
  },
  {
   "cell_type": "code",
   "execution_count": 256,
   "metadata": {},
   "outputs": [
    {
     "data": {
      "text/plain": [
       "method name               PERMANOVA\n",
       "test statistic name        pseudo-F\n",
       "sample size                    6560\n",
       "number of groups                  5\n",
       "test statistic              3.79834\n",
       "p-value                       0.001\n",
       "number of permutations          999\n",
       "Name: PERMANOVA results, dtype: object"
      ]
     },
     "execution_count": 256,
     "metadata": {},
     "output_type": "execute_result"
    }
   ],
   "source": [
    "from skbio.stats.distance import permanova\n",
    "permanova(uw_dm, cat)"
   ]
  },
  {
   "cell_type": "code",
   "execution_count": 258,
   "metadata": {},
   "outputs": [
    {
     "data": {
      "text/plain": [
       "'../results/full/2020_05_15/differential_abundance/differentials.qzv'"
      ]
     },
     "execution_count": 258,
     "metadata": {},
     "output_type": "execute_result"
    }
   ],
   "source": [
    "differentials = qiime2.Artifact.load('{}/differentials.qza'.format(diff_dir))\n",
    "differentials_vis = metadata.visualizers.tabulate(differentials.view(qiime2.Metadata))\n",
    "differentials_vis.visualization.save('{}/differentials.qzv'.format(diff_dir))"
   ]
  },
  {
   "cell_type": "code",
   "execution_count": 269,
   "metadata": {},
   "outputs": [],
   "source": [
    "songbird_df = differentials.view(pd.DataFrame).join(taxonomy_df, how='inner')"
   ]
  },
  {
   "cell_type": "code",
   "execution_count": 270,
   "metadata": {},
   "outputs": [],
   "source": [
    "top10 = songbird_df[\"exercise_frequency[T.Never]\"].sort_values()[0:10].index"
   ]
  },
  {
   "cell_type": "code",
   "execution_count": 273,
   "metadata": {},
   "outputs": [
    {
     "data": {
      "text/plain": [
       "array(['k__Bacteria; p__Proteobacteria; c__Betaproteobacteria; o__Burkholderiales; f__Comamonadaceae; g__Comamonas; s__',\n",
       "       'k__Bacteria; p__Proteobacteria; c__Gammaproteobacteria; o__Enterobacteriales; f__Enterobacteriaceae; g__Providencia; s__',\n",
       "       'k__Bacteria; p__Proteobacteria; c__Gammaproteobacteria; o__Enterobacteriales; f__Enterobacteriaceae; g__Morganella; s__morganii',\n",
       "       'k__Bacteria; p__Proteobacteria; c__Gammaproteobacteria; o__Xanthomonadales; f__Xanthomonadaceae; g__Stenotrophomonas; s__acidaminiphila',\n",
       "       'k__Bacteria; p__Bacteroidetes; c__Bacteroidia; o__Bacteroidales; f__S24-7; g__; s__',\n",
       "       'k__Bacteria; p__Proteobacteria; c__Gammaproteobacteria; o__Xanthomonadales; f__Xanthomonadaceae; g__Stenotrophomonas; s__geniculata',\n",
       "       'k__Bacteria; p__Proteobacteria; c__Gammaproteobacteria; o__Enterobacteriales; f__Enterobacteriaceae; g__Escherichia; s__coli',\n",
       "       'k__Bacteria; p__Proteobacteria; c__Gammaproteobacteria; o__Enterobacteriales; f__Enterobacteriaceae; g__Pantoea; s__agglomerans',\n",
       "       'k__Bacteria; p__Proteobacteria; c__Betaproteobacteria; o__Burkholderiales; f__Comamonadaceae; g__Comamonas; s__',\n",
       "       'k__Bacteria; p__Bacteroidetes; c__Bacteroidia; o__Bacteroidales; f__[Paraprevotellaceae]; g__Paraprevotella; s__'],\n",
       "      dtype=object)"
      ]
     },
     "execution_count": 273,
     "metadata": {},
     "output_type": "execute_result"
    }
   ],
   "source": [
    "songbird_df.loc[top10][\"Taxon\"].values"
   ]
  },
  {
   "cell_type": "markdown",
   "metadata": {},
   "source": [
    "# Adonis"
   ]
  },
  {
   "cell_type": "code",
   "execution_count": 278,
   "metadata": {},
   "outputs": [],
   "source": [
    "adonis_df = pd.read_csv('{}/adonis.tsv'.format(plot_dir), sep='\\t')"
   ]
  },
  {
   "cell_type": "code",
   "execution_count": 279,
   "metadata": {},
   "outputs": [
    {
     "data": {
      "text/html": [
       "<div>\n",
       "<style scoped>\n",
       "    .dataframe tbody tr th:only-of-type {\n",
       "        vertical-align: middle;\n",
       "    }\n",
       "\n",
       "    .dataframe tbody tr th {\n",
       "        vertical-align: top;\n",
       "    }\n",
       "\n",
       "    .dataframe thead th {\n",
       "        text-align: right;\n",
       "    }\n",
       "</style>\n",
       "<table border=\"1\" class=\"dataframe\">\n",
       "  <thead>\n",
       "    <tr style=\"text-align: right;\">\n",
       "      <th></th>\n",
       "      <th>Df</th>\n",
       "      <th>SumsOfSqs</th>\n",
       "      <th>MeanSqs</th>\n",
       "      <th>F.Model</th>\n",
       "      <th>R2</th>\n",
       "      <th>Pr(&gt;F)</th>\n",
       "    </tr>\n",
       "  </thead>\n",
       "  <tbody>\n",
       "    <tr>\n",
       "      <th>exercise_frequency</th>\n",
       "      <td>4</td>\n",
       "      <td>3.001783</td>\n",
       "      <td>0.750446</td>\n",
       "      <td>3.808588</td>\n",
       "      <td>0.002312</td>\n",
       "      <td>0.001</td>\n",
       "    </tr>\n",
       "    <tr>\n",
       "      <th>sex</th>\n",
       "      <td>4</td>\n",
       "      <td>4.271801</td>\n",
       "      <td>1.067950</td>\n",
       "      <td>5.419955</td>\n",
       "      <td>0.003291</td>\n",
       "      <td>0.001</td>\n",
       "    </tr>\n",
       "    <tr>\n",
       "      <th>Residuals</th>\n",
       "      <td>6551</td>\n",
       "      <td>1290.811686</td>\n",
       "      <td>0.197040</td>\n",
       "      <td>NaN</td>\n",
       "      <td>0.994397</td>\n",
       "      <td>NaN</td>\n",
       "    </tr>\n",
       "    <tr>\n",
       "      <th>Total</th>\n",
       "      <td>6559</td>\n",
       "      <td>1298.085269</td>\n",
       "      <td>NaN</td>\n",
       "      <td>NaN</td>\n",
       "      <td>1.000000</td>\n",
       "      <td>NaN</td>\n",
       "    </tr>\n",
       "  </tbody>\n",
       "</table>\n",
       "</div>"
      ],
      "text/plain": [
       "                      Df    SumsOfSqs   MeanSqs   F.Model        R2  Pr(>F)\n",
       "exercise_frequency     4     3.001783  0.750446  3.808588  0.002312   0.001\n",
       "sex                    4     4.271801  1.067950  5.419955  0.003291   0.001\n",
       "Residuals           6551  1290.811686  0.197040       NaN  0.994397     NaN\n",
       "Total               6559  1298.085269       NaN       NaN  1.000000     NaN"
      ]
     },
     "execution_count": 279,
     "metadata": {},
     "output_type": "execute_result"
    }
   ],
   "source": [
    "adonis_df"
   ]
  },
  {
   "cell_type": "markdown",
   "metadata": {},
   "source": [
    "## Literature search"
   ]
  },
  {
   "cell_type": "code",
   "execution_count": 44,
   "metadata": {},
   "outputs": [],
   "source": [
    "all_ = pd.read_csv('../doc/microbiome_exercise_articles_refined.csv', skiprows=1, index_col=0)\n",
    "human = pd.read_csv('../doc/microbiome_exercise_articles_human.csv', skiprows=1, index_col=0)\n",
    "history = pd.read_csv('../doc/PubMedSearchHistory.csv')"
   ]
  },
  {
   "cell_type": "code",
   "execution_count": 45,
   "metadata": {},
   "outputs": [],
   "source": [
    "article_df = pd.concat([all_, human], axis=1).dropna()"
   ]
  },
  {
   "cell_type": "code",
   "execution_count": 47,
   "metadata": {},
   "outputs": [],
   "source": [
    "article_df.columns = [\"All\", \"Human\"]"
   ]
  },
  {
   "cell_type": "code",
   "execution_count": 49,
   "metadata": {},
   "outputs": [
    {
     "data": {
      "text/plain": [
       "Text(0, 0.5, 'Number of publications')"
      ]
     },
     "execution_count": 49,
     "metadata": {},
     "output_type": "execute_result"
    },
    {
     "data": {
      "image/png": "[encoded data removed]",
      "text/plain": [
       "<Figure size 432x288 with 1 Axes>"
      ]
     },
     "metadata": {
      "needs_background": "light"
     },
     "output_type": "display_data"
    }
   ],
   "source": [
    "ax = article_df.plot.bar()\n",
    "ax.set_ylabel('Number of publications')"
   ]
  },
  {
   "cell_type": "code",
   "execution_count": 77,
   "metadata": {},
   "outputs": [],
   "source": [
    "%%bash\n",
    "redbiom search metadata \"exercise_frequency where qiita_study_id == 10317\" > ../doc/agp.ids\n",
    "redbiom summarize metadata-category --category \"exercise_frequency\" --dump > ../doc/exercise_frequency.ids"
   ]
  },
  {
   "cell_type": "code",
   "execution_count": 79,
   "metadata": {},
   "outputs": [],
   "source": [
    "with open('../doc/agp.ids', 'r') as f:\n",
    "    agp_ids = [line.rstrip() for line in f.readlines()]"
   ]
  },
  {
   "cell_type": "code",
   "execution_count": 80,
   "metadata": {},
   "outputs": [],
   "source": [
    "exercise = pd.read_csv('../doc/exercise_frequency.ids', sep='\\t', index_col=0)"
   ]
  },
  {
   "cell_type": "code",
   "execution_count": 110,
   "metadata": {},
   "outputs": [
    {
     "data": {
      "text/plain": [
       "Regularly (3-5 times/week)       9270\n",
       "Occasionally (1-2 times/week)    6217\n",
       "Daily                            5133\n",
       "Rarely (a few times/month)       3132\n",
       "Never                             806\n",
       "Name: exercise_frequency, dtype: int64"
      ]
     },
     "execution_count": 110,
     "metadata": {},
     "output_type": "execute_result"
    }
   ],
   "source": [
    "frequencies = ['Never', 'Rarely (a few times/month)', 'Occasionally (1-2 times/week)', 'Regularly (3-5 times/week)', 'Daily']\n",
    "mapping = {day: i for i, day in enumerate(frequencies)}\n",
    "key = exercise['exercise_frequency'].map(mapping)\n",
    "key = key.dropna()\n",
    "exercise_drops = exercise.loc[key.index]\n",
    "exercise_drops[\"exercise_frequency\"].value_counts()"
   ]
  },
  {
   "cell_type": "code",
   "execution_count": 114,
   "metadata": {},
   "outputs": [
    {
     "data": {
      "text/plain": [
       "[Text(0, 0, 'Never (n=806)'),\n",
       " Text(0, 0, 'Rarely (n=4132)'),\n",
       " Text(0, 0, 'Occasionally (n=6217)'),\n",
       " Text(0, 0, 'Regularly (n=9270)'),\n",
       " Text(0, 0, 'Daily (n=5133)')]"
      ]
     },
     "execution_count": 114,
     "metadata": {},
     "output_type": "execute_result"
    },
    {
     "data": {
      "image/png": "[encoded data removed]",
      "text/plain": [
       "<Figure size 432x288 with 1 Axes>"
      ]
     },
     "metadata": {
      "needs_background": "light"
     },
     "output_type": "display_data"
    }
   ],
   "source": [
    "ax = sns.countplot(x='exercise_frequency', data=exercise_drops, order=['Never', 'Rarely (a few times/month)', 'Occasionally (1-2 times/week)', \n",
    "                                                                       'Regularly (3-5 times/week)', 'Daily'])\n",
    "ax.set_xticklabels([\"Never (n=806)\", \"Rarely (n=3132)\", \"Occasionally (n=6217)\", \"Regularly (n=9270)\", \"Daily (n=5133)\"], rotation=45)\n",
    "ax.set_ylabel(ax.get_ylabel(), fontsize=18)\n",
    "ax.set_xlabel(ax.get_xlabel(), fontsize=18)\n",
    "ax.set_xticklabels(ax.get_xticklabels(), fontsize=14)"
   ]
  },
  {
   "cell_type": "code",
   "execution_count": 90,
   "metadata": {},
   "outputs": [
    {
     "data": {
      "image/png": "[encoded data removed]",
      "text/plain": [
       "<Figure size 432x288 with 1 Axes>"
      ]
     },
     "metadata": {
      "needs_background": "light"
     },
     "output_type": "display_data"
    }
   ],
   "source": [
    "viridis = cm.get_cmap('viridis', 12)\n",
    "ax = plot.bar(color=[viridis(np.random.random()) for i in range(len(exercise))], width=0.8)"
   ]
  },
  {
   "cell_type": "code",
   "execution_count": null,
   "metadata": {},
   "outputs": [],
   "source": []
  }
 ],
 "metadata": {
  "kernelspec": {
   "display_name": "qiime2-2020.2",
   "language": "python",
   "name": "qiime2-2020.2"
  },
  "language_info": {
   "codemirror_mode": {
    "name": "ipython",
    "version": 3
   },
   "file_extension": ".py",
   "mimetype": "text/x-python",
   "name": "python",
   "nbconvert_exporter": "python",
   "pygments_lexer": "ipython3",
   "version": "3.6.7"
  }
 },
 "nbformat": 4,
 "nbformat_minor": 4
}
