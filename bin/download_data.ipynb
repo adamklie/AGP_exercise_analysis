{
 "cells": [
  {
   "cell_type": "markdown",
   "metadata": {},
   "source": [
    "#### Adam Klie<br>04/08/2020\n",
    "# Downloading AGP data via `redbiom`\n",
    "Download AGP feature table and metadata from Qiita\n",
    " - __Output__\n",
    "     - CONTEXT_IS_SUBSET_NUM_SAMP.ids -- IDs of samples to download\n",
    "     - exercise_metadata.list -- a list of metadata in Qiita that contains \"exercise\" keyword\n",
    "     - metadata.tsv -- tab seperated metadata associated with samples contained in CONTEXT_IS_SUBSET_NUM_SAMP.ids\n",
    "     - samples.biom -- sequence by sample table\n",
    "     - \\*.ambiguities -- mapping of samples"
   ]
  },
  {
   "cell_type": "markdown",
   "metadata": {},
   "source": [
    "## Requirements\n",
    "- Follow README.md to set-up environment for data download\n",
    "    - bash kernel\n",
    "    - `redbiom`"
   ]
  },
  {
   "cell_type": "markdown",
   "metadata": {},
   "source": [
    "### 1. Set-up for download"
   ]
  },
  {
   "cell_type": "code",
   "execution_count": 1,
   "metadata": {},
   "outputs": [],
   "source": [
    "# Set some environment variables for filenames \n",
    "TYPE=full  # \"test\" for subset of AGP, \"full\" for entire AGP dataset \n",
    "IS_SUBSET=1  # 0 if TYPE=test, 1 if TYPE=full\n",
    "NUM_SAMP=ALL  # number of samples as int if TYPE=test, \"ALL\" if TYPE=full"
   ]
  },
  {
   "cell_type": "code",
   "execution_count": 2,
   "metadata": {},
   "outputs": [],
   "source": [
    "# Make a data directory if necessary, then move to download in that directory\n",
    "DATE=$(date +%F | sed 's/-/_/g')\n",
    "[ ! -d \"../data/${TYPE}/${DATE}\" ] && mkdir -p ../data/${TYPE}/${DATE}\n",
    "cd ../data/${TYPE}/${DATE}"
   ]
  },
  {
   "cell_type": "markdown",
   "metadata": {},
   "source": [
    "### 1. Define \"exercise\" metadata choices"
   ]
  },
  {
   "cell_type": "code",
   "execution_count": 3,
   "metadata": {},
   "outputs": [],
   "source": [
    "redbiom search metadata \\\n",
    "    --categories \"exercise\" > exercise_metadata_list.txt"
   ]
  },
  {
   "cell_type": "markdown",
   "metadata": {},
   "source": [
    "### 2. Determine how many samples have each metadata feature"
   ]
  },
  {
   "cell_type": "code",
   "execution_count": 4,
   "metadata": {},
   "outputs": [
    {
     "name": "stdout",
     "output_type": "stream",
     "text": [
      "exercise\t1510\n",
      "total_hours_exercise\t161\n",
      "exercise_frequency_unit\t1510\n",
      "exercise_status\t289\n",
      "exercise_frequency\t28017\n",
      "enjoyment_of_exercise\t161\n",
      "pm_lifestyle_change_how_change_in_exercise\t986\n",
      "exercise_location\t26347\n"
     ]
    }
   ],
   "source": [
    "while read p; do\n",
    "  N_SAMPLES=\"$(redbiom summarize metadata-category \\\n",
    "      --category $p --dump | wc -l)\"\n",
    "  echo -e \"$p\\t$N_SAMPLES\"\n",
    "done < exercise_metadata_list.txt"
   ]
  },
  {
   "cell_type": "markdown",
   "metadata": {},
   "source": [
    "### 3. Use exercise_frequency (most frequent and actually has some information in it)"
   ]
  },
  {
   "cell_type": "code",
   "execution_count": 5,
   "metadata": {},
   "outputs": [
    {
     "name": "stdout",
     "output_type": "stream",
     "text": [
      "exercise_frequency\n",
      "LabControl test\t1095\n",
      "Rarely (a few times/month)\t3132\n",
      "Daily\t5133\n",
      "Occasionally (1-2 times/week)\t6217\n",
      "Regularly (3-5 times/week)\t9270\n"
     ]
    }
   ],
   "source": [
    "echo -e \"exercise_frequency\"\n",
    "redbiom summarize metadata-category \\\n",
    "    --category \"exercise_frequency\" \\\n",
    "    --counter | tail -5"
   ]
  },
  {
   "cell_type": "markdown",
   "metadata": {},
   "source": [
    "### 4. Choose a context"
   ]
  },
  {
   "cell_type": "code",
   "execution_count": 6,
   "metadata": {},
   "outputs": [],
   "source": [
    "export CTX=Deblur-Illumina-16S-V4-150nt-780653"
   ]
  },
  {
   "cell_type": "markdown",
   "metadata": {},
   "source": [
    "### 5. Save all AGP sample ids to text file (option to subset)"
   ]
  },
  {
   "cell_type": "code",
   "execution_count": 7,
   "metadata": {},
   "outputs": [
    {
     "name": "stdout",
     "output_type": "stream",
     "text": [
      "Deblur-Illumina-16S-V4-150nt-780653_1_ALL.ids\n"
     ]
    }
   ],
   "source": [
    "export DATASET=${CTX}_${IS_SUBSET}_${NUM_SAMP}.ids\n",
    "echo $DATASET"
   ]
  },
  {
   "cell_type": "code",
   "execution_count": 8,
   "metadata": {},
   "outputs": [
    {
     "name": "stdout",
     "output_type": "stream",
     "text": [
      "26377 Deblur-Illumina-16S-V4-150nt-780653_1_ALL.ids\n"
     ]
    }
   ],
   "source": [
    "if [ $IS_SUBSET -eq 0 ]  # if TYPE=test\n",
    "then\n",
    "    redbiom search metadata \"where qiita_study_id == 10317\" | grep -vi \"blank\" | shuf -n $NUM_SAMP > $DATASET\n",
    "    wc -l $DATASET  \n",
    "else  # if TYPE=full\n",
    "    redbiom search metadata \"where qiita_study_id == 10317\" | grep -vi \"blank\" > $DATASET\n",
    "    wc -l $DATASET\n",
    "fi"
   ]
  },
  {
   "cell_type": "markdown",
   "metadata": {},
   "source": [
    "### 7. Fetch the biom table for these samples and context"
   ]
  },
  {
   "cell_type": "code",
   "execution_count": 9,
   "metadata": {},
   "outputs": [
    {
     "name": "stdout",
     "output_type": "stream",
     "text": [
      "25180 sample ambiguities observed. Writing ambiguity mappings to: samples.biom.ambiguities\n"
     ]
    }
   ],
   "source": [
    "redbiom fetch samples \\\n",
    "    --context $CTX \\\n",
    "    --from $DATASET \\\n",
    "    --output samples.biom"
   ]
  },
  {
   "cell_type": "markdown",
   "metadata": {},
   "source": [
    "### 9. Look at the BIOM table for subset of the samples to verify"
   ]
  },
  {
   "cell_type": "code",
   "execution_count": 10,
   "metadata": {},
   "outputs": [
    {
     "name": "stdout",
     "output_type": "stream",
     "text": [
      "Num samples: 25,180\n",
      "Num observations: 1,028,814\n",
      "Total count: 524,626,716\n",
      "Table density (fraction of non-zero values): 0.000\n",
      "\n",
      "Counts/sample summary:\n",
      " Min: 2.000\n",
      " Max: 499,002.000\n",
      " Median: 14,772.500\n",
      " Mean: 20,835.056\n"
     ]
    }
   ],
   "source": [
    "biom summarize-table -i samples.biom | head"
   ]
  },
  {
   "cell_type": "markdown",
   "metadata": {},
   "source": [
    "### 10. Retrieve all the metadata associated with these samples"
   ]
  },
  {
   "cell_type": "code",
   "execution_count": 11,
   "metadata": {},
   "outputs": [
    {
     "name": "stdout",
     "output_type": "stream",
     "text": [
      "25180 sample ambiguities observed. Writing ambiguity mappings to: metadata.tsv.ambiguities\n"
     ]
    }
   ],
   "source": [
    "redbiom fetch sample-metadata \\\n",
    "    --from $DATASET \\\n",
    "    --context $CTX \\\n",
    "    --output metadata.tsv \\\n",
    "    --all-columns"
   ]
  }
 ],
 "metadata": {
  "kernelspec": {
   "display_name": "Bash",
   "language": "bash",
   "name": "bash"
  },
  "language_info": {
   "codemirror_mode": "shell",
   "file_extension": ".sh",
   "mimetype": "text/x-sh",
   "name": "bash"
  }
 },
 "nbformat": 4,
 "nbformat_minor": 4
}
