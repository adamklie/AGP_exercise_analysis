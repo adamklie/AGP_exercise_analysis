{
 "cells": [
  {
   "cell_type": "markdown",
   "metadata": {},
   "source": [
    "#### Adam Klie<br>04/08/2020\n",
    "# Downloading AGP data via `redbiom`\n",
    "Download AGP feature table and metadata from Qiita"
   ]
  },
  {
   "cell_type": "markdown",
   "metadata": {},
   "source": [
    "## Requirements (details needed)\n",
    "- Follow README.md to set-up environment for data download\n",
    "- At minimum:\n",
    "    - bash kernel\n",
    "    - redbiom"
   ]
  },
  {
   "cell_type": "markdown",
   "metadata": {},
   "source": [
    "### 1. Set-up for download"
   ]
  },
  {
   "cell_type": "code",
   "execution_count": 2,
   "metadata": {},
   "outputs": [],
   "source": [
    "TYPE=test\n",
    "IS_SUBSET=0  # 0 is subset, any other number is full dataset\n",
    "NUM_SAMP=100"
   ]
  },
  {
   "cell_type": "code",
   "execution_count": 3,
   "metadata": {},
   "outputs": [],
   "source": [
    "# Make directory if necessary, then move to download directory\n",
    "DATE=$(date +%F | sed 's/-/_/g')\n",
    "[ ! -d \"../data/${TYPE}/${DATE}\" ] && mkdir -p ../data/${TYPE}/${DATE}\n",
    "cd ../data/${TYPE}/${DATE}"
   ]
  },
  {
   "cell_type": "markdown",
   "metadata": {},
   "source": [
    "### 1. Define \"exercise\" metadata choices"
   ]
  },
  {
   "cell_type": "code",
   "execution_count": 4,
   "metadata": {},
   "outputs": [],
   "source": [
    "redbiom search metadata \\\n",
    "    --categories \"exercise\" > exercise_metadata_list.txt"
   ]
  },
  {
   "cell_type": "markdown",
   "metadata": {},
   "source": [
    "### 2. Determine how many samples have each metadata feature"
   ]
  },
  {
   "cell_type": "code",
   "execution_count": 5,
   "metadata": {},
   "outputs": [
    {
     "name": "stdout",
     "output_type": "stream",
     "text": [
      "pm_lifestyle_change_how_change_in_exercise\t986\n",
      "enjoyment_of_exercise\t161\n",
      "exercise_status\t289\n",
      "exercise\t1510\n",
      "exercise_frequency\t28017\n",
      "exercise_location\t26347\n",
      "total_hours_exercise\t161\n",
      "exercise_frequency_unit\t1510\n"
     ]
    }
   ],
   "source": [
    "while read p; do\n",
    "  N_SAMPLES=\"$(redbiom summarize metadata-category \\\n",
    "      --category $p --dump | wc -l)\"\n",
    "  echo -e \"$p\\t$N_SAMPLES\"\n",
    "done < exercise_metadata_list.txt"
   ]
  },
  {
   "cell_type": "markdown",
   "metadata": {},
   "source": [
    "### 3. Use exercise_frequency (most frequent and actually has some information in it)"
   ]
  },
  {
   "cell_type": "code",
   "execution_count": 6,
   "metadata": {},
   "outputs": [
    {
     "name": "stdout",
     "output_type": "stream",
     "text": [
      "exercise_frequency\n",
      "LabControl test\t1095\n",
      "Rarely (a few times/month)\t3132\n",
      "Daily\t5133\n",
      "Occasionally (1-2 times/week)\t6217\n",
      "Regularly (3-5 times/week)\t9270\n"
     ]
    }
   ],
   "source": [
    "echo -e \"exercise_frequency\"\n",
    "redbiom summarize metadata-category \\\n",
    "    --category \"exercise_frequency\" \\\n",
    "    --counter | tail -5"
   ]
  },
  {
   "cell_type": "markdown",
   "metadata": {},
   "source": [
    "### 4. Choose a context"
   ]
  },
  {
   "cell_type": "code",
   "execution_count": 7,
   "metadata": {},
   "outputs": [],
   "source": [
    "export CTX=Deblur-Illumina-16S-V4-150nt-780653"
   ]
  },
  {
   "cell_type": "markdown",
   "metadata": {},
   "source": [
    "### 5. Save all AGP sample ids to text file (option to subset)"
   ]
  },
  {
   "cell_type": "code",
   "execution_count": 8,
   "metadata": {},
   "outputs": [
    {
     "name": "stdout",
     "output_type": "stream",
     "text": [
      "Deblur-Illumina-16S-V4-150nt-780653_0_100.ids\n"
     ]
    }
   ],
   "source": [
    "export DATASET=${CTX}_${IS_SUBSET}_${NUM_SAMP}.ids\n",
    "echo $DATASET"
   ]
  },
  {
   "cell_type": "code",
   "execution_count": 14,
   "metadata": {},
   "outputs": [
    {
     "name": "stdout",
     "output_type": "stream",
     "text": [
      "100 Deblur-Illumina-16S-V4-150nt-780653_0_100.ids\n"
     ]
    }
   ],
   "source": [
    "if [ $IS_SUBSET -eq 0 ]\n",
    "then\n",
    "    redbiom search metadata \"where qiita_study_id == 10317\" | grep -vi \"blank\" | shuf -n $NUM_SAMP > $DATASET\n",
    "    wc -l $DATASET  \n",
    "else\n",
    "    redbiom search metadata \"where qiita_study_id == 10317\" | grep -vi \"blank\" > $DATASET\n",
    "    wc -l $DATASET\n",
    "fi"
   ]
  },
  {
   "cell_type": "markdown",
   "metadata": {},
   "source": [
    "### 7. Fetch the biom table for these samples and context"
   ]
  },
  {
   "cell_type": "code",
   "execution_count": 15,
   "metadata": {},
   "outputs": [
    {
     "name": "stdout",
     "output_type": "stream",
     "text": [
      "96 sample ambiguities observed. Writing ambiguity mappings to: samples.biom.ambiguities\n"
     ]
    }
   ],
   "source": [
    "redbiom fetch samples \\\n",
    "    --context $CTX \\\n",
    "    --from $DATASET \\\n",
    "    --output samples.biom"
   ]
  },
  {
   "cell_type": "markdown",
   "metadata": {},
   "source": [
    "### 9. Look at the BIOM table for subset of the samples to verify"
   ]
  },
  {
   "cell_type": "code",
   "execution_count": 16,
   "metadata": {},
   "outputs": [
    {
     "name": "stdout",
     "output_type": "stream",
     "text": [
      "Num samples: 96\n",
      "Num observations: 9,405\n",
      "Total count: 2,410,045\n",
      "Table density (fraction of non-zero values): 0.027\n",
      "\n",
      "Counts/sample summary:\n",
      " Min: 49.000\n",
      " Max: 310,599.000\n",
      " Median: 15,544.000\n",
      " Mean: 25,104.635\n"
     ]
    }
   ],
   "source": [
    "biom summarize-table -i samples.biom | head"
   ]
  },
  {
   "cell_type": "markdown",
   "metadata": {},
   "source": [
    "### 10. Retrieve all the metadata associated with these samples"
   ]
  },
  {
   "cell_type": "code",
   "execution_count": 17,
   "metadata": {},
   "outputs": [
    {
     "name": "stdout",
     "output_type": "stream",
     "text": [
      "96 sample ambiguities observed. Writing ambiguity mappings to: metadata.tsv.ambiguities\n"
     ]
    }
   ],
   "source": [
    "redbiom fetch sample-metadata \\\n",
    "    --from $DATASET \\\n",
    "    --context $CTX \\\n",
    "    --output metadata.tsv \\\n",
    "    --all-columns"
   ]
  }
 ],
 "metadata": {
  "kernelspec": {
   "display_name": "Bash",
   "language": "bash",
   "name": "bash"
  },
  "language_info": {
   "codemirror_mode": "shell",
   "file_extension": ".sh",
   "mimetype": "text/x-sh",
   "name": "bash"
  }
 },
 "nbformat": 4,
 "nbformat_minor": 4
}
